{
 "cells": [
  {
   "cell_type": "code",
   "execution_count": 3,
   "metadata": {},
   "outputs": [],
   "source": [
    "# !pip install presidio-analyzer presidio-anonymizer\n",
    "# !python -m spacy download en_core_web_lg"
   ]
  },
  {
   "cell_type": "markdown",
   "metadata": {},
   "source": [
    "- https://microsoft.github.io/presidio/samples/"
   ]
  },
  {
   "cell_type": "code",
   "execution_count": 8,
   "metadata": {},
   "outputs": [],
   "source": [
    "from presidio_analyzer import AnalyzerEngine\n",
    "from presidio_anonymizer import AnonymizerEngine"
   ]
  },
  {
   "cell_type": "code",
   "execution_count": 9,
   "metadata": {},
   "outputs": [],
   "source": [
    "#load the analyzer\n",
    "analyzer = AnalyzerEngine()"
   ]
  },
  {
   "cell_type": "code",
   "execution_count": 6,
   "metadata": {},
   "outputs": [
    {
     "name": "stdout",
     "output_type": "stream",
     "text": [
      "[type: PHONE_NUMBER, start: 14, end: 28, score: 0.4]\n",
      "Contact me at <PHONE_NUMBER> for more information.\n"
     ]
    }
   ],
   "source": [
    "text = \"Contact me at (555) 123-4567 for more information.\"\n",
    "\n",
    "# Call the analyzer to get results\n",
    "results = analyzer.analyze(text=text,\n",
    "                           entities=[\"PHONE_NUMBER\"],\n",
    "                           language='en')\n",
    "\n",
    "print(results)"
   ]
  },
  {
   "cell_type": "code",
   "execution_count": 7,
   "metadata": {},
   "outputs": [
    {
     "name": "stdout",
     "output_type": "stream",
     "text": [
      "Contact me at (555) 123-4567 for more information.\n",
      "Contact me at <PHONE_NUMBER> for more information.\n"
     ]
    }
   ],
   "source": [
    "print(text)\n",
    "\n",
    "# the analyzer results are passed to the AnonymizerEngine for redaction(anonymization)\n",
    "anonymizer = AnonymizerEngine()\n",
    "anonymized_text = anonymizer.anonymize(text=text, analyzer_results=results)\n",
    "\n",
    "print(anonymized_text.text)"
   ]
  },
  {
   "cell_type": "markdown",
   "metadata": {},
   "source": [
    "**Harder example text**"
   ]
  },
  {
   "cell_type": "code",
   "execution_count": 10,
   "metadata": {},
   "outputs": [
    {
     "name": "stdout",
     "output_type": "stream",
     "text": [
      "[type: PHONE_NUMBER, start: 69, end: 83, score: 0.75]\n"
     ]
    }
   ],
   "source": [
    "text = \"Dr. Emily Johnson recently visited our clinic. Her contact number is (555) 123-4567, and her email is emily.johnson@example.com. She lives at 456 E m Street, Springfield, IL 62704.\" \\\n",
    "\n",
    "# Call the analyzer to get results\n",
    "results = analyzer.analyze(text=text,\n",
    "                           entities=[\"PHONE_NUMBER\"],\n",
    "                           language='en')\n",
    "\n",
    "print(results)"
   ]
  },
  {
   "cell_type": "code",
   "execution_count": 13,
   "metadata": {},
   "outputs": [
    {
     "name": "stdout",
     "output_type": "stream",
     "text": [
      "type: EMAIL_ADDRESS, start: 102, end: 127, score: 1.0\n",
      "type: PERSON, start: 4, end: 17, score: 0.85\n",
      "type: LOCATION, start: 158, end: 169, score: 0.85\n",
      "type: PHONE_NUMBER, start: 69, end: 83, score: 0.75\n",
      "type: URL, start: 102, end: 110, score: 0.5\n",
      "type: URL, start: 116, end: 127, score: 0.5\n"
     ]
    }
   ],
   "source": [
    "# Call the analyzer to get results\n",
    "results = analyzer.analyze(text=text,\n",
    "                           language='en')\n",
    "\n",
    "for res in results:\n",
    "    print(res)"
   ]
  },
  {
   "cell_type": "code",
   "execution_count": 14,
   "metadata": {},
   "outputs": [
    {
     "name": "stdout",
     "output_type": "stream",
     "text": [
      "Dr. Emily Johnson recently visited our clinic. Her contact number is (555) 123-4567, and her email is emily.johnson@example.com. She lives at 456 E m Street, Springfield, IL 62704.\n",
      "Dr. <PERSON> recently visited our clinic. Her contact number is <PHONE_NUMBER>, and her email is <EMAIL_ADDRESS>. She lives at 456 E m Street, <LOCATION>, IL 62704.\n"
     ]
    }
   ],
   "source": [
    "print(text)\n",
    "\n",
    "# the analyzer results are passed to the AnonymizerEngine for redaction(anonymization)\n",
    "anonymizer = AnonymizerEngine()\n",
    "anonymized_text = anonymizer.anonymize(text=text, analyzer_results=results)\n",
    "\n",
    "print(anonymized_text.text)"
   ]
  },
  {
   "cell_type": "code",
   "execution_count": null,
   "metadata": {},
   "outputs": [],
   "source": []
  }
 ],
 "metadata": {
  "kernelspec": {
   "display_name": "Python 3",
   "language": "python",
   "name": "python3"
  },
  "language_info": {
   "codemirror_mode": {
    "name": "ipython",
    "version": 3
   },
   "file_extension": ".py",
   "mimetype": "text/x-python",
   "name": "python",
   "nbconvert_exporter": "python",
   "pygments_lexer": "ipython3",
   "version": "3.10.6"
  }
 },
 "nbformat": 4,
 "nbformat_minor": 2
}
