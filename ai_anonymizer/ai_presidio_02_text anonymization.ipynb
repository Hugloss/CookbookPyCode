{
 "cells": [
  {
   "cell_type": "code",
   "execution_count": 3,
   "metadata": {},
   "outputs": [],
   "source": [
    "# !pip install presidio-analyzer presidio-anonymizer\n",
    "# !python -m spacy download en_core_web_lg"
   ]
  },
  {
   "cell_type": "markdown",
   "metadata": {},
   "source": [
    "- https://microsoft.github.io/presidio/samples/"
   ]
  },
  {
   "cell_type": "code",
   "execution_count": 4,
   "metadata": {},
   "outputs": [],
   "source": [
    "import re\n",
    "\n",
    "from presidio_analyzer import AnalyzerEngine\n",
    "from presidio_anonymizer import AnonymizerEngine"
   ]
  },
  {
   "cell_type": "code",
   "execution_count": 5,
   "metadata": {},
   "outputs": [],
   "source": [
    "#load the analyzer\n",
    "analyzer = AnalyzerEngine()"
   ]
  },
  {
   "cell_type": "code",
   "execution_count": 6,
   "metadata": {},
   "outputs": [],
   "source": [
    "def print_colored_pii(string):\n",
    "    colored_string = re.sub(\n",
    "        r\"(<[^>]*>)\", lambda m: \"\\033[31m\" + m.group(1) + \"\\033[0m\", string\n",
    "    )\n",
    "    print(colored_string)"
   ]
  },
  {
   "cell_type": "code",
   "execution_count": 7,
   "metadata": {},
   "outputs": [],
   "source": [
    "document_content = \"\"\"Date: October 19, 2021\n",
    " Witness: John Doe\n",
    " Subject: Testimony Regarding the Loss of Wallet\n",
    "\n",
    " Testimony Content:\n",
    "\n",
    " Hello Officer,\n",
    "\n",
    " My name is John Doe and on October 19, 2021.\n",
    "\n",
    " Dr. Emily Johnson recently visited our clinic. Her contact number is (555) 123-4567, and her email is emily.johnson@example.com.\n",
    "\n",
    " She lives at 456 E m Street, Springfield, IL 62704 and also houses my Social Security Number, 602-76-4532.\n",
    "\n",
    " What's more, I had my polish identity card there, with the number ABC123456.\n",
    "\n",
    " I would like this data to be secured and protected in all possible ways. I believe It was stolen at 9:30 AM.\n",
    "\n",
    " In case any information, please reach out to me on my phone number, 999-888-7777, or through my personal email, johndoe@example.com.\n",
    "\n",
    " My representative at the clinic is Victoria Cherry (her business phone: 987-654-3210).\n",
    "\n",
    " Thank you for your assistance,\n",
    "\n",
    " John Doe\"\"\""
   ]
  },
  {
   "cell_type": "code",
   "execution_count": 9,
   "metadata": {},
   "outputs": [
    {
     "name": "stdout",
     "output_type": "stream",
     "text": [
      "type: EMAIL_ADDRESS, start: 280, end: 305, score: 1.0\n",
      "type: EMAIL_ADDRESS, start: 720, end: 739, score: 1.0\n",
      "type: UK_NHS, start: 815, end: 827, score: 1.0\n",
      "type: DATE_TIME, start: 6, end: 22, score: 0.85\n",
      "type: PERSON, start: 33, end: 41, score: 0.85\n",
      "type: PERSON, start: 142, end: 150, score: 0.85\n",
      "type: DATE_TIME, start: 158, end: 174, score: 0.85\n",
      "type: PERSON, start: 182, end: 195, score: 0.85\n",
      "type: LOCATION, start: 338, end: 349, score: 0.85\n",
      "type: US_SSN, start: 403, end: 414, score: 0.85\n",
      "type: DATE_TIME, start: 597, end: 604, score: 0.85\n",
      "type: PERSON, start: 778, end: 793, score: 0.85\n",
      "type: PERSON, start: 865, end: 873, score: 0.85\n",
      "type: PHONE_NUMBER, start: 247, end: 261, score: 0.75\n",
      "type: PHONE_NUMBER, start: 676, end: 688, score: 0.75\n",
      "type: PHONE_NUMBER, start: 815, end: 827, score: 0.75\n",
      "type: URL, start: 280, end: 288, score: 0.5\n",
      "type: URL, start: 294, end: 305, score: 0.5\n",
      "type: URL, start: 728, end: 739, score: 0.5\n"
     ]
    }
   ],
   "source": [
    "# Call the analyzer to get results\n",
    "results = analyzer.analyze(text=document_content,\n",
    "                           language='en')\n",
    "\n",
    "for res in results:\n",
    "    print(res)"
   ]
  },
  {
   "cell_type": "code",
   "execution_count": 10,
   "metadata": {},
   "outputs": [
    {
     "name": "stdout",
     "output_type": "stream",
     "text": [
      "Date: \u001b[31m<DATE_TIME>\u001b[0m\n",
      " Witness: \u001b[31m<PERSON>\u001b[0m\n",
      " Subject: Testimony Regarding the Loss of Wallet\n",
      "\n",
      " Testimony Content:\n",
      "\n",
      " Hello Officer,\n",
      "\n",
      " My name is \u001b[31m<PERSON>\u001b[0m and on \u001b[31m<DATE_TIME>\u001b[0m.\n",
      "\n",
      " Dr. \u001b[31m<PERSON>\u001b[0m recently visited our clinic. Her contact number is \u001b[31m<PHONE_NUMBER>\u001b[0m, and her email is \u001b[31m<EMAIL_ADDRESS>\u001b[0m.\n",
      "\n",
      " She lives at 456 E m Street, \u001b[31m<LOCATION>\u001b[0m, IL 62704 and also houses my Social Security Number, \u001b[31m<US_SSN>\u001b[0m.\n",
      "\n",
      " What's more, I had my polish identity card there, with the number ABC123456.\n",
      "\n",
      " I would like this data to be secured and protected in all possible ways. I believe It was stolen at \u001b[31m<DATE_TIME>\u001b[0m.\n",
      "\n",
      " In case any information, please reach out to me on my phone number, \u001b[31m<PHONE_NUMBER>\u001b[0m, or through my personal email, \u001b[31m<EMAIL_ADDRESS>\u001b[0m.\n",
      "\n",
      " My representative at the clinic is \u001b[31m<PERSON>\u001b[0m (her business phone: \u001b[31m<UK_NHS>\u001b[0m).\n",
      "\n",
      " Thank you for your assistance,\n",
      "\n",
      " \u001b[31m<PERSON>\u001b[0m\n"
     ]
    }
   ],
   "source": [
    "# the analyzer results are passed to the AnonymizerEngine for redaction(anonymization)\n",
    "anonymizer = AnonymizerEngine()\n",
    "anonymized_text = anonymizer.anonymize(text=document_content, analyzer_results=results)\n",
    "\n",
    "print_colored_pii(anonymized_text.text)"
   ]
  },
  {
   "cell_type": "markdown",
   "metadata": {},
   "source": [
    "**Add new recognizers**\n",
    "- https://microsoft.github.io/presidio/analyzer/adding_recognizers/"
   ]
  },
  {
   "cell_type": "code",
   "execution_count": 23,
   "metadata": {},
   "outputs": [],
   "source": [
    "from presidio_analyzer import Pattern, PatternRecognizer\n",
    "\n",
    "polish_id_pattern = Pattern(\n",
    "    name=\"polish_id_pattern\",\n",
    "    regex=\"[A-Z]{3}\\d{6}\",\n",
    "    score=1,\n",
    ")\n",
    "time_pattern = Pattern(\n",
    "    name=\"time_pattern\",\n",
    "    regex=\"(1[0-2]|0?[1-9]):[0-5][0-9] (AM|PM)\",\n",
    "    score=1,\n",
    ")\n",
    "\n",
    "# Define the recognizer with one or more patterns\n",
    "polish_id_recognizer = PatternRecognizer(\n",
    "    supported_entity=\"POLISH_ID\", patterns=[polish_id_pattern]\n",
    ")\n",
    "time_recognizer = PatternRecognizer(supported_entity=\"TIME\", patterns=[time_pattern])"
   ]
  },
  {
   "cell_type": "code",
   "execution_count": 24,
   "metadata": {},
   "outputs": [],
   "source": [
    "analyzer.registry.add_recognizer(polish_id_recognizer)\n",
    "analyzer.registry.add_recognizer(time_recognizer)"
   ]
  },
  {
   "cell_type": "code",
   "execution_count": 25,
   "metadata": {},
   "outputs": [
    {
     "name": "stdout",
     "output_type": "stream",
     "text": [
      "Date: \u001b[31m<DATE_TIME>\u001b[0m\n",
      " Witness: \u001b[31m<PERSON>\u001b[0m\n",
      " Subject: Testimony Regarding the Loss of Wallet\n",
      "\n",
      " Testimony Content:\n",
      "\n",
      " Hello Officer,\n",
      "\n",
      " My name is \u001b[31m<PERSON>\u001b[0m and on \u001b[31m<DATE_TIME>\u001b[0m.\n",
      "\n",
      " Dr. \u001b[31m<PERSON>\u001b[0m recently visited our clinic. Her contact number is \u001b[31m<PHONE_NUMBER>\u001b[0m, and her email is \u001b[31m<EMAIL_ADDRESS>\u001b[0m.\n",
      "\n",
      " She lives at 456 E m Street, \u001b[31m<LOCATION>\u001b[0m, IL 62704 and also houses my Social Security Number, \u001b[31m<US_SSN>\u001b[0m.\n",
      "\n",
      " What's more, I had my polish identity card there, with the number \u001b[31m<POLISH_ID>\u001b[0m.\n",
      "\n",
      " I would like this data to be secured and protected in all possible ways. I believe It was stolen at \u001b[31m<TIME>\u001b[0m.\n",
      "\n",
      " In case any information, please reach out to me on my phone number, \u001b[31m<PHONE_NUMBER>\u001b[0m, or through my personal email, \u001b[31m<EMAIL_ADDRESS>\u001b[0m.\n",
      "\n",
      " My representative at the clinic is \u001b[31m<PERSON>\u001b[0m (her business phone: \u001b[31m<UK_NHS>\u001b[0m).\n",
      "\n",
      " Thank you for your assistance,\n",
      "\n",
      " \u001b[31m<PERSON>\u001b[0m\n"
     ]
    }
   ],
   "source": [
    "results = analyzer.analyze(text=document_content,\n",
    "                           language='en')\n",
    "anonymized_text = anonymizer.anonymize(text=document_content, analyzer_results=results)\n",
    "\n",
    "print_colored_pii(anonymized_text.text)"
   ]
  },
  {
   "cell_type": "code",
   "execution_count": null,
   "metadata": {},
   "outputs": [],
   "source": []
  }
 ],
 "metadata": {
  "kernelspec": {
   "display_name": "Python 3",
   "language": "python",
   "name": "python3"
  },
  "language_info": {
   "codemirror_mode": {
    "name": "ipython",
    "version": 3
   },
   "file_extension": ".py",
   "mimetype": "text/x-python",
   "name": "python",
   "nbconvert_exporter": "python",
   "pygments_lexer": "ipython3",
   "version": "3.10.6"
  }
 },
 "nbformat": 4,
 "nbformat_minor": 2
}
