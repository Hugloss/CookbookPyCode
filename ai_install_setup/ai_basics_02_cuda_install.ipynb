{
 "cells": [
  {
   "cell_type": "code",
   "execution_count": null,
   "id": "372752d8-e92c-4e32-9a64-df124cc24bd8",
   "metadata": {},
   "outputs": [],
   "source": [
    "import torch"
   ]
  },
  {
   "cell_type": "markdown",
   "id": "6fd36bdd",
   "metadata": {},
   "source": [
    "### Torch CUDA version must be same as CUDA version for nvidia-smi"
   ]
  },
  {
   "cell_type": "code",
   "execution_count": null,
   "id": "3aaa1a89-d54a-4b76-8960-e3788b8ddb68",
   "metadata": {},
   "outputs": [],
   "source": [
    "print(torch.__version__)\n",
    "print(torch.version.cuda)"
   ]
  },
  {
   "cell_type": "code",
   "execution_count": null,
   "id": "66c04ab1-71d5-4c69-bdd9-7c53379571d6",
   "metadata": {},
   "outputs": [],
   "source": [
    "!nvcc -V"
   ]
  },
  {
   "cell_type": "code",
   "execution_count": null,
   "id": "08e90666-b369-4b9a-87b2-eba954ace009",
   "metadata": {},
   "outputs": [],
   "source": [
    "!nvidia-smi"
   ]
  },
  {
   "cell_type": "markdown",
   "id": "c0de9e9b",
   "metadata": {},
   "source": [
    "### Install Torch CUDA version"
   ]
  },
  {
   "cell_type": "code",
   "execution_count": null,
   "id": "2e0987aa-1217-45d2-afcb-7fd8f110b4f2",
   "metadata": {},
   "outputs": [],
   "source": [
    "# !pip3 uninstall -y torch torchvision torchaudio"
   ]
  },
  {
   "cell_type": "code",
   "execution_count": null,
   "id": "9d1bb222-c660-4278-a0d9-74656a148148",
   "metadata": {},
   "outputs": [],
   "source": [
    "# https://pytorch.org/get-started/locally/\n",
    "# !pip3 install --pre torch torchvision torchaudio --index-url https://download.pytorch.org/whl/nightly/cu121"
   ]
  },
  {
   "cell_type": "code",
   "execution_count": null,
   "id": "cf6cdc27",
   "metadata": {},
   "outputs": [],
   "source": [
    "!python -c \"import torch;print(torch.__version__);print(torch.cuda.is_available())\""
   ]
  },
  {
   "cell_type": "markdown",
   "id": "527ba8cc",
   "metadata": {},
   "source": [
    "### Install bits and bites"
   ]
  },
  {
   "cell_type": "code",
   "execution_count": null,
   "id": "dffba70e",
   "metadata": {},
   "outputs": [],
   "source": [
    "!python -m bitsandbytes"
   ]
  },
  {
   "cell_type": "code",
   "execution_count": null,
   "id": "a1bb2071-2341-455e-996e-17a7d4d005cb",
   "metadata": {},
   "outputs": [],
   "source": [
    "# Fix bits and bites\n",
    "# https://github.com/TimDettmers/bitsandbytes/blob/main/how_to_use_nonpytorch_cuda.md\n",
    "# !wget https://raw.githubusercontent.com/TimDettmers/bitsandbytes/main/cuda_install.sh\n",
    "# !cuda_install.sh 121 /usr/local/ 1"
   ]
  },
  {
   "cell_type": "markdown",
   "id": "13d57691",
   "metadata": {},
   "source": [
    "### Cuda Information"
   ]
  },
  {
   "cell_type": "code",
   "execution_count": null,
   "id": "ef216078",
   "metadata": {},
   "outputs": [],
   "source": [
    "def printCudaInfo(cardid = 0):\n",
    "    # setting device on GPU if available, else CPU\n",
    "    device = torch.device('cuda' if torch.cuda.is_available() else 'cpu')\n",
    "    print('Using device:', device)\n",
    "    print()\n",
    "\n",
    "    # Additional Info when using cuda\n",
    "    if device.type == 'cuda':\n",
    "        print(torch.cuda.get_device_name(cardid))\n",
    "        print('Memory Usage:')\n",
    "        t = torch.cuda.get_device_properties(cardid).total_memory\n",
    "        a = torch.cuda.memory_allocated(cardid)\n",
    "        r = torch.cuda.memory_reserved(cardid)\n",
    "        f = r-a\n",
    "        print('Max:      ', round(t/1024**3,1), 'GB')\n",
    "        print('Allocated:', round(a/1024**3,1), 'GB')\n",
    "        print('Cached:   ', round(r/1024**3,1), 'GB')\n",
    "        print('Free:     ', round(f/1024**3,1), 'GB') # free inside reserved"
   ]
  },
  {
   "cell_type": "code",
   "execution_count": null,
   "id": "0928a237",
   "metadata": {},
   "outputs": [],
   "source": [
    "for i in torch.cuda.device_count():\n",
    "    printCudaInfo(i)"
   ]
  }
 ],
 "metadata": {
  "kernelspec": {
   "display_name": "Python 3",
   "language": "python",
   "name": "python3"
  },
  "language_info": {
   "codemirror_mode": {
    "name": "ipython",
    "version": 3
   },
   "file_extension": ".py",
   "mimetype": "text/x-python",
   "name": "python",
   "nbconvert_exporter": "python",
   "pygments_lexer": "ipython3",
   "version": "3.8.10"
  }
 },
 "nbformat": 4,
 "nbformat_minor": 5
}
