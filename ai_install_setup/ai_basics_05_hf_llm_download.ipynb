{
 "cells": [
  {
   "cell_type": "code",
   "execution_count": null,
   "id": "133c54ce-5e05-4766-8529-6fd45565e35d",
   "metadata": {},
   "outputs": [],
   "source": [
    "# !pip install transformers"
   ]
  },
  {
   "cell_type": "code",
   "execution_count": null,
   "id": "99345bdf-14bf-4c30-8729-4f536337f7d3",
   "metadata": {},
   "outputs": [],
   "source": [
    "from transformers import AutoModel, AutoModelForCausalLM, AutoTokenizer"
   ]
  },
  {
   "cell_type": "code",
   "execution_count": null,
   "id": "93c4b097-cee0-4562-a3c8-d08a2469bde5",
   "metadata": {},
   "outputs": [],
   "source": [
    "hf_token = 'key'"
   ]
  },
  {
   "cell_type": "code",
   "execution_count": null,
   "id": "1d0436a3-b178-484a-8942-62a1e1adbb95",
   "metadata": {},
   "outputs": [],
   "source": [
    "base_model_name = \"google/flan-t5-small\"\n",
    "# base_model_name = \"AI-Sweden-Models/gpt-sw3-6.7b-v2-instruct\"\n",
    "# base_model_name = \"AI-Sweden-Models/gpt-sw3-20b-instruct\"\n",
    "# base_model_name = \"AI-Sweden-Models/gpt-sw3-40b\"\n",
    "# base_model_name = \"NousResearch/Llama-2-7b-chat-hf\"\n",
    "# base_model_name = \"meta-llama/Llama-2-7b-chat-hf\"\n",
    "# base_model_name = \"meta-llama/Llama-2-13b-chat-hf\"\n",
    "# base_model_name = \"meta-llama/Llama-2-70b-chat-hf\"\n",
    "# base_model_name = \"codellama/CodeLlama-34b-Instruct-hf\"\n",
    "# base_model_name = \"HuggingFaceH4/starchat-beta\"\n",
    "# base_model_name = \"mistralai/Mistral-7B-Instruct-v0.2\""
   ]
  },
  {
   "cell_type": "code",
   "execution_count": null,
   "id": "d9d2946c-6b6a-4d11-bb1c-e1bc8a9d4c92",
   "metadata": {},
   "outputs": [],
   "source": [
    "tokenizer = AutoTokenizer.from_pretrained(base_model_name, token=hf_token)\n",
    "model = AutoModel.from_pretrained(\n",
    "    base_model_name,\n",
    "    token=hf_token\n",
    ")"
   ]
  }
 ],
 "metadata": {
  "kernelspec": {
   "display_name": "Python 3 (ipykernel)",
   "language": "python",
   "name": "python3"
  },
  "language_info": {
   "codemirror_mode": {
    "name": "ipython",
    "version": 3
   },
   "file_extension": ".py",
   "mimetype": "text/x-python",
   "name": "python",
   "nbconvert_exporter": "python",
   "pygments_lexer": "ipython3",
   "version": "3.10.6"
  }
 },
 "nbformat": 4,
 "nbformat_minor": 5
}
