{
 "cells": [
  {
   "cell_type": "markdown",
   "metadata": {},
   "source": [
    "# Check GPU is CUDA-capable\n",
    "```\n",
    "lspci | grep -i nvidia\n",
    "```\n",
    "https://docs.nvidia.com/cuda/cuda-installation-guide-linux/index.html#verify-you-have-a-cuda-capable-gpu"
   ]
  },
  {
   "cell_type": "markdown",
   "metadata": {},
   "source": [
    "# Installing the NVIDIA Container Toolkit\n",
    "On host install NVIDIA Container Toolkit\n",
    "- https://docs.nvidia.com/datacenter/cloud-native/container-toolkit/latest/install-guide.html\n",
    "- https://docs.nvidia.com/cuda/cuda-installation-guide-linux/index.html#pip-wheels\n",
    "\n",
    "```\n",
    "sudo zypper --gpg-auto-import-keys install -y nvidia-container-toolkit\n",
    "```"
   ]
  },
  {
   "cell_type": "markdown",
   "metadata": {},
   "source": [
    "# Install CUDA toolkit\n",
    "\n",
    "- https://developer.nvidia.com/cuda-downloads?target_os=Linux&target_arch=x86_64&Distribution=SLES&target_version=15&target_type=rpm_network\n",
    "\n",
    "Check CUDA install\n",
    "```\n",
    "nvcc --version\n",
    "```"
   ]
  },
  {
   "cell_type": "markdown",
   "metadata": {},
   "source": [
    "# Configure the Docker daemon\n",
    "```\n",
    "sudo nvidia-ctk runtime configure --runtime=docker\n",
    "```"
   ]
  },
  {
   "cell_type": "markdown",
   "metadata": {},
   "source": [
    "# Flush changes and restart Docker\n",
    "```\n",
    "sudo systemctl daemon-reload\n",
    "sudo systemctl restart docker\n",
    "```"
   ]
  },
  {
   "cell_type": "markdown",
   "metadata": {},
   "source": [
    "# Check host drivers\n",
    "```\n",
    "sudo nvidia-smi\n",
    "```"
   ]
  },
  {
   "cell_type": "markdown",
   "metadata": {},
   "source": [
    "# Check docker get Nvidia runtime\n",
    "```\n",
    "cat /etc/docker/daemon.json\n",
    "```\n",
    "look after this:\n",
    "```\n",
    "  \"runtimes\": {\n",
    "    \"nvidia\": {\n",
    "      \"path\": \"nvidia-container-runtime\",\n",
    "      \"runtimeArgs\": []\n",
    "    }\n",
    "  },\n",
    "  \"default-runtime\": \"nvidia\"\n",
    "```"
   ]
  },
  {
   "cell_type": "markdown",
   "metadata": {},
   "source": [
    "# Check docker drivers\n",
    "```\n",
    "sudo docker run --rm --gpus all ubuntu nvidia-smi\n",
    "```\n",
    "\n",
    "if it return error\n",
    "```\n",
    "docker: Error response from daemon: could not select device driver \"\" with capabilities: [[gpu]].\n",
    "```\n",
    "**Flush changes and restart Docker** has not been returned after installation of **NVIDIA Container Toolkit**"
   ]
  },
  {
   "cell_type": "markdown",
   "metadata": {},
   "source": [
    "# Create CUDA container\n",
    "set variables in Dockerfile instead of on the `docker-run` command-liner\n",
    "```\n",
    "ENV NVIDIA_VISIBLE_DEVICES all\n",
    "ENV NVIDIA_DRIVER_CAPABILITIES compute,utility\n",
    "```\n",
    "\n",
    "- https://docs.nvidia.com/datacenter/cloud-native/container-toolkit/latest/docker-specialized.html#dockerfiles"
   ]
  },
  {
   "cell_type": "markdown",
   "metadata": {},
   "source": [
    "# Official jupyter image\n",
    "```\n",
    "sudo docker run --rm --gpus all tensorflow/tensorflow:latest-gpu-jupyter nvidia-smi\n",
    "```"
   ]
  },
  {
   "cell_type": "markdown",
   "metadata": {},
   "source": [
    "# Check GPU is used\n",
    "```\n",
    "sudo docker run --rm --gpus all tensorflow/tensorflow:latest-gpu-jupyter python -c 'import torch; print(torch.cuda.is_available())'\n",
    "sudo docker run --rm --gpus all tensorflow/tensorflow:latest-gpu-jupyter python -c 'import torch; print(torch.rand(2,3).cuda())'\n",
    "```\n",
    "- https://stackoverflow.com/a/59295489/1564762"
   ]
  },
  {
   "cell_type": "markdown",
   "metadata": {},
   "source": [
    "# Check here also\n",
    "- https://gist.github.com/denguir/b21aa66ae7fb1089655dd9de8351a202\n",
    "- https://hub.docker.com/r/nvidia/cuda\n",
    "- https://github.com/iot-salzburg/gpu-jupyter\n",
    "- https://docs.aws.amazon.com/AWSEC2/latest/UserGuide/install-nvidia-driver.html\n",
    "- https://github.com/NVIDIA/nvidia-docker\n",
    "- https://docs.nvidia.com/datacenter/cloud-native/container-toolkit/1.13.5/install-guide.html#setting-up-docker"
   ]
  },
  {
   "cell_type": "markdown",
   "metadata": {},
   "source": []
  }
 ],
 "metadata": {
  "kernelspec": {
   "display_name": "Python 3",
   "language": "python",
   "name": "python3"
  },
  "language_info": {
   "name": "python",
   "version": "3.10.6"
  },
  "orig_nbformat": 4
 },
 "nbformat": 4,
 "nbformat_minor": 2
}
