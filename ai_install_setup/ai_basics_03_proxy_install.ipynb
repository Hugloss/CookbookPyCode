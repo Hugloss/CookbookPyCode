{
 "cells": [
  {
   "cell_type": "markdown",
   "id": "6fd36bdd",
   "metadata": {},
   "source": [
    "# Check internet works and install via proxy"
   ]
  },
  {
   "cell_type": "code",
   "execution_count": 1,
   "id": "3aaa1a89-d54a-4b76-8960-e3788b8ddb68",
   "metadata": {},
   "outputs": [
    {
     "name": "stdout",
     "output_type": "stream",
     "text": [
      "200\n"
     ]
    }
   ],
   "source": [
    "!curl -Is https://github.com/ --connect-timeout 2.2 | grep \"HTTP\" | cut -d ' ' -f2\n"
   ]
  },
  {
   "cell_type": "code",
   "execution_count": 3,
   "id": "08e90666-b369-4b9a-87b2-eba954ace009",
   "metadata": {},
   "outputs": [
    {
     "name": "stdout",
     "output_type": "stream",
     "text": [
      "200\n"
     ]
    }
   ],
   "source": [
    "!curl -Is https://download.pytorch.org/whl/ --connect-timeout 2.2 | grep \"HTTP\" | cut -d ' ' -f2\n"
   ]
  },
  {
   "cell_type": "code",
   "execution_count": 4,
   "id": "dcf1f033",
   "metadata": {},
   "outputs": [
    {
     "name": "stdout",
     "output_type": "stream",
     "text": [
      "200\n"
     ]
    }
   ],
   "source": [
    "!curl -Is https://developer.download.nvidia.com/compute/cuda/repos/ --connect-timeout 2.2 | grep \"HTTP\" | cut -d ' ' -f2\n"
   ]
  },
  {
   "cell_type": "code",
   "execution_count": 5,
   "id": "7b5ea8ca",
   "metadata": {},
   "outputs": [
    {
     "name": "stdout",
     "output_type": "stream",
     "text": [
      "200\n"
     ]
    }
   ],
   "source": [
    "!curl -Is https://raw.githubusercontent.com/TimDettmers/bitsandbytes/main/cuda_install.sh --connect-timeout 2.2 | grep \"HTTP\" | cut -d ' ' -f2\n"
   ]
  },
  {
   "cell_type": "code",
   "execution_count": 2,
   "id": "66c04ab1-71d5-4c69-bdd9-7c53379571d6",
   "metadata": {},
   "outputs": [
    {
     "name": "stdout",
     "output_type": "stream",
     "text": [
      "200\n"
     ]
    }
   ],
   "source": [
    "!curl -Is https://huggingface.co/ --connect-timeout 2.2 | grep \"HTTP\" | cut -d ' ' -f2\n"
   ]
  },
  {
   "cell_type": "code",
   "execution_count": 6,
   "id": "0f64ba22",
   "metadata": {},
   "outputs": [
    {
     "name": "stdout",
     "output_type": "stream",
     "text": [
      "200\n"
     ]
    }
   ],
   "source": [
    "!curl -Is cdn-lfs.hugginface.co --connect-timeout 2.2 | grep \"HTTP\" | cut -d ' ' -f2\n"
   ]
  }
 ],
 "metadata": {
  "kernelspec": {
   "display_name": "Python 3",
   "language": "python",
   "name": "python3"
  },
  "language_info": {
   "codemirror_mode": {
    "name": "ipython",
    "version": 3
   },
   "file_extension": ".py",
   "mimetype": "text/x-python",
   "name": "python",
   "nbconvert_exporter": "python",
   "pygments_lexer": "ipython3",
   "version": "3.10.6"
  }
 },
 "nbformat": 4,
 "nbformat_minor": 5
}
