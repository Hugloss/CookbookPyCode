{
 "cells": [
  {
   "cell_type": "markdown",
   "metadata": {},
   "source": [
    "- https://medium.com/@pymupdf/highlighting-text-with-pymupdf-08b228044da7"
   ]
  },
  {
   "cell_type": "code",
   "execution_count": 2,
   "metadata": {},
   "outputs": [],
   "source": [
    "# filename = 'https://s3-eu-west-1.amazonaws.com/wwhandbook/files/False-killer-whale-fact-sheet.pdf'"
   ]
  },
  {
   "cell_type": "code",
   "execution_count": 9,
   "metadata": {},
   "outputs": [],
   "source": [
    "import fitz  # import package PyMuPDF\n"
   ]
  },
  {
   "cell_type": "code",
   "execution_count": 10,
   "metadata": {},
   "outputs": [],
   "source": [
    "filename = '../_data/texts/False-killer-whale-fact-sheet.pdf'"
   ]
  },
  {
   "cell_type": "code",
   "execution_count": 16,
   "metadata": {},
   "outputs": [
    {
     "data": {
      "text/plain": [
       "'Highlight' annotation on page 0 of ../_data/texts/False-killer-whale-fact-sheet.pdf"
      ]
     },
     "execution_count": 16,
     "metadata": {},
     "output_type": "execute_result"
    }
   ],
   "source": [
    "# open input PDF\n",
    "doc = fitz.open(filename)\n",
    "\n",
    "# choose page number (0-based)\n",
    "pno = 0\n",
    "\n",
    "# load desired page\n",
    "page = doc[pno]\n",
    "\n",
    "# search for \"whale\", results in a list of rectangles\n",
    "rects = page.search_for(\"False killer whale\")\n",
    "\n",
    "# mark all occurrences in one go\n",
    "page.add_highlight_annot(rects)"
   ]
  },
  {
   "cell_type": "code",
   "execution_count": 17,
   "metadata": {},
   "outputs": [],
   "source": [
    "# save the document with these changes\n",
    "doc.save(\"output.pdf\")"
   ]
  },
  {
   "cell_type": "code",
   "execution_count": null,
   "metadata": {},
   "outputs": [],
   "source": []
  }
 ],
 "metadata": {
  "kernelspec": {
   "display_name": "Python 3",
   "language": "python",
   "name": "python3"
  },
  "language_info": {
   "codemirror_mode": {
    "name": "ipython",
    "version": 3
   },
   "file_extension": ".py",
   "mimetype": "text/x-python",
   "name": "python",
   "nbconvert_exporter": "python",
   "pygments_lexer": "ipython3",
   "version": "3.10.6"
  }
 },
 "nbformat": 4,
 "nbformat_minor": 2
}
