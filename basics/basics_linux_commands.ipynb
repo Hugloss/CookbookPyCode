{
 "cells": [
  {
   "cell_type": "markdown",
   "metadata": {},
   "source": [
    "# File Management Commands in Linux\n",
    "\n",
    "This notebook demonstrates various Linux commands for finding files, managing large files, cleaning up files, and exploring file information."
   ]
  },
  {
   "cell_type": "markdown",
   "id": "b13ed7f0",
   "metadata": {},
   "source": [
    "## Finding Largest Files\n",
    "The following command finds the 50 largest files in the home directory and its subdirectories:\n",
    "\n",
    "```bash\n",
    "find $HOME -type f -printf '%s %p\\n' | sort -nr | head -50\n",
    "```"
   ]
  },
  {
   "cell_type": "code",
   "execution_count": null,
   "id": "91ed6b53",
   "metadata": {},
   "outputs": [],
   "source": [
    "!find $HOME -type f -printf '%s %p\\n' | sort -nr | head -5\n"
   ]
  },
  {
   "cell_type": "markdown",
   "id": "ca91d963",
   "metadata": {},
   "source": [
    "## Finding Unused Files\n",
    "The following command finds files in the cache directory that haven't been accessed in the last 365 days:\n",
    "\n",
    "```bash\n",
    "find ~/.cache/ -depth -type f -atime +365\n",
    "```\n"
   ]
  },
  {
   "cell_type": "code",
   "execution_count": null,
   "id": "cb6a737d",
   "metadata": {},
   "outputs": [],
   "source": [
    "!find $HOME -depth -type f -atime +35 | head -5\n"
   ]
  },
  {
   "cell_type": "code",
   "execution_count": null,
   "id": "9bb0a018",
   "metadata": {},
   "outputs": [],
   "source": [
    "!find ~/.cache/ -depth -type f -atime +35 | head -5\n"
   ]
  },
  {
   "cell_type": "markdown",
   "id": "ccace97d",
   "metadata": {},
   "source": [
    "## Finding Files Created Today\n",
    "The following command finds files created today:\n",
    "\n",
    "```bash\n",
    "find /path/to/search -daystart -ctime 0\n",
    "```\n"
   ]
  },
  {
   "cell_type": "code",
   "execution_count": null,
   "id": "c5745295",
   "metadata": {},
   "outputs": [],
   "source": [
    "!find $HOME -daystart -ctime 0 | head -5\n"
   ]
  },
  {
   "cell_type": "markdown",
   "id": "3f42ec02",
   "metadata": {},
   "source": [
    "## Sorting Biggest Files\n",
    "The following commands sort and display the 50 biggest files in the cache directory:\n",
    "\n",
    "```bash\n",
    "du -h ~/.cache | sort -rh | head -50\n",
    "```"
   ]
  },
  {
   "cell_type": "code",
   "execution_count": null,
   "id": "7c45373c",
   "metadata": {},
   "outputs": [],
   "source": [
    "!du -h ~/.cache/ | sort -rh | head -5"
   ]
  },
  {
   "cell_type": "code",
   "execution_count": null,
   "id": "f6f18fa4",
   "metadata": {},
   "outputs": [],
   "source": [
    "!du -h * | sort -rh | head -5\n"
   ]
  },
  {
   "cell_type": "markdown",
   "id": "ccbee18e",
   "metadata": {},
   "source": [
    "## Sorting Biggest Folders\n",
    "The following command sorts and displays the 15 biggest folders:\n",
    "\n",
    "```bash\n",
    "du -sh * | sort -rh | head -15\n",
    "```\n"
   ]
  },
  {
   "cell_type": "code",
   "execution_count": null,
   "id": "3a6a98f6",
   "metadata": {},
   "outputs": [],
   "source": [
    "!du -sh * | sort -rh | head -15\n"
   ]
  },
  {
   "cell_type": "markdown",
   "id": "40f9c912",
   "metadata": {},
   "source": [
    "## Easy Cleanup with ncdu\n",
    "`ncdu` is a user-friendly alternative to the traditional du command, offering an interactive and dynamic way to explore disk usage, identify large files and directories\n",
    "\n",
    "```bash\n",
    "ncdu .\n",
    "```\n"
   ]
  },
  {
   "cell_type": "markdown",
   "id": "7a62f29e",
   "metadata": {},
   "source": []
  }
 ],
 "metadata": {
  "kernelspec": {
   "display_name": "Python 3",
   "language": "python",
   "name": "python3"
  },
  "language_info": {
   "codemirror_mode": {
    "name": "ipython",
    "version": 3
   },
   "file_extension": ".py",
   "mimetype": "text/x-python",
   "name": "python",
   "nbconvert_exporter": "python",
   "pygments_lexer": "ipython3",
   "version": "3.10.6"
  }
 },
 "nbformat": 4,
 "nbformat_minor": 5
}
