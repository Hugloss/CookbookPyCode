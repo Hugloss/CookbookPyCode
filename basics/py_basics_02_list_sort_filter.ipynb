{
 "cells": [
  {
   "attachments": {},
   "cell_type": "markdown",
   "metadata": {},
   "source": [
    "# Examples of sorting and filtering lists"
   ]
  },
  {
   "cell_type": "code",
   "execution_count": 4,
   "metadata": {},
   "outputs": [],
   "source": [
    "cities = [\n",
    "\t{\n",
    "\t\t\"name\": \"New York City\",\n",
    "\t\t\"version\":\"v15.10.7-ee\",\n",
    "\t\t\"country\": \"United States\",\n",
    "\t\t\"population\": 20.14,\n",
    "\t\t\"area\": 1223.59\n",
    "\t},\n",
    "\t{\n",
    "\t\t\"name\": \"Tokyo\",\n",
    "\t\t\"version\":\"v15.11.3-ee\",\n",
    "\t\t\"country\": \"Japan\",\n",
    "\t\t\"population\": 37.47,\n",
    "\t\t\"area\": 2194.07,\n",
    "\t},\n",
    "\t{\n",
    "\t\t\"name\": \"Los Angeles\",\n",
    "        \"version\":\"v15.9.8-ee\",\n",
    "\t\t\"country\": \"United States\",\n",
    "\t\t\"population\": 13.2,\n",
    "\t\t\"area\": 1299.01,\n",
    "\t},\n",
    "\t{\n",
    "\t\t\"name\": \"Madrid\",\n",
    "        \"version\":\"v15.8.6-ee\",\n",
    "\t\t\"country\": \"Spain\",\n",
    "\t\t\"population\": 6.79,\n",
    "\t\t\"area\": 604.31,\n",
    "\t},\n",
    "\t{\n",
    "\t\t\"name\": \"Osaka\",\n",
    "        \"version\":\"v15.8.5-ee\",\n",
    "\t\t\"country\": \"Japan\",\n",
    "\t\t\"population\": 19.3,\n",
    "\t\t\"area\": 5107.0,\n",
    "\t},\n",
    "\t{\n",
    "\t\t\"name\": \"London\",\n",
    "        \"version\":\"v15.11.13-ee\",\n",
    "\t\t\"country\": \"United Kingdom\",\n",
    "\t\t\"population\": 14.26,\n",
    "\t\t\"area\": 8382.0,\n",
    "\t}\n",
    "]"
   ]
  },
  {
   "cell_type": "markdown",
   "metadata": {},
   "source": [
    "## Sort on population"
   ]
  },
  {
   "cell_type": "code",
   "execution_count": 19,
   "metadata": {},
   "outputs": [
    {
     "data": {
      "text/plain": [
       "[{'name': 'Tokyo',\n",
       "  'version': 'v15.11.3-ee',\n",
       "  'country': 'Japan',\n",
       "  'population': 37.47,\n",
       "  'area': 2194.07},\n",
       " {'name': 'New York City',\n",
       "  'version': 'v15.10.7-ee',\n",
       "  'country': 'United States',\n",
       "  'population': 20.14,\n",
       "  'area': 1223.59},\n",
       " {'name': 'Osaka',\n",
       "  'version': 'v15.8.5-ee',\n",
       "  'country': 'Japan',\n",
       "  'population': 19.3,\n",
       "  'area': 5107.0},\n",
       " {'name': 'London',\n",
       "  'version': 'v15.11.13-ee',\n",
       "  'country': 'United Kingdom',\n",
       "  'population': 14.26,\n",
       "  'area': 8382.0},\n",
       " {'name': 'Los Angeles',\n",
       "  'version': 'v15.9.8-ee',\n",
       "  'country': 'United States',\n",
       "  'population': 13.2,\n",
       "  'area': 1299.01},\n",
       " {'name': 'Madrid',\n",
       "  'version': 'v15.8.6-ee',\n",
       "  'country': 'Spain',\n",
       "  'population': 6.79,\n",
       "  'area': 604.31}]"
      ]
     },
     "execution_count": 19,
     "metadata": {},
     "output_type": "execute_result"
    }
   ],
   "source": [
    "sorted(cities, key=lambda x: x['population'], reverse=True)"
   ]
  },
  {
   "cell_type": "markdown",
   "metadata": {},
   "source": [
    "## Filter on country"
   ]
  },
  {
   "cell_type": "code",
   "execution_count": 20,
   "metadata": {},
   "outputs": [
    {
     "data": {
      "text/plain": [
       "[{'name': 'Tokyo',\n",
       "  'version': 'v15.11.3-ee',\n",
       "  'country': 'Japan',\n",
       "  'population': 37.47,\n",
       "  'area': 2194.07},\n",
       " {'name': 'Osaka',\n",
       "  'version': 'v15.8.5-ee',\n",
       "  'country': 'Japan',\n",
       "  'population': 19.3,\n",
       "  'area': 5107.0}]"
      ]
     },
     "execution_count": 20,
     "metadata": {},
     "output_type": "execute_result"
    }
   ],
   "source": [
    "list(filter(lambda x: x['country']=='Japan', cities))"
   ]
  },
  {
   "cell_type": "markdown",
   "metadata": {},
   "source": [
    "## Filter on cities"
   ]
  },
  {
   "cell_type": "code",
   "execution_count": 8,
   "metadata": {},
   "outputs": [
    {
     "data": {
      "text/plain": [
       "[{'name': 'London',\n",
       "  'version': 'v15.11.13-ee',\n",
       "  'country': 'United Kingdom',\n",
       "  'population': 14.26,\n",
       "  'area': 8382.0}]"
      ]
     },
     "execution_count": 8,
     "metadata": {},
     "output_type": "execute_result"
    }
   ],
   "source": [
    "list(filter(lambda x: x['area']==8382, cities))"
   ]
  },
  {
   "cell_type": "code",
   "execution_count": 9,
   "metadata": {},
   "outputs": [
    {
     "data": {
      "text/plain": [
       "[{'name': 'New York City',\n",
       "  'version': 'v15.10.7-ee',\n",
       "  'country': 'United States',\n",
       "  'population': 20.14,\n",
       "  'area': 1223.59},\n",
       " {'name': 'Tokyo',\n",
       "  'version': 'v15.11.3-ee',\n",
       "  'country': 'Japan',\n",
       "  'population': 37.47,\n",
       "  'area': 2194.07},\n",
       " {'name': 'Los Angeles',\n",
       "  'version': 'v15.9.8-ee',\n",
       "  'country': 'United States',\n",
       "  'population': 13.2,\n",
       "  'area': 1299.01},\n",
       " {'name': 'Madrid',\n",
       "  'version': 'v15.8.6-ee',\n",
       "  'country': 'Spain',\n",
       "  'population': 6.79,\n",
       "  'area': 604.31},\n",
       " {'name': 'Osaka',\n",
       "  'version': 'v15.8.5-ee',\n",
       "  'country': 'Japan',\n",
       "  'population': 19.3,\n",
       "  'area': 5107.0}]"
      ]
     },
     "execution_count": 9,
     "metadata": {},
     "output_type": "execute_result"
    }
   ],
   "source": [
    "list(filter(lambda x: x['area']<6000, cities))"
   ]
  },
  {
   "cell_type": "markdown",
   "metadata": {},
   "source": [
    "## Filter version"
   ]
  },
  {
   "cell_type": "code",
   "execution_count": 10,
   "metadata": {},
   "outputs": [
    {
     "data": {
      "text/plain": [
       "[{'name': 'London',\n",
       "  'version': 'v15.11.13-ee',\n",
       "  'country': 'United Kingdom',\n",
       "  'population': 14.26,\n",
       "  'area': 8382.0},\n",
       " {'name': 'Tokyo',\n",
       "  'version': 'v15.11.3-ee',\n",
       "  'country': 'Japan',\n",
       "  'population': 37.47,\n",
       "  'area': 2194.07},\n",
       " {'name': 'Osaka',\n",
       "  'version': 'v15.8.5-ee',\n",
       "  'country': 'Japan',\n",
       "  'population': 19.3,\n",
       "  'area': 5107.0},\n",
       " {'name': 'Madrid',\n",
       "  'version': 'v15.8.6-ee',\n",
       "  'country': 'Spain',\n",
       "  'population': 6.79,\n",
       "  'area': 604.31},\n",
       " {'name': 'New York City',\n",
       "  'version': 'v15.10.7-ee',\n",
       "  'country': 'United States',\n",
       "  'population': 20.14,\n",
       "  'area': 1223.59},\n",
       " {'name': 'Los Angeles',\n",
       "  'version': 'v15.9.8-ee',\n",
       "  'country': 'United States',\n",
       "  'population': 13.2,\n",
       "  'area': 1299.01}]"
      ]
     },
     "execution_count": 10,
     "metadata": {},
     "output_type": "execute_result"
    }
   ],
   "source": [
    "sorted(cities, key=lambda x: ['' if i.isdigit() else i for i in x['version'].split('.')])"
   ]
  },
  {
   "cell_type": "code",
   "execution_count": null,
   "metadata": {},
   "outputs": [],
   "source": []
  }
 ],
 "metadata": {
  "kernelspec": {
   "display_name": "Python 3",
   "language": "python",
   "name": "python3"
  },
  "language_info": {
   "codemirror_mode": {
    "name": "ipython",
    "version": 3
   },
   "file_extension": ".py",
   "mimetype": "text/x-python",
   "name": "python",
   "nbconvert_exporter": "python",
   "pygments_lexer": "ipython3",
   "version": "3.10.6"
  },
  "orig_nbformat": 4
 },
 "nbformat": 4,
 "nbformat_minor": 2
}
