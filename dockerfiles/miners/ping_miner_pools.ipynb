{
 "cells": [
  {
   "cell_type": "markdown",
   "metadata": {},
   "source": [
    "# Ping miner pools with stratum-ping\n",
    "- https://github.com/2miners/stratum-ping\n",
    "- https://www.reddit.com/r/EtherMining/comments/o7l0qv/stratum_ping_times_for_your_location/\n",
    "\n",
    "Used to check if their is problem with specific pool or port.\n",
    "Check extra if firewall is not correct.\n",
    "\n",
    "When their is proxy problem test\n",
    "- https://stratumproxy.io/"
   ]
  },
  {
   "cell_type": "code",
   "execution_count": 3,
   "metadata": {},
   "outputs": [],
   "source": [
    "# Download stratum-ping\n",
    "# !wget https://github.com/2miners/stratum-ping/releases/download/v1.0.0/stratum-ping-linux-x64.tar.gz\n",
    "# !tar -xf stratum-ping-linux-x64.tar.gz"
   ]
  },
  {
   "cell_type": "code",
   "execution_count": 10,
   "metadata": {},
   "outputs": [],
   "source": [
    "import subprocess\n",
    "import re"
   ]
  },
  {
   "cell_type": "code",
   "execution_count": 2,
   "metadata": {},
   "outputs": [
    {
     "name": "stdout",
     "output_type": "stream",
     "text": [
      "Usage of ./stratum-ping:\n",
      "  -6\tuse ipv6\n",
      "  -c int\n",
      "    \tstop after <count> replies (default 5)\n",
      "  -p string\n",
      "    \tpass (default \"x\")\n",
      "  -t string\n",
      "    \tstratum type: stratum1, stratum2 (default \"stratum2\")\n",
      "  -tls\n",
      "    \tuse TLS\n",
      "  -u string\n",
      "    \tlogin (default \"0x63a14c53f676f34847b5e6179c4f5f5a07f0b1ed\")\n"
     ]
    }
   ],
   "source": [
    "# check startum-ping is downloaded\n",
    "!./stratum-ping -h"
   ]
  },
  {
   "cell_type": "code",
   "execution_count": 1,
   "metadata": {},
   "outputs": [
    {
     "name": "stdout",
     "output_type": "stream",
     "text": [
      "PING stratum stratum-ethw.antpool.com (172.65.231.105) port 443\n",
      "stratum-ethw.antpool.com (172.65.231.105): seq=0, time=575.3173ms\n",
      "stratum-ethw.antpool.com (172.65.231.105): seq=1, time=693.7141ms\n",
      "\n",
      "--- stratum-ethw.antpool.com ping statistics ---\n",
      "2 packets transmitted, 2 received, 0% packet loss, time 3.3333157s\n",
      "min/avg/max = 575.3173ms, 634.5157ms, 693.7141ms\n"
     ]
    }
   ],
   "source": [
    "# run one test\n",
    "!./stratum-ping -c 2 stratum-ethw.antpool.com:443"
   ]
  },
  {
   "cell_type": "code",
   "execution_count": 2,
   "metadata": {},
   "outputs": [
    {
     "name": "stdout",
     "output_type": "stream",
     "text": [
      "\n",
      "\n",
      "---------- START 1 -----------------\n"
     ]
    },
    {
     "name": "stdout",
     "output_type": "stream",
     "text": [
      "PING stratum eth.f2pool.com (172.65.212.50) port 6688\n",
      "eth.f2pool.com (172.65.212.50): seq=0, dial tcp4 172.65.212.50:6688: connect: connection refused\n",
      "\n",
      "--- eth.f2pool.com ping statistics ---\n",
      "1 packets transmitted, 0 received, 100% packet loss, time 13.0325209s\n",
      "\n",
      "\n",
      "---------- START 2 -----------------\n",
      "PING stratum eth.f2pool.com (172.65.212.50) port 6688\n",
      "eth.f2pool.com (172.65.212.50): seq=0, dial tcp4 172.65.212.50:6688: connect: connection refused\n",
      "\n",
      "--- eth.f2pool.com ping statistics ---\n",
      "1 packets transmitted, 0 received, 100% packet loss, time 13.0383973s\n"
     ]
    }
   ],
   "source": [
    "for i in [1, 2]:\n",
    "    print(f'\\n\\n---------- START {i} -----------------')\n",
    "    !./stratum-ping -c 1 eth.f2pool.com:6688\n"
   ]
  },
  {
   "cell_type": "markdown",
   "metadata": {},
   "source": [
    "## Servers"
   ]
  },
  {
   "cell_type": "code",
   "execution_count": 3,
   "metadata": {},
   "outputs": [],
   "source": [
    "rvn_servers = [\n",
    "    [\"Cruxpool\", \"Europe\", \"stratum+tcp://eu.cruxpool.com:9999\"],\n",
    "    [\"HeroMiners\", \"Global\", \"stratum+tcp://ravencoin.herominers.com:10240\"],\n",
    "    [\"BSOD.PW\", \"Europe\", \"stratum+tcp://eu.bsod.pw:2640\"],\n",
    "    [\"MinerMore\", \"Europe\", \"stratum+tcp://eu.rvn.minermore.com:4501\"],\n",
    "    [\"Suprnova\", \"Global\", \"stratum+tcp://rvn.suprnova.cc:8888\"],\n",
    "    [\"2miners.com\", \"Global\", \"stratum+tcp://rvn.2miners.com:6060\"],\n",
    "    [\"RavenMiner\", \"Global\", \"stratum+tcp://stratum.ravenminer.com:3838\"],\n",
    "    [\"Nanopool\", \"Europe 1\", \"stratum+tcp://rvn-eu1.nanopool.org:12222\"],\n",
    "    [\"Nanopool\", \"Europe 1 (SSL)\", \"stratum+ssl://rvn-eu1.nanopool.org:12433\"],\n",
    "    [\"K1Pool\", \"Europe\", \"stratum+tcp://eu.rvn.k1pool.com:7861\"]]\n"
   ]
  },
  {
   "cell_type": "code",
   "execution_count": 4,
   "metadata": {},
   "outputs": [],
   "source": [
    "eth_servers = [\n",
    "    [\"2Miners\", \"Global\", \"stratum+tcp://eth.2miners.com:2020\"],\n",
    "    [\"HelloMiner\", \"EU1\", \"stratum+tcp://eth-eu1.hellominer.com:1100\"],\n",
    "    [\"Unmineable\", \"Global\", \"stratum+tcp://ethash.unmineable.com:3333\"],\n",
    "    [\"F2Pool\", \"Global\", \"stratum+tcp://etc.f2pool.com:8118\"],\n",
    "    [\"F2Pool\", \"Global\", \"stratum+tcp://eth.f2pool.com:6688\"]\n",
    "]\n"
   ]
  },
  {
   "cell_type": "code",
   "execution_count": 5,
   "metadata": {},
   "outputs": [],
   "source": [
    "test_servers = [\n",
    "    # Adding AntPool servers\n",
    "    [\"AntPool\", \"Global\", \"stratum+tcp://stratum.antpool.com:25\"],\n",
    "    [\"AntPool\", \"Global\", \"stratum+tcp://stratum.antpool.com:3333\"],\n",
    "    [\"AntPool\", \"Global\", \"stratum+tcp://stratum.antpool.com:443\"],\n",
    "    [\"AntPool\", \"Global\", \"stratum+tcp://stratum.antpool.com:445\"],\n",
    "    # Adding Ravencoin server on AntPool\n",
    "    [\"AntPool\", \"RVN\", \"stratum+tcp://rvn.antpool.com:8003\"],\n",
    "    # Adding Kaspa server on AntPool\n",
    "    [\"AntPool\", \"KAS\", \"stratum+tcp://kas.antpool.com:445\"],\n",
    "    # Adding EthereumWorld servers on AntPool\n",
    "    [\"AntPool\", \"ETHW\", \"stratum+tcp://stratum-ethw.antpool.com:25\"],\n",
    "    [\"AntPool\", \"ETHW\", \"stratum+tcp://stratum-ethw.antpool.com:443\"],\n",
    "    # Adding Poolin servers for EthereumWorld\n",
    "    [\"Poolin\", \"ETHW\", \"stratum+tcp://ethw.ss.poolin.one:443\"],\n",
    "    [\"Poolin\", \"ETHW\", \"stratum+tcp://ethw.ss.poolin.one:1883\"],\n",
    "    [\"Poolin\", \"ETHW\", \"stratum+tcp://ethw.ss.poolin.one:700\"]\n",
    "    [\"Xmrig\", \"Global\", \"stratum+tcp://donate.ssl.xmrig.com:443\"]\n",
    "]"
   ]
  },
  {
   "cell_type": "code",
   "execution_count": 15,
   "metadata": {},
   "outputs": [],
   "source": [
    "# combine all servers\n",
    "all_servers = test_servers + rvn_servers + eth_servers"
   ]
  },
  {
   "cell_type": "markdown",
   "metadata": {},
   "source": [
    "## Check all servers"
   ]
  },
  {
   "cell_type": "code",
   "execution_count": 7,
   "metadata": {},
   "outputs": [],
   "source": [
    "def successful_transmission(text):\n",
    "    # Regex to find the number of packets received\n",
    "    packets_received_pattern = r\", (\\d+) received,\"\n",
    "    packets_received_match = re.search(packets_received_pattern, text)\n",
    "    return int(packets_received_match.group(1))\n",
    "\n",
    "def run_stratum_ping(server):\n",
    "    # The command to run, assuming stratum-ping is in the current working directory or in the PATH\n",
    "    command = ['./stratum-ping', '-c', '1', server]\n",
    "\n",
    "    # Execute the command\n",
    "    try:\n",
    "        # If you want to capture the output\n",
    "        result = subprocess.run(command, check=True, stdout=subprocess.PIPE, stderr=subprocess.PIPE, text=True)\n",
    "\n",
    "        # # Print the standard output\n",
    "        # print(result.stdout)\n",
    "\n",
    "        # # Check if there were any errors\n",
    "        # if result.stderr:\n",
    "        #     print(\"Errors:\\n\", result.stderr)\n",
    "    except subprocess.CalledProcessError as e:\n",
    "        print(\"An error occurred while trying to execute stratum-ping:\", str(e))\n",
    "    except FileNotFoundError:\n",
    "        print(\"stratum-ping executable not found. Ensure it's in the current working directory or its path is correctly set.\")\n",
    "\n",
    "    return [successful_transmission(result.stdout), server, result.stdout]\n"
   ]
  },
  {
   "cell_type": "code",
   "execution_count": 8,
   "metadata": {},
   "outputs": [],
   "source": [
    "def check_stratum_ping(servers):\n",
    "    for i, server in enumerate(servers):\n",
    "        print(f'\\n\\n---------- START {i} -----------------')\n",
    "        res = run_stratum_ping(server)\n",
    "        print(res)"
   ]
  },
  {
   "cell_type": "code",
   "execution_count": 12,
   "metadata": {},
   "outputs": [
    {
     "name": "stdout",
     "output_type": "stream",
     "text": [
      "\n",
      "\n",
      "---------- START 0 -----------------\n",
      "[0, 'eth.f2pool.com:6688', 'PING stratum eth.f2pool.com (172.65.212.50) port 6688\\neth.f2pool.com (172.65.212.50): seq=0, dial tcp4 172.65.212.50:6688: connect: connection refused\\n\\n--- eth.f2pool.com ping statistics ---\\n1 packets transmitted, 0 received, 100% packet loss, time 14.0238081s\\n']\n",
      "\n",
      "\n",
      "---------- START 1 -----------------\n",
      "[0, 'rvn-asia1.nanopool.org:12433', 'PING stratum rvn-asia1.nanopool.org (103.3.62.64) port 12433\\nrvn-asia1.nanopool.org (103.3.62.64): seq=0, dial tcp4 103.3.62.64:12433: connect: connection refused\\n\\n--- rvn-asia1.nanopool.org ping statistics ---\\n1 packets transmitted, 0 received, 100% packet loss, time 13.034823s\\n']\n"
     ]
    }
   ],
   "source": [
    "# sample test\n",
    "# res = check_stratum_ping(['donate.ssl.xmrig.com:443'])\n",
    "check_stratum_ping(['eth.f2pool.com:6688', 'rvn-asia1.nanopool.org:12433'])"
   ]
  },
  {
   "cell_type": "code",
   "execution_count": 13,
   "metadata": {},
   "outputs": [],
   "source": [
    "def check_all_servers(servers):\n",
    "    results = []\n",
    "    # strip protocol from adress\n",
    "    server_addresses = [server[2].replace('stratum+ssl://', '').replace('stratum+tcp://', '') for server in servers]\n",
    "    for server in server_addresses:\n",
    "        res = run_stratum_ping(server)\n",
    "        print(res)\n",
    "        results.append(res)\n",
    "\n",
    "    return results"
   ]
  },
  {
   "cell_type": "code",
   "execution_count": 16,
   "metadata": {},
   "outputs": [
    {
     "name": "stdout",
     "output_type": "stream",
     "text": [
      "[0, 'eu.cruxpool.com:9999', 'PING stratum eu.cruxpool.com (37.120.164.199) port 9999\\neu.cruxpool.com (37.120.164.199): seq=0, dial tcp4 37.120.164.199:9999: connect: connection refused\\n\\n--- eu.cruxpool.com ping statistics ---\\n1 packets transmitted, 0 received, 100% packet loss, time 13.0347169s\\n']\n",
      "[0, 'ravencoin.herominers.com:10240', 'PING stratum ravencoin.herominers.com (141.95.126.31) port 10240\\nravencoin.herominers.com (141.95.126.31): seq=0, dial tcp4 141.95.126.31:10240: connect: connection refused\\n\\n--- ravencoin.herominers.com ping statistics ---\\n1 packets transmitted, 0 received, 100% packet loss, time 13.0527469s\\n']\n",
      "[0, 'eu.bsod.pw:2640', 'PING stratum eu.bsod.pw (103.224.182.238) port 2640\\neu.bsod.pw (103.224.182.238): seq=0, dial tcp4 103.224.182.238:2640: connect: connection refused\\n\\n--- eu.bsod.pw ping statistics ---\\n1 packets transmitted, 0 received, 100% packet loss, time 13.2146946s\\n']\n",
      "[0, 'eu.rvn.minermore.com:4501', 'PING stratum eu.rvn.minermore.com (136.244.92.193) port 4501\\neu.rvn.minermore.com (136.244.92.193): seq=0, dial tcp4 136.244.92.193:4501: connect: connection refused\\n\\n--- eu.rvn.minermore.com ping statistics ---\\n1 packets transmitted, 0 received, 100% packet loss, time 13.0231879s\\n']\n",
      "[0, 'rvn.suprnova.cc:8888', 'PING stratum rvn.suprnova.cc (5.39.65.109) port 8888\\nrvn.suprnova.cc (5.39.65.109): seq=0, dial tcp4 5.39.65.109:8888: connect: connection refused\\n\\n--- rvn.suprnova.cc ping statistics ---\\n1 packets transmitted, 0 received, 100% packet loss, time 13.0312037s\\n']\n",
      "[0, 'rvn.2miners.com:6060', 'PING stratum rvn.2miners.com (51.89.99.172) port 6060\\nrvn.2miners.com (51.89.99.172): seq=0, dial tcp4 51.89.99.172:6060: connect: connection refused\\n\\n--- rvn.2miners.com ping statistics ---\\n1 packets transmitted, 0 received, 100% packet loss, time 14.1089514s\\n']\n",
      "[0, 'stratum.ravenminer.com:3838', 'PING stratum stratum.ravenminer.com (88.99.120.132) port 3838\\nstratum.ravenminer.com (88.99.120.132): seq=0, dial tcp4 88.99.120.132:3838: connect: connection refused\\n\\n--- stratum.ravenminer.com ping statistics ---\\n1 packets transmitted, 0 received, 100% packet loss, time 13.0556559s\\n']\n",
      "[0, 'rvn-eu1.nanopool.org:12222', 'PING stratum rvn-eu1.nanopool.org (163.172.162.51) port 12222\\nrvn-eu1.nanopool.org (163.172.162.51): seq=0, dial tcp4 163.172.162.51:12222: connect: connection refused\\n\\n--- rvn-eu1.nanopool.org ping statistics ---\\n1 packets transmitted, 0 received, 100% packet loss, time 13.0202289s\\n']\n",
      "[0, 'rvn-eu1.nanopool.org:12433', 'PING stratum rvn-eu1.nanopool.org (51.15.54.102) port 12433\\nrvn-eu1.nanopool.org (51.15.54.102): seq=0, dial tcp4 51.15.54.102:12433: connect: connection refused\\n\\n--- rvn-eu1.nanopool.org ping statistics ---\\n1 packets transmitted, 0 received, 100% packet loss, time 13.0856824s\\n']\n",
      "[0, 'eu.rvn.k1pool.com:7861', 'PING stratum eu.rvn.k1pool.com (51.210.219.138) port 7861\\neu.rvn.k1pool.com (51.210.219.138): seq=0, dial tcp4 51.210.219.138:7861: connect: connection refused\\n\\n--- eu.rvn.k1pool.com ping statistics ---\\n1 packets transmitted, 0 received, 100% packet loss, time 13.0275565s\\n']\n",
      "[0, 'eth.2miners.com:2020', 'PING stratum eth.2miners.com (51.195.88.15) port 2020\\neth.2miners.com (51.195.88.15): seq=0, dial tcp4 51.195.88.15:2020: connect: connection refused\\n\\n--- eth.2miners.com ping statistics ---\\n1 packets transmitted, 0 received, 100% packet loss, time 13.0266964s\\n']\n",
      "[0, 'eth-eu1.hellominer.com:1100', 'PING stratum eth-eu1.hellominer.com (52.232.17.180) port 1100\\neth-eu1.hellominer.com (52.232.17.180): seq=0, dial tcp4 52.232.17.180:1100: connect: connection refused\\n\\n--- eth-eu1.hellominer.com ping statistics ---\\n1 packets transmitted, 0 received, 100% packet loss, time 13.0589074s\\n']\n",
      "[0, 'ethash.unmineable.com:3333', 'PING stratum ethash.unmineable.com (138.68.130.227) port 3333\\nethash.unmineable.com (138.68.130.227): seq=0, dial tcp4 138.68.130.227:3333: connect: connection refused\\n\\n--- ethash.unmineable.com ping statistics ---\\n1 packets transmitted, 0 received, 100% packet loss, time 13.0286717s\\n']\n",
      "[0, 'etc.f2pool.com:8118', 'PING stratum etc.f2pool.com (172.65.197.4) port 8118\\netc.f2pool.com (172.65.197.4): seq=0, dial tcp4 172.65.197.4:8118: connect: connection refused\\n\\n--- etc.f2pool.com ping statistics ---\\n1 packets transmitted, 0 received, 100% packet loss, time 14.0959714s\\n']\n",
      "[0, 'eth.f2pool.com:6688', 'PING stratum eth.f2pool.com (172.65.212.50) port 6688\\neth.f2pool.com (172.65.212.50): seq=0, dial tcp4 172.65.212.50:6688: connect: connection refused\\n\\n--- eth.f2pool.com ping statistics ---\\n1 packets transmitted, 0 received, 100% packet loss, time 13.0298673s\\n']\n",
      "[0, 'stratum.antpool.com:25', 'PING stratum stratum.antpool.com (172.65.209.66) port 25\\nstratum.antpool.com (172.65.209.66): seq=0, dial tcp4 172.65.209.66:25: connect: connection refused\\n\\n--- stratum.antpool.com ping statistics ---\\n1 packets transmitted, 0 received, 100% packet loss, time 13.0309359s\\n']\n",
      "[0, 'stratum.antpool.com:3333', 'PING stratum stratum.antpool.com (172.65.209.66) port 3333\\nstratum.antpool.com (172.65.209.66): seq=0, dial tcp4 172.65.209.66:3333: connect: connection refused\\n\\n--- stratum.antpool.com ping statistics ---\\n1 packets transmitted, 0 received, 100% packet loss, time 13.0322096s\\n']\n",
      "[1, 'stratum.antpool.com:443', 'PING stratum stratum.antpool.com (172.65.209.66) port 443\\nstratum.antpool.com (172.65.209.66): seq=0, time=104.5889ms\\n\\n--- stratum.antpool.com ping statistics ---\\n1 packets transmitted, 1 received, 0% packet loss, time 1.1389467s\\nmin/avg/max = 104.5889ms, 104.5889ms, 104.5889ms\\n']\n",
      "[0, 'stratum.antpool.com:445', 'PING stratum stratum.antpool.com (172.65.209.66) port 445\\nstratum.antpool.com (172.65.209.66): seq=0, dial tcp4 172.65.209.66:445: connect: connection refused\\n\\n--- stratum.antpool.com ping statistics ---\\n1 packets transmitted, 0 received, 100% packet loss, time 13.0317636s\\n']\n",
      "[0, 'rvn.antpool.com:8003', 'PING stratum rvn.antpool.com (172.65.170.148) port 8003\\nrvn.antpool.com (172.65.170.148): seq=0, dial tcp4 172.65.170.148:8003: connect: connection refused\\n\\n--- rvn.antpool.com ping statistics ---\\n1 packets transmitted, 0 received, 100% packet loss, time 13.0245581s\\n']\n",
      "[0, 'kas.antpool.com:445', 'PING stratum kas.antpool.com (172.65.241.160) port 445\\nkas.antpool.com (172.65.241.160): seq=0, dial tcp4 172.65.241.160:445: connect: connection refused\\n\\n--- kas.antpool.com ping statistics ---\\n1 packets transmitted, 0 received, 100% packet loss, time 13.026892s\\n']\n",
      "[0, 'stratum-ethw.antpool.com:25', 'PING stratum stratum-ethw.antpool.com (172.65.231.105) port 25\\nstratum-ethw.antpool.com (172.65.231.105): seq=0, dial tcp4 172.65.231.105:25: connect: connection refused\\n\\n--- stratum-ethw.antpool.com ping statistics ---\\n1 packets transmitted, 0 received, 100% packet loss, time 13.074076s\\n']\n",
      "[1, 'stratum-ethw.antpool.com:443', 'PING stratum stratum-ethw.antpool.com (172.65.231.105) port 443\\nstratum-ethw.antpool.com (172.65.231.105): seq=0, time=601.1241ms\\n\\n--- stratum-ethw.antpool.com ping statistics ---\\n1 packets transmitted, 1 received, 0% packet loss, time 1.6314555s\\nmin/avg/max = 601.1241ms, 601.1241ms, 601.1241ms\\n']\n",
      "[1, 'ethw.ss.poolin.one:443', 'PING stratum ethw.ss.poolin.one (172.65.223.165) port 443\\nethw.ss.poolin.one (172.65.223.165): seq=0, time=509.2323ms\\n\\n--- ethw.ss.poolin.one ping statistics ---\\n1 packets transmitted, 1 received, 0% packet loss, time 1.5423967s\\nmin/avg/max = 509.2323ms, 509.2323ms, 509.2323ms\\n']\n",
      "[0, 'ethw.ss.poolin.one:1883', 'PING stratum ethw.ss.poolin.one (172.65.223.165) port 1883\\nethw.ss.poolin.one (172.65.223.165): seq=0, dial tcp4 172.65.223.165:1883: connect: connection refused\\n\\n--- ethw.ss.poolin.one ping statistics ---\\n1 packets transmitted, 0 received, 100% packet loss, time 13.0384696s\\n']\n",
      "[0, 'ethw.ss.poolin.one:700', 'PING stratum ethw.ss.poolin.one (172.65.223.165) port 700\\nethw.ss.poolin.one (172.65.223.165): seq=0, dial tcp4 172.65.223.165:700: connect: connection refused\\n\\n--- ethw.ss.poolin.one ping statistics ---\\n1 packets transmitted, 0 received, 100% packet loss, time 13.0333654s\\n']\n"
     ]
    }
   ],
   "source": [
    "res = check_all_servers(all_servers)\n",
    "# res = check_all_servers(eth_servers)\n",
    "# res = check_all_servers(rvn_servers)\n",
    "# res = check_all_servers(test_servers)"
   ]
  },
  {
   "cell_type": "code",
   "execution_count": null,
   "metadata": {},
   "outputs": [],
   "source": []
  }
 ],
 "metadata": {
  "kernelspec": {
   "display_name": "Python 3",
   "language": "python",
   "name": "python3"
  },
  "language_info": {
   "codemirror_mode": {
    "name": "ipython",
    "version": 3
   },
   "file_extension": ".py",
   "mimetype": "text/x-python",
   "name": "python",
   "nbconvert_exporter": "python",
   "pygments_lexer": "ipython3",
   "version": "3.10.6"
  }
 },
 "nbformat": 4,
 "nbformat_minor": 2
}
