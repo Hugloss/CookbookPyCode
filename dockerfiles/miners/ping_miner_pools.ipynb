{
 "cells": [
  {
   "cell_type": "markdown",
   "metadata": {},
   "source": [
    "# Ping miner pools with stratum-ping\n",
    "- https://github.com/2miners/stratum-ping\n",
    "- https://www.reddit.com/r/EtherMining/comments/o7l0qv/stratum_ping_times_for_your_location/\n",
    "\n",
    "Used to check if their is problem with specific pool or port.\n",
    "Check extra if firewall is not correct.\n",
    "\n",
    "When their is proxy problem test\n",
    "- https://stratumproxy.io/"
   ]
  },
  {
   "cell_type": "code",
   "execution_count": 95,
   "metadata": {},
   "outputs": [],
   "source": [
    "# Download stratum-ping\n",
    "# !wget https://github.com/2miners/stratum-ping/releases/download/v1.0.0/stratum-ping-linux-x64.tar.gz\n",
    "# !tar -xf stratum-ping-linux-x64.tar.gz"
   ]
  },
  {
   "cell_type": "code",
   "execution_count": 96,
   "metadata": {},
   "outputs": [],
   "source": [
    "import subprocess\n",
    "import re"
   ]
  },
  {
   "cell_type": "code",
   "execution_count": 97,
   "metadata": {},
   "outputs": [
    {
     "name": "stdout",
     "output_type": "stream",
     "text": [
      "Usage of ./stratum-ping:\n",
      "  -6\tuse ipv6\n",
      "  -c int\n",
      "    \tstop after <count> replies (default 5)\n",
      "  -p string\n",
      "    \tpass (default \"x\")\n",
      "  -t string\n",
      "    \tstratum type: stratum1, stratum2 (default \"stratum2\")\n",
      "  -tls\n",
      "    \tuse TLS\n",
      "  -u string\n",
      "    \tlogin (default \"0x63a14c53f676f34847b5e6179c4f5f5a07f0b1ed\")\n"
     ]
    }
   ],
   "source": [
    "# check startum-ping is downloaded\n",
    "!./stratum-ping -h"
   ]
  },
  {
   "cell_type": "code",
   "execution_count": 98,
   "metadata": {},
   "outputs": [
    {
     "name": "stdout",
     "output_type": "stream",
     "text": [
      "PING stratum stratum-ethw.antpool.com (172.65.231.105) port 443\n",
      "stratum-ethw.antpool.com (172.65.231.105): seq=0, time=584.9129ms\n",
      "stratum-ethw.antpool.com (172.65.231.105): seq=1, time=594.6175ms\n",
      "\n",
      "--- stratum-ethw.antpool.com ping statistics ---\n",
      "2 packets transmitted, 2 received, 0% packet loss, time 3.2397408s\n",
      "min/avg/max = 584.9129ms, 589.7652ms, 594.6175ms\n"
     ]
    }
   ],
   "source": [
    "# run one test\n",
    "!./stratum-ping -c 2 stratum-ethw.antpool.com:443"
   ]
  },
  {
   "cell_type": "markdown",
   "metadata": {},
   "source": [
    "## Servers"
   ]
  },
  {
   "cell_type": "code",
   "execution_count": 99,
   "metadata": {},
   "outputs": [],
   "source": [
    "rvn_servers = [\n",
    "    [\"Cruxpool\", \"Europe\", \"stratum+tcp://eu.cruxpool.com:9999\"],\n",
    "    [\"HeroMiners\", \"Global\", \"stratum+tcp://ravencoin.herominers.com:10240\"],\n",
    "    [\"HeroMiners\", \"Global\", \"stratum+tcp://fi.ravencoin.herominers.com:1140\"],\n",
    "    [\"BSOD.PW\", \"Europe\", \"stratum+tcp://eu.bsod.pw:2640\"],\n",
    "    [\"MinerMore\", \"Europe\", \"stratum+tcp://eu.rvn.minermore.com:4501\"],\n",
    "    [\"Suprnova\", \"Global\", \"stratum+tcp://rvn.suprnova.cc:8888\"],\n",
    "    [\"Kryptex\", \"Global\", \"stratum+tcp://rvn.kryptex.network:7777\"],\n",
    "    [\"Kryptex\", \"Global\", \"stratum+tcp://rvn.kryptex.network:8888\"],\n",
    "    [\"2miners.com\", \"Global\", \"stratum+tcp://rvn.2miners.com:6060\"],\n",
    "    [\"RavenMiner\", \"Global\", \"stratum+tcp://stratum.ravenminer.com:3838\"],\n",
    "    [\"Nanopool\", \"Europe 1\", \"stratum+tcp://rvn-eu1.nanopool.org:12222\"],\n",
    "    [\"Nanopool\", \"Europe 1 (SSL)\", \"stratum+ssl://rvn-eu1.nanopool.org:12433\"],\n",
    "    [\"K1Pool\", \"Europe\", \"stratum+tcp://eu.rvn.k1pool.com:7861\"]\n",
    "]\n"
   ]
  },
  {
   "cell_type": "code",
   "execution_count": 100,
   "metadata": {},
   "outputs": [],
   "source": [
    "eth_servers = [\n",
    "    [\"2Miners\", \"Global\", \"stratum+tcp://eth.2miners.com:2020\"],\n",
    "    [\"HelloMiner\", \"EU1\", \"stratum+tcp://eth-eu1.hellominer.com:1100\"],\n",
    "    [\"Unmineable\", \"Global\", \"stratum+tcp://ethash.unmineable.com:3333\"],\n",
    "    [\"F2Pool\", \"Global\", \"stratum+tcp://etc.f2pool.com:8118\"],\n",
    "    [\"F2Pool\", \"Global\", \"stratum+tcp://eth.f2pool.com:6688\"]\n",
    "]\n"
   ]
  },
  {
   "cell_type": "code",
   "execution_count": 101,
   "metadata": {},
   "outputs": [],
   "source": [
    "test_servers = [\n",
    "    # Adding AntPool servers\n",
    "    [\"AntPool\", \"Global\", \"stratum+tcp://stratum.antpool.com:25\"],\n",
    "    [\"AntPool\", \"Global\", \"stratum+tcp://stratum.antpool.com:3333\"],\n",
    "    [\"AntPool\", \"Global\", \"stratum+tcp://stratum.antpool.com:443\"],\n",
    "    [\"AntPool\", \"Global\", \"stratum+tcp://stratum.antpool.com:445\"],\n",
    "    # Adding Ravencoin server on AntPool\n",
    "    [\"AntPool\", \"RVN\", \"stratum+tcp://rvn.antpool.com:8003\"],\n",
    "    # Adding Kaspa server on AntPool\n",
    "    [\"AntPool\", \"KAS\", \"stratum+tcp://kas.antpool.com:445\"],\n",
    "    # Adding EthereumWorld servers on AntPool\n",
    "    [\"AntPool\", \"ETHW\", \"stratum+tcp://stratum-ethw.antpool.com:25\"],\n",
    "    [\"AntPool\", \"ETHW\", \"stratum+tcp://stratum-ethw.antpool.com:443\"],\n",
    "    # Adding Poolin servers for EthereumWorld\n",
    "    [\"Poolin\", \"ETHW\", \"stratum+tcp://ethw.ss.poolin.one:443\"],\n",
    "    [\"Poolin\", \"ETHW\", \"stratum+tcp://ethw.ss.poolin.one:1883\"],\n",
    "    [\"Poolin\", \"ETHW\", \"stratum+tcp://ethw.ss.poolin.one:700\"],\n",
    "    [\"Xmrig\", \"Global\", \"stratum+tcp://donate.ssl.xmrig.com:443\"]\n",
    "]"
   ]
  },
  {
   "cell_type": "code",
   "execution_count": 102,
   "metadata": {},
   "outputs": [],
   "source": [
    "# combine all servers\n",
    "all_servers = test_servers + rvn_servers + eth_servers"
   ]
  },
  {
   "cell_type": "markdown",
   "metadata": {},
   "source": [
    "## Check all servers"
   ]
  },
  {
   "cell_type": "code",
   "execution_count": 103,
   "metadata": {},
   "outputs": [],
   "source": [
    "def successful_transmission(text):\n",
    "    # Regex to find the number of packets received\n",
    "    pattern = r\", (\\d+) received,\"\n",
    "    match = re.search(pattern, text)\n",
    "    if match:\n",
    "        return int(match.group(1))\n",
    "    else:\n",
    "        return 0\n",
    "\n",
    "def port_number(text):\n",
    "    # Regex to find the number of packets received\n",
    "    pattern = r\":(\\d+)\"\n",
    "    match = re.search(pattern, text)\n",
    "    if match:\n",
    "        return match.group(1)\n",
    "    else:\n",
    "        return ''\n",
    "\n",
    "def run_stratum_ping(server):\n",
    "    # The command to run, assuming stratum-ping is in the current working directory or in the PATH\n",
    "    command = ['./stratum-ping', '-c', '1', server]\n",
    "\n",
    "    # Execute the command\n",
    "    try:\n",
    "        # If you want to capture the output\n",
    "        result = subprocess.run(command, check=True, stdout=subprocess.PIPE, stderr=subprocess.PIPE, text=True)\n",
    "\n",
    "        # # Print the standard output\n",
    "        # print(result.stdout)\n",
    "\n",
    "        # # Check if there were any errors\n",
    "        # if result.stderr:\n",
    "        #     print(\"Errors:\\n\", result.stderr)\n",
    "    except subprocess.CalledProcessError as e:\n",
    "        print(\"An error occurred while trying to execute stratum-ping:\", str(e))\n",
    "    except FileNotFoundError:\n",
    "        print(\"stratum-ping executable not found. Ensure it's in the current working directory or its path is correctly set.\")\n",
    "\n",
    "    return [successful_transmission(result.stdout), server, port_number(server), result.stdout]\n",
    "\n",
    "def check_stratum_ping(servers):\n",
    "    for i, server in enumerate(servers):\n",
    "        print(f'\\n\\n---------- START {i} -----------------')\n",
    "        res = run_stratum_ping(server)\n",
    "        print(res)\n",
    "\n",
    "def check_all_servers(servers):\n",
    "    results = []\n",
    "    # strip protocol from adress\n",
    "    server_addresses = [server[2].replace('stratum+ssl://', '').replace('stratum+tcp://', '') for server in servers]\n",
    "    for server in server_addresses:\n",
    "        res = run_stratum_ping(server)\n",
    "        print(res)\n",
    "        results.append(res)\n",
    "\n",
    "    return results"
   ]
  },
  {
   "cell_type": "code",
   "execution_count": 104,
   "metadata": {},
   "outputs": [
    {
     "name": "stdout",
     "output_type": "stream",
     "text": [
      "\n",
      "\n",
      "---------- START 0 -----------------\n",
      "[1, 'eth.f2pool.com:6688', '6688', 'PING stratum eth.f2pool.com (172.65.212.50) port 6688\\neth.f2pool.com (172.65.212.50): seq=0, time=87.6025ms\\n\\n--- eth.f2pool.com ping statistics ---\\n1 packets transmitted, 1 received, 0% packet loss, time 1.1380375s\\nmin/avg/max = 87.6025ms, 87.6025ms, 87.6025ms\\n']\n",
      "\n",
      "\n",
      "---------- START 1 -----------------\n",
      "[0, 'rvn-asia1.nanopool.org:12433', '12433', 'PING stratum rvn-asia1.nanopool.org (172.104.165.191) port 12433\\nrvn-asia1.nanopool.org (172.104.165.191): seq=0, EOF\\n\\n--- rvn-asia1.nanopool.org ping statistics ---\\n1 packets transmitted, 0 received, 100% packet loss, time 1.6415962s\\n']\n"
     ]
    }
   ],
   "source": [
    "# sample test\n",
    "# res = check_stratum_ping(['donate.ssl.xmrig.com:443'])\n",
    "check_stratum_ping(['eth.f2pool.com:6688', 'rvn-asia1.nanopool.org:12433'])"
   ]
  },
  {
   "cell_type": "code",
   "execution_count": 105,
   "metadata": {},
   "outputs": [
    {
     "name": "stdout",
     "output_type": "stream",
     "text": [
      "[0, 'stratum.antpool.com:25', '25', 'PING stratum stratum.antpool.com (172.65.209.66) port 25\\nstratum.antpool.com (172.65.209.66): seq=0, dial tcp4 172.65.209.66:25: connect: connection timed out\\n\\n--- stratum.antpool.com ping statistics ---\\n1 packets transmitted, 0 received, 100% packet loss, time 2m11.4566548s\\n']\n",
      "[0, 'stratum.antpool.com:3333', '3333', 'PING stratum stratum.antpool.com (172.65.209.66) port 3333\\nstratum.antpool.com (172.65.209.66): seq=0, read tcp4 172.26.173.233:56722->172.65.209.66:3333: i/o timeout\\n\\n--- stratum.antpool.com ping statistics ---\\n1 packets transmitted, 0 received, 100% packet loss, time 11.028427s\\n']\n",
      "[1, 'stratum.antpool.com:443', '443', 'PING stratum stratum.antpool.com (172.65.209.66) port 443\\nstratum.antpool.com (172.65.209.66): seq=0, time=78.7785ms\\n\\n--- stratum.antpool.com ping statistics ---\\n1 packets transmitted, 1 received, 0% packet loss, time 1.112345s\\nmin/avg/max = 78.7785ms, 78.7785ms, 78.7785ms\\n']\n",
      "[0, 'stratum.antpool.com:445', '445', 'PING stratum stratum.antpool.com (172.65.209.66) port 445\\nstratum.antpool.com (172.65.209.66): seq=0, dial tcp4 172.65.209.66:445: connect: connection timed out\\n\\n--- stratum.antpool.com ping statistics ---\\n1 packets transmitted, 0 received, 100% packet loss, time 2m11.291563s\\n']\n",
      "[1, 'rvn.antpool.com:8003', '8003', 'PING stratum rvn.antpool.com (172.65.170.148) port 8003\\nrvn.antpool.com (172.65.170.148): seq=0, time=705.1177ms\\n\\n--- rvn.antpool.com ping statistics ---\\n1 packets transmitted, 1 received, 0% packet loss, time 1.7395217s\\nmin/avg/max = 705.1177ms, 705.1177ms, 705.1177ms\\n']\n",
      "[0, 'kas.antpool.com:445', '445', 'PING stratum kas.antpool.com (172.65.241.160) port 445\\nkas.antpool.com (172.65.241.160): seq=0, dial tcp4 172.65.241.160:445: connect: connection timed out\\n\\n--- kas.antpool.com ping statistics ---\\n1 packets transmitted, 0 received, 100% packet loss, time 2m14.872549s\\n']\n",
      "[0, 'stratum-ethw.antpool.com:25', '25', 'PING stratum stratum-ethw.antpool.com (172.65.231.105) port 25\\nstratum-ethw.antpool.com (172.65.231.105): seq=0, dial tcp4 172.65.231.105:25: connect: connection timed out\\n\\n--- stratum-ethw.antpool.com ping statistics ---\\n1 packets transmitted, 0 received, 100% packet loss, time 2m14.9288217s\\n']\n",
      "[1, 'stratum-ethw.antpool.com:443', '443', 'PING stratum stratum-ethw.antpool.com (172.65.231.105) port 443\\nstratum-ethw.antpool.com (172.65.231.105): seq=0, time=609.6673ms\\n\\n--- stratum-ethw.antpool.com ping statistics ---\\n1 packets transmitted, 1 received, 0% packet loss, time 1.6459651s\\nmin/avg/max = 609.6673ms, 609.6673ms, 609.6673ms\\n']\n",
      "[1, 'ethw.ss.poolin.one:443', '443', 'PING stratum ethw.ss.poolin.one (172.65.223.165) port 443\\nethw.ss.poolin.one (172.65.223.165): seq=0, time=465.2797ms\\n\\n--- ethw.ss.poolin.one ping statistics ---\\n1 packets transmitted, 1 received, 0% packet loss, time 1.4970997s\\nmin/avg/max = 465.2797ms, 465.2797ms, 465.2797ms\\n']\n",
      "[1, 'ethw.ss.poolin.one:1883', '1883', 'PING stratum ethw.ss.poolin.one (172.65.223.165) port 1883\\nethw.ss.poolin.one (172.65.223.165): seq=0, time=507.4262ms\\n\\n--- ethw.ss.poolin.one ping statistics ---\\n1 packets transmitted, 1 received, 0% packet loss, time 1.5342098s\\nmin/avg/max = 507.4262ms, 507.4262ms, 507.4262ms\\n']\n",
      "[1, 'ethw.ss.poolin.one:700', '700', 'PING stratum ethw.ss.poolin.one (172.65.223.165) port 700\\nethw.ss.poolin.one (172.65.223.165): seq=0, time=560.5162ms\\n\\n--- ethw.ss.poolin.one ping statistics ---\\n1 packets transmitted, 1 received, 0% packet loss, time 1.588517s\\nmin/avg/max = 560.5162ms, 560.5162ms, 560.5162ms\\n']\n",
      "[0, 'donate.ssl.xmrig.com:443', '443', 'PING stratum donate.ssl.xmrig.com (199.247.27.41) port 443\\ndonate.ssl.xmrig.com (199.247.27.41): seq=0, EOF\\n\\n--- donate.ssl.xmrig.com ping statistics ---\\n1 packets transmitted, 0 received, 100% packet loss, time 1.0852418s\\n']\n",
      "[1, 'eu.cruxpool.com:9999', '9999', 'PING stratum eu.cruxpool.com (37.120.164.199) port 9999\\neu.cruxpool.com (37.120.164.199): seq=0, time=66.1472ms\\n\\n--- eu.cruxpool.com ping statistics ---\\n1 packets transmitted, 1 received, 0% packet loss, time 1.1454317s\\nmin/avg/max = 66.1472ms, 66.1472ms, 66.1472ms\\n']\n",
      "[1, 'ravencoin.herominers.com:10240', '10240', 'PING stratum ravencoin.herominers.com (141.95.126.31) port 10240\\nravencoin.herominers.com (141.95.126.31): seq=0, time=45.4636ms\\n\\n--- ravencoin.herominers.com ping statistics ---\\n1 packets transmitted, 1 received, 0% packet loss, time 1.1065504s\\nmin/avg/max = 45.4636ms, 45.4636ms, 45.4636ms\\n']\n",
      "[1, 'fi.ravencoin.herominers.com:1140', '1140', 'PING stratum fi.ravencoin.herominers.com (37.27.63.70) port 1140\\nfi.ravencoin.herominers.com (37.27.63.70): seq=0, time=43.9635ms\\n\\n--- fi.ravencoin.herominers.com ping statistics ---\\n1 packets transmitted, 1 received, 0% packet loss, time 1.0820911s\\nmin/avg/max = 43.9635ms, 43.9635ms, 43.9635ms\\n']\n",
      "[0, 'eu.bsod.pw:2640', '2640', 'PING stratum eu.bsod.pw (103.224.182.238) port 2640\\neu.bsod.pw (103.224.182.238): seq=0, dial tcp4 103.224.182.238:2640: connect: connection timed out\\n\\n--- eu.bsod.pw ping statistics ---\\n1 packets transmitted, 0 received, 100% packet loss, time 2m12.927517s\\n']\n",
      "[1, 'eu.rvn.minermore.com:4501', '4501', 'PING stratum eu.rvn.minermore.com (136.244.92.193) port 4501\\neu.rvn.minermore.com (136.244.92.193): seq=0, time=54.8626ms\\n\\n--- eu.rvn.minermore.com ping statistics ---\\n1 packets transmitted, 1 received, 0% packet loss, time 1.1149643s\\nmin/avg/max = 54.8626ms, 54.8626ms, 54.8626ms\\n']\n",
      "[1, 'rvn.suprnova.cc:8888', '8888', 'PING stratum rvn.suprnova.cc (5.39.65.109) port 8888\\nrvn.suprnova.cc (5.39.65.109): seq=0, time=47.0835ms\\n\\n--- rvn.suprnova.cc ping statistics ---\\n1 packets transmitted, 1 received, 0% packet loss, time 1.1147019s\\nmin/avg/max = 47.0835ms, 47.0835ms, 47.0835ms\\n']\n",
      "[1, 'rvn.kryptex.network:7777', '7777', 'PING stratum rvn.kryptex.network (162.55.99.217) port 7777\\nrvn.kryptex.network (162.55.99.217): seq=0, time=48.6691ms\\n\\n--- rvn.kryptex.network ping statistics ---\\n1 packets transmitted, 1 received, 0% packet loss, time 1.1032464s\\nmin/avg/max = 48.6691ms, 48.6691ms, 48.6691ms\\n']\n",
      "[0, 'rvn.kryptex.network:8888', '8888', 'PING stratum rvn.kryptex.network (162.55.99.217) port 8888\\nrvn.kryptex.network (162.55.99.217): seq=0, EOF\\n\\n--- rvn.kryptex.network ping statistics ---\\n1 packets transmitted, 0 received, 100% packet loss, time 1.0932181s\\n']\n",
      "[1, 'rvn.2miners.com:6060', '6060', 'PING stratum rvn.2miners.com (51.89.99.172) port 6060\\nrvn.2miners.com (51.89.99.172): seq=0, time=44.2787ms\\n\\n--- rvn.2miners.com ping statistics ---\\n1 packets transmitted, 1 received, 0% packet loss, time 1.0983336s\\nmin/avg/max = 44.2787ms, 44.2787ms, 44.2787ms\\n']\n",
      "[1, 'stratum.ravenminer.com:3838', '3838', 'PING stratum stratum.ravenminer.com (78.47.203.132) port 3838\\nstratum.ravenminer.com (78.47.203.132): seq=0, time=400.1458ms\\n\\n--- stratum.ravenminer.com ping statistics ---\\n1 packets transmitted, 1 received, 0% packet loss, time 1.4521537s\\nmin/avg/max = 400.1458ms, 400.1458ms, 400.1458ms\\n']\n",
      "[1, 'rvn-eu1.nanopool.org:12222', '12222', 'PING stratum rvn-eu1.nanopool.org (163.172.162.51) port 12222\\nrvn-eu1.nanopool.org (163.172.162.51): seq=0, time=101.6933ms\\n\\n--- rvn-eu1.nanopool.org ping statistics ---\\n1 packets transmitted, 1 received, 0% packet loss, time 1.1539467s\\nmin/avg/max = 101.6933ms, 101.6933ms, 101.6933ms\\n']\n",
      "[0, 'rvn-eu1.nanopool.org:12433', '12433', 'PING stratum rvn-eu1.nanopool.org (54.38.55.91) port 12433\\nrvn-eu1.nanopool.org (54.38.55.91): seq=0, EOF\\n\\n--- rvn-eu1.nanopool.org ping statistics ---\\n1 packets transmitted, 0 received, 100% packet loss, time 1.1512367s\\n']\n",
      "[1, 'eu.rvn.k1pool.com:7861', '7861', 'PING stratum eu.rvn.k1pool.com (51.210.219.138) port 7861\\neu.rvn.k1pool.com (51.210.219.138): seq=0, time=47.4877ms\\n\\n--- eu.rvn.k1pool.com ping statistics ---\\n1 packets transmitted, 1 received, 0% packet loss, time 1.1056494s\\nmin/avg/max = 47.4877ms, 47.4877ms, 47.4877ms\\n']\n",
      "[1, 'eth.2miners.com:2020', '2020', 'PING stratum eth.2miners.com (51.195.88.15) port 2020\\neth.2miners.com (51.195.88.15): seq=0, time=40.9471ms\\n\\n--- eth.2miners.com ping statistics ---\\n1 packets transmitted, 1 received, 0% packet loss, time 1.0991038s\\nmin/avg/max = 40.9471ms, 40.9471ms, 40.9471ms\\n']\n",
      "[0, 'eth-eu1.hellominer.com:1100', '1100', 'PING stratum eth-eu1.hellominer.com (52.232.17.180) port 1100\\neth-eu1.hellominer.com (52.232.17.180): seq=0, dial tcp4 52.232.17.180:1100: connect: connection timed out\\n\\n--- eth-eu1.hellominer.com ping statistics ---\\n1 packets transmitted, 0 received, 100% packet loss, time 2m14.7236607s\\n']\n",
      "[1, 'ethash.unmineable.com:3333', '3333', 'PING stratum ethash.unmineable.com (138.68.130.227) port 3333\\nethash.unmineable.com (138.68.130.227): seq=0, time=80.797ms\\n\\n--- ethash.unmineable.com ping statistics ---\\n1 packets transmitted, 1 received, 0% packet loss, time 1.1540179s\\nmin/avg/max = 80.797ms, 80.797ms, 80.797ms\\n']\n",
      "[1, 'etc.f2pool.com:8118', '8118', 'PING stratum etc.f2pool.com (172.65.197.4) port 8118\\netc.f2pool.com (172.65.197.4): seq=0, time=77.2083ms\\n\\n--- etc.f2pool.com ping statistics ---\\n1 packets transmitted, 1 received, 0% packet loss, time 1.1047864s\\nmin/avg/max = 77.2083ms, 77.2083ms, 77.2083ms\\n']\n",
      "[1, 'eth.f2pool.com:6688', '6688', 'PING stratum eth.f2pool.com (172.65.212.50) port 6688\\neth.f2pool.com (172.65.212.50): seq=0, time=96.1248ms\\n\\n--- eth.f2pool.com ping statistics ---\\n1 packets transmitted, 1 received, 0% packet loss, time 1.1240653s\\nmin/avg/max = 96.1248ms, 96.1248ms, 96.1248ms\\n']\n"
     ]
    }
   ],
   "source": [
    "res = check_all_servers(all_servers)\n",
    "# res = check_all_servers(eth_servers)\n",
    "# res = check_all_servers(rvn_servers)\n",
    "# res = check_all_servers(test_servers)"
   ]
  },
  {
   "cell_type": "markdown",
   "metadata": {},
   "source": [
    "## Result"
   ]
  },
  {
   "cell_type": "code",
   "execution_count": 106,
   "metadata": {},
   "outputs": [
    {
     "data": {
      "text/plain": [
       "[[1, 'eu.cruxpool.com:9999', '9999'],\n",
       " [1, 'rvn.suprnova.cc:8888', '8888'],\n",
       " [1, 'etc.f2pool.com:8118', '8118'],\n",
       " [1, 'rvn.antpool.com:8003', '8003'],\n",
       " [1, 'eu.rvn.k1pool.com:7861', '7861'],\n",
       " [1, 'rvn.kryptex.network:7777', '7777'],\n",
       " [1, 'ethw.ss.poolin.one:700', '700'],\n",
       " [1, 'eth.f2pool.com:6688', '6688'],\n",
       " [1, 'rvn.2miners.com:6060', '6060'],\n",
       " [1, 'eu.rvn.minermore.com:4501', '4501'],\n",
       " [1, 'stratum.antpool.com:443', '443'],\n",
       " [1, 'stratum-ethw.antpool.com:443', '443'],\n",
       " [1, 'ethw.ss.poolin.one:443', '443'],\n",
       " [1, 'stratum.ravenminer.com:3838', '3838'],\n",
       " [1, 'ethash.unmineable.com:3333', '3333'],\n",
       " [1, 'eth.2miners.com:2020', '2020'],\n",
       " [1, 'ethw.ss.poolin.one:1883', '1883'],\n",
       " [1, 'rvn-eu1.nanopool.org:12222', '12222'],\n",
       " [1, 'fi.ravencoin.herominers.com:1140', '1140'],\n",
       " [1, 'ravencoin.herominers.com:10240', '10240'],\n",
       " [0, 'rvn.kryptex.network:8888', '8888'],\n",
       " [0, 'stratum.antpool.com:445', '445'],\n",
       " [0, 'kas.antpool.com:445', '445'],\n",
       " [0, 'donate.ssl.xmrig.com:443', '443'],\n",
       " [0, 'stratum.antpool.com:3333', '3333'],\n",
       " [0, 'eu.bsod.pw:2640', '2640'],\n",
       " [0, 'stratum.antpool.com:25', '25'],\n",
       " [0, 'stratum-ethw.antpool.com:25', '25'],\n",
       " [0, 'rvn-eu1.nanopool.org:12433', '12433'],\n",
       " [0, 'eth-eu1.hellominer.com:1100', '1100']]"
      ]
     },
     "execution_count": 106,
     "metadata": {},
     "output_type": "execute_result"
    }
   ],
   "source": [
    "# sort list on 1 & 3 columns\n",
    "sorted_list = sorted(res, key=lambda x: (x[0], x[2]), reverse=True)\n",
    "# display the 3 first elememts for all items\n",
    "[item[:3] for item in sorted_list]"
   ]
  },
  {
   "cell_type": "code",
   "execution_count": null,
   "metadata": {},
   "outputs": [],
   "source": []
  }
 ],
 "metadata": {
  "kernelspec": {
   "display_name": "Python 3",
   "language": "python",
   "name": "python3"
  },
  "language_info": {
   "codemirror_mode": {
    "name": "ipython",
    "version": 3
   },
   "file_extension": ".py",
   "mimetype": "text/x-python",
   "name": "python",
   "nbconvert_exporter": "python",
   "pygments_lexer": "ipython3",
   "version": "3.10.6"
  }
 },
 "nbformat": 4,
 "nbformat_minor": 2
}
