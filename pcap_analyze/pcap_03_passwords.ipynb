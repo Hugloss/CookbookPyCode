{
 "cells": [
  {
   "cell_type": "code",
   "execution_count": 5,
   "metadata": {},
   "outputs": [],
   "source": [
    "# !pip install scapy"
   ]
  },
  {
   "cell_type": "markdown",
   "metadata": {},
   "source": [
    "# Passwords or sensitive information \n",
    "Analyzing network traffic for passwords or sensitive information"
   ]
  },
  {
   "cell_type": "markdown",
   "metadata": {},
   "source": [
    "- https://challenge.fra.se/"
   ]
  },
  {
   "cell_type": "code",
   "execution_count": 6,
   "metadata": {},
   "outputs": [],
   "source": [
    "from scapy.all import rdpcap, Raw\n",
    "import re"
   ]
  },
  {
   "cell_type": "code",
   "execution_count": 7,
   "metadata": {},
   "outputs": [],
   "source": [
    "filename = 'challenges/challenge/challenge.pcap'\n",
    "filename = 'challenges/challenge/analytikertestet.pcap'\n",
    "filename = 'challenges/challenge/trafik.pcap'"
   ]
  },
  {
   "cell_type": "code",
   "execution_count": 8,
   "metadata": {},
   "outputs": [],
   "source": [
    "# Load the pcap file\n",
    "packets = rdpcap(filename)\n",
    "\n",
    "# Regular expressions to identify potential passwords and flags\n",
    "password_regex = re.compile(r'(?i)password=([^&\\s]+)')\n",
    "flag_regex = re.compile(r'(?i)flag{([^}]+)}')\n",
    "\n",
    "# Analyze each packet\n",
    "for packet in packets:\n",
    "    if packet.haslayer(Raw):\n",
    "        payload = packet[Raw].load.decode('utf-8', errors='ignore')\n",
    "\n",
    "        # Search for passwords\n",
    "        passwords = password_regex.findall(payload)\n",
    "        for password in passwords:\n",
    "            print(f\"Possible password found: {password}\")\n",
    "\n",
    "        # Search for flags\n",
    "        flags = flag_regex.findall(payload)\n",
    "        for flag in flags:\n",
    "            print(f\"Possible flag found: {flag}\")"
   ]
  },
  {
   "cell_type": "code",
   "execution_count": null,
   "metadata": {},
   "outputs": [],
   "source": []
  }
 ],
 "metadata": {
  "kernelspec": {
   "display_name": "Python 3",
   "language": "python",
   "name": "python3"
  },
  "language_info": {
   "codemirror_mode": {
    "name": "ipython",
    "version": 3
   },
   "file_extension": ".py",
   "mimetype": "text/x-python",
   "name": "python",
   "nbconvert_exporter": "python",
   "pygments_lexer": "ipython3",
   "version": "3.10.6"
  }
 },
 "nbformat": 4,
 "nbformat_minor": 2
}
