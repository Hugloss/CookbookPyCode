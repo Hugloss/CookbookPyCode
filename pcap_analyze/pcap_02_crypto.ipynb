{
 "cells": [
  {
   "cell_type": "code",
   "execution_count": 3,
   "metadata": {},
   "outputs": [],
   "source": [
    "# !pip install scapy"
   ]
  },
  {
   "cell_type": "markdown",
   "metadata": {},
   "source": [
    "# Cryptographic analysis \n",
    "Identifying the type of cryptography used in network communication"
   ]
  },
  {
   "cell_type": "markdown",
   "metadata": {},
   "source": [
    "- https://challenge.fra.se/"
   ]
  },
  {
   "cell_type": "code",
   "execution_count": 9,
   "metadata": {},
   "outputs": [],
   "source": [
    "from scapy.all import rdpcap\n",
    "from scapy.layers.tls.record import TLS\n"
   ]
  },
  {
   "cell_type": "code",
   "execution_count": 13,
   "metadata": {},
   "outputs": [],
   "source": [
    "filename = 'challenges/challenge/challenge.pcap'\n",
    "filename = 'challenges/challenge/analytikertestet.pcap'\n",
    "filename = 'challenges/challenge/trafik.pcap'"
   ]
  },
  {
   "cell_type": "code",
   "execution_count": 14,
   "metadata": {},
   "outputs": [],
   "source": [
    "# Load the pcap file\n",
    "packets = rdpcap(filename)\n",
    "\n",
    "# Analyze each packet\n",
    "for packet in packets:\n",
    "    # Check if the packet is using TLS\n",
    "    if packet.haslayer(TLS):\n",
    "        # Extract and print TLS information\n",
    "        tls_layer = packet.getlayer(TLS)\n",
    "        print(\"TLS Packet found\")\n",
    "\n",
    "        # Extracting TLS handshake details if present\n",
    "        if tls_layer.msg and isinstance(tls_layer.msg[0], TLS.ClientHello):\n",
    "            client_hello = tls_layer.msg[0]\n",
    "            print(\"TLS Client Hello packet\")\n",
    "\n",
    "            # Print out the cipher suites proposed by the client\n",
    "            if client_hello.ciphers:\n",
    "                print(\"Cipher Suites proposed by the client:\")\n",
    "                for cipher in client_hello.ciphers:\n",
    "                    print(cipher.name)"
   ]
  },
  {
   "cell_type": "code",
   "execution_count": null,
   "metadata": {},
   "outputs": [],
   "source": []
  }
 ],
 "metadata": {
  "kernelspec": {
   "display_name": "Python 3",
   "language": "python",
   "name": "python3"
  },
  "language_info": {
   "codemirror_mode": {
    "name": "ipython",
    "version": 3
   },
   "file_extension": ".py",
   "mimetype": "text/x-python",
   "name": "python",
   "nbconvert_exporter": "python",
   "pygments_lexer": "ipython3",
   "version": "3.10.6"
  }
 },
 "nbformat": 4,
 "nbformat_minor": 2
}
