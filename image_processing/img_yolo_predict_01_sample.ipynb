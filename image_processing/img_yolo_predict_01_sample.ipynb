{
 "cells": [
  {
   "cell_type": "code",
   "execution_count": null,
   "metadata": {},
   "outputs": [],
   "source": [
    "from ultralytics import YOLO\n",
    "from PIL import Image\n",
    "import matplotlib.pyplot as plt"
   ]
  },
  {
   "cell_type": "code",
   "execution_count": null,
   "metadata": {},
   "outputs": [],
   "source": [
    "# Load a pre-trained YOLOv8 model\n",
    "model = YOLO('yolov8n.pt')"
   ]
  },
  {
   "cell_type": "code",
   "execution_count": null,
   "metadata": {},
   "outputs": [],
   "source": [
    "# Specify the source image\n",
    "source = 'https://ultralytics.com/images/bus.jpg'\n",
    "\n",
    "# Make predictions\n",
    "results = model.predict(source, save=True, imgsz=320, conf=0.5)"
   ]
  },
  {
   "cell_type": "code",
   "execution_count": null,
   "metadata": {},
   "outputs": [],
   "source": [
    "# # Process results list\n",
    "# for result in results:\n",
    "#     boxes = result.boxes  # Boxes object for bounding box outputs\n",
    "#     masks = result.masks  # Masks object for segmentation masks outputs\n",
    "#     keypoints = result.keypoints  # Keypoints object for pose outputs\n",
    "#     probs = result.probs  # Probs object for classification outputs"
   ]
  },
  {
   "cell_type": "code",
   "execution_count": null,
   "metadata": {},
   "outputs": [],
   "source": [
    "# Extract bounding box dimensions\n",
    "boxes = results[0].boxes.xywh.cpu()\n",
    "for box in boxes:\n",
    "    x, y, w, h = box\n",
    "    print(f\"Width of Box: {w}, Height of Box: {h}\")"
   ]
  },
  {
   "cell_type": "markdown",
   "metadata": {},
   "source": [
    "## Print saved image"
   ]
  },
  {
   "cell_type": "code",
   "execution_count": null,
   "metadata": {},
   "outputs": [],
   "source": [
    "img_path = 'runs/detect/predict/bus.jpg'"
   ]
  },
  {
   "cell_type": "code",
   "execution_count": null,
   "metadata": {},
   "outputs": [],
   "source": [
    "# PIL\n",
    "Image.open(img_path)"
   ]
  },
  {
   "cell_type": "markdown",
   "metadata": {},
   "source": [
    "## Print reults"
   ]
  },
  {
   "cell_type": "code",
   "execution_count": null,
   "metadata": {},
   "outputs": [],
   "source": [
    "# The visualize result in BGR-order numpy array\n",
    "bgr_array = results[0].plot()\n",
    "# Convert BGR to RGB\n",
    "rgb_array = bgr_array[:, :, ::-1]"
   ]
  },
  {
   "cell_type": "code",
   "execution_count": null,
   "metadata": {},
   "outputs": [],
   "source": [
    "# Print image\n",
    "Image.fromarray(rgb_array)"
   ]
  },
  {
   "cell_type": "markdown",
   "metadata": {},
   "source": [
    "## Local image"
   ]
  },
  {
   "cell_type": "code",
   "execution_count": null,
   "metadata": {},
   "outputs": [],
   "source": [
    "# Plot results image\n",
    "def printYOLO(results):\n",
    "    # Initialize a figure for plotting\n",
    "    plt.figure(figsize=(10, 10))\n",
    "\n",
    "    # Process results list\n",
    "    for i, result in enumerate(results):\n",
    "        # assuming plot() method returns a numpy array in BGR format\n",
    "        bgr_array = result.plot()\n",
    "\n",
    "        # Convert BGR to RGB\n",
    "        rgb_array = bgr_array[:, :, ::-1]\n",
    "\n",
    "        # Convert numpy array to PIL Image\n",
    "        img = Image.fromarray(rgb_array)\n",
    "\n",
    "        # Add a subplot for each image\n",
    "        ax = plt.subplot(len(results), 1, i + 1)\n",
    "        ax.imshow(img)\n",
    "        ax.axis('off')  # Hide axes\n",
    "\n",
    "    plt.tight_layout()\n",
    "    plt.show()"
   ]
  },
  {
   "cell_type": "code",
   "execution_count": null,
   "metadata": {},
   "outputs": [],
   "source": [
    "img_path1 = '../_data/resource/id_swe.jpg'\n",
    "img_path2 = '../_data/resource/note_ticket_class.jpg'"
   ]
  },
  {
   "cell_type": "code",
   "execution_count": null,
   "metadata": {},
   "outputs": [],
   "source": [
    "# Make predictions\n",
    "results = model.predict([img_path1, img_path2])"
   ]
  },
  {
   "cell_type": "code",
   "execution_count": null,
   "metadata": {},
   "outputs": [],
   "source": [
    "printYOLO(results)"
   ]
  },
  {
   "cell_type": "code",
   "execution_count": null,
   "metadata": {},
   "outputs": [],
   "source": []
  }
 ],
 "metadata": {
  "kernelspec": {
   "display_name": "Python 3",
   "language": "python",
   "name": "python3"
  },
  "language_info": {
   "codemirror_mode": {
    "name": "ipython",
    "version": 3
   },
   "file_extension": ".py",
   "mimetype": "text/x-python",
   "name": "python",
   "nbconvert_exporter": "python",
   "pygments_lexer": "ipython3",
   "version": "3.10.6"
  }
 },
 "nbformat": 4,
 "nbformat_minor": 2
}
