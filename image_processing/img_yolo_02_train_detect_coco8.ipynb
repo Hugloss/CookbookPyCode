{
 "cells": [
  {
   "cell_type": "code",
   "execution_count": null,
   "metadata": {},
   "outputs": [],
   "source": [
    "# !pip install ultralytics"
   ]
  },
  {
   "cell_type": "markdown",
   "metadata": {},
   "source": [
    "- https://docs.ultralytics.com/datasets/detect/coco8/#usage"
   ]
  },
  {
   "cell_type": "code",
   "execution_count": null,
   "metadata": {},
   "outputs": [],
   "source": [
    "from ultralytics import YOLO\n",
    "from PIL import Image\n",
    "import matplotlib.pyplot as plt\n",
    "\n",
    "# fix for Jupyter notebook\n",
    "%matplotlib inline"
   ]
  },
  {
   "cell_type": "code",
   "execution_count": null,
   "metadata": {},
   "outputs": [],
   "source": [
    "# Plot results image\n",
    "def printYOLO(results):\n",
    "    # Initialize a figure for plotting\n",
    "    plt.figure(figsize=(10, 10))\n",
    "\n",
    "    # Process results list\n",
    "    for i, result in enumerate(results):\n",
    "        # assuming plot() method returns a numpy array in BGR format\n",
    "        bgr_array = result.plot()\n",
    "\n",
    "        # Convert BGR to RGB\n",
    "        rgb_array = bgr_array[:, :, ::-1]\n",
    "\n",
    "        # Convert numpy array to PIL Image\n",
    "        img = Image.fromarray(rgb_array)\n",
    "\n",
    "        # Add a subplot for each image\n",
    "        ax = plt.subplot(len(results), 1, i + 1)\n",
    "        ax.imshow(img)\n",
    "        ax.axis('off')  # Hide axes\n",
    "\n",
    "    plt.tight_layout()\n",
    "    plt.show()"
   ]
  },
  {
   "cell_type": "markdown",
   "metadata": {},
   "source": [
    "- https://docs.ultralytics.com/tasks/detect/#models"
   ]
  },
  {
   "cell_type": "code",
   "execution_count": null,
   "metadata": {},
   "outputs": [],
   "source": [
    "model = YOLO(\"yolov8n.pt\")"
   ]
  },
  {
   "cell_type": "code",
   "execution_count": null,
   "metadata": {},
   "outputs": [],
   "source": [
    "# Train the model\n",
    "results = model.train(data='coco8.yaml', epochs=3, imgsz=640)"
   ]
  },
  {
   "cell_type": "code",
   "execution_count": null,
   "metadata": {},
   "outputs": [],
   "source": [
    "# validation = model.val()"
   ]
  },
  {
   "cell_type": "markdown",
   "metadata": {},
   "source": [
    "## Plot"
   ]
  },
  {
   "cell_type": "code",
   "execution_count": null,
   "metadata": {},
   "outputs": [],
   "source": [
    "view_images = [\n",
    "    'datasets/coco8/images/val/000000000036.jpg',\n",
    "    'datasets/coco8/images/val/000000000042.jpg'\n",
    "]\n",
    "predictions = model.predict(view_images)"
   ]
  },
  {
   "cell_type": "code",
   "execution_count": null,
   "metadata": {},
   "outputs": [],
   "source": [
    "printYOLO(predictions)"
   ]
  },
  {
   "cell_type": "code",
   "execution_count": null,
   "metadata": {},
   "outputs": [],
   "source": []
  }
 ],
 "metadata": {
  "kernelspec": {
   "display_name": "Python 3",
   "language": "python",
   "name": "python3"
  },
  "language_info": {
   "codemirror_mode": {
    "name": "ipython",
    "version": 3
   },
   "file_extension": ".py",
   "mimetype": "text/x-python",
   "name": "python",
   "nbconvert_exporter": "python",
   "pygments_lexer": "ipython3",
   "version": "3.10.6"
  }
 },
 "nbformat": 4,
 "nbformat_minor": 2
}
