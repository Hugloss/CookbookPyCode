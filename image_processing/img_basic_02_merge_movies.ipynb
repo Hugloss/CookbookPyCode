{
 "cells": [
  {
   "cell_type": "code",
   "execution_count": null,
   "id": "7d535529-6ac4-4d77-a83d-249a8b6e72c4",
   "metadata": {},
   "outputs": [],
   "source": [
    "# !zypper in ffmpeg-4 libgstcuda-1_0-0\n",
    "# !pip install -q moviepy"
   ]
  },
  {
   "cell_type": "code",
   "execution_count": 15,
   "id": "7c509282-bf1e-4afc-be26-70d19824fb74",
   "metadata": {},
   "outputs": [],
   "source": [
    "from moviepy.editor import VideoFileClip, concatenate_videoclips"
   ]
  },
  {
   "cell_type": "code",
   "execution_count": 14,
   "id": "2dfb67a8-d047-4116-9b74-7fbb47c3445e",
   "metadata": {},
   "outputs": [],
   "source": [
    "# !ls"
   ]
  },
  {
   "cell_type": "code",
   "execution_count": null,
   "id": "dfbdaa2a-de6b-4b5a-947a-dc01c5ccd9bb",
   "metadata": {},
   "outputs": [],
   "source": [
    "# !ffmpeg -encoders | grep nvidia"
   ]
  },
  {
   "cell_type": "code",
   "execution_count": null,
   "id": "4d00034d",
   "metadata": {},
   "outputs": [],
   "source": [
    "# !ffmpeg -hwaccels"
   ]
  },
  {
   "cell_type": "code",
   "execution_count": 9,
   "id": "ebb63f2a-c766-477c-95ce-097255513ec9",
   "metadata": {},
   "outputs": [],
   "source": [
    "# load 3 movies with different sizes and fps\n",
    "clip1 = VideoFileClip(\"movie1.mp4\")\n",
    "clip2 = VideoFileClip(\"movie2.mp4\")\n",
    "clip3 = VideoFileClip(\"movie3.mp4\")"
   ]
  },
  {
   "cell_type": "code",
   "execution_count": 16,
   "id": "7a0aa9a7-1a61-4570-aa25-80e2b09526ac",
   "metadata": {},
   "outputs": [
    {
     "name": "stdout",
     "output_type": "stream",
     "text": [
      "FPS : 30.0\n",
      "FPS : 60.0\n",
      "FPS : 29.97002997002997\n"
     ]
    }
   ],
   "source": [
    "# check fps\n",
    "clips = [clip1, clip2, clip3]\n",
    "for clip in clips:\n",
    "    print(\"FPS : \" + str(clip.fps))\n",
    "    print(\"Size : \" + str(clip.size))"
   ]
  },
  {
   "cell_type": "code",
   "execution_count": 6,
   "id": "e0c3fbac-8b1b-4d8a-90ec-297b713ef686",
   "metadata": {},
   "outputs": [],
   "source": [
    "# merge all clips to one movie\n",
    "final_clip = concatenate_videoclips(clips, method='compose')"
   ]
  },
  {
   "cell_type": "code",
   "execution_count": null,
   "id": "c22aa75e",
   "metadata": {},
   "outputs": [],
   "source": [
    "codecs = [\"libx264\", \"mpeg4\", \"vp9\"]"
   ]
  },
  {
   "cell_type": "code",
   "execution_count": null,
   "id": "b5790319-5f43-4be6-a1ba-7068e69329e5",
   "metadata": {},
   "outputs": [],
   "source": [
    "# save merged movie\n",
    "min_fps=30\n",
    "output_file = \"output_movie.mp4\"\n",
    "final_clip.write_videofile(\n",
    "    output_file,\n",
    "    fps=min_fps,\n",
    "    audio_codec=\"aac\",\n",
    "    codec=codecs[0],\n",
    "    threads=64,\n",
    "    preset=\"fast\")"
   ]
  }
 ],
 "metadata": {
  "kernelspec": {
   "display_name": "Python 3 (ipykernel)",
   "language": "python",
   "name": "python3"
  },
  "language_info": {
   "codemirror_mode": {
    "name": "ipython",
    "version": 3
   },
   "file_extension": ".py",
   "mimetype": "text/x-python",
   "name": "python",
   "nbconvert_exporter": "python",
   "pygments_lexer": "ipython3",
   "version": "3.11.5"
  }
 },
 "nbformat": 4,
 "nbformat_minor": 5
}
