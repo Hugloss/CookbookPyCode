{
 "cells": [
  {
   "cell_type": "code",
   "execution_count": 6,
   "metadata": {},
   "outputs": [],
   "source": [
    "import os\n",
    "from PIL import Image\n",
    "from pillow_heif import register_heif_opener\n",
    "\n",
    "# Wraper needed when working with HEIF images\n",
    "register_heif_opener()"
   ]
  },
  {
   "cell_type": "code",
   "execution_count": 7,
   "metadata": {},
   "outputs": [],
   "source": [
    "\n",
    "def convert_img_to_jpeg(input_path, output_path):\n",
    "    \"\"\"\n",
    "    Converts a single HEIC/HEIF image to JPEG format.\n",
    "\n",
    "    Args:\n",
    "    input_path (str): Path to the input HEIC file.\n",
    "    output_path (str): Path to save the converted JPEG file.\n",
    "    \"\"\"\n",
    "    try:\n",
    "        with Image.open(input_path) as image:\n",
    "            image.convert('RGB').save(output_path)\n",
    "            print(f\"Converted {os.path.basename(input_path)} to JPEG.\")\n",
    "    except Exception as e:\n",
    "        print(f\"Error converting {os.path.basename(input_path)}: {e}\")\n",
    "\n",
    "def batch_convert_img_to_jpeg(directory):\n",
    "    \"\"\"\n",
    "    Converts all HEIC/HEIF images in a given directory to JPEG format.\n",
    "\n",
    "    Args:\n",
    "    directory (str): Directory containing HEIC images.\n",
    "    \"\"\"\n",
    "    # Get list of HEIF and HEIC files in the directory\n",
    "    supported_ext = ('.heic', '.heif', '.jpeg', '.jpg', '.webp', '.jfif')\n",
    "    files = [f for f in os.listdir(directory) if f.lower().endswith(supported_ext)]\n",
    "\n",
    "    if not files:\n",
    "        print(\"No HEIC/HEIF files found in the directory.\")\n",
    "        return\n",
    "\n",
    "    output_dir = os.path.join(directory, 'output')\n",
    "    # Ensure the folder exists\n",
    "    os.makedirs(output_dir, exist_ok=True)\n",
    "\n",
    "    # Convert each file to JPEG\n",
    "    for filename in files:\n",
    "        input_path = os.path.join(directory, filename)\n",
    "        output_path = os.path.join(output_dir, os.path.splitext(filename)[0] + '.jpg')\n",
    "        convert_img_to_jpeg(input_path, output_path)\n",
    "\n",
    "    print(f\"All images in {directory} have been converted.\")"
   ]
  },
  {
   "cell_type": "code",
   "execution_count": null,
   "metadata": {},
   "outputs": [],
   "source": [
    "# change images in resource folder\n",
    "batch_convert_img_to_jpeg('../_data/resource')"
   ]
  },
  {
   "cell_type": "code",
   "execution_count": null,
   "metadata": {},
   "outputs": [],
   "source": [
    "# change images in downloads folder\n",
    "batch_convert_img_to_jpeg('/mnt/c/Users/my_user/Downloads/imgs')\n"
   ]
  }
 ],
 "metadata": {
  "kernelspec": {
   "display_name": "Python 3",
   "language": "python",
   "name": "python3"
  },
  "language_info": {
   "codemirror_mode": {
    "name": "ipython",
    "version": 3
   },
   "file_extension": ".py",
   "mimetype": "text/x-python",
   "name": "python",
   "nbconvert_exporter": "python",
   "pygments_lexer": "ipython3",
   "version": "3.10.6"
  }
 },
 "nbformat": 4,
 "nbformat_minor": 2
}
