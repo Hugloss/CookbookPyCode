{
 "cells": [
  {
   "cell_type": "markdown",
   "metadata": {},
   "source": [
    "# Manual calculate MultiplyMania mod"
   ]
  },
  {
   "cell_type": "code",
   "execution_count": 93,
   "metadata": {},
   "outputs": [],
   "source": [
    "def formula_original(x, y, alpha, beta, verbose=False, mod=0):\n",
    "    \"\"\"\n",
    "    Original formula\n",
    "    z = (x - α) * (y - β) + (α * y) + (β * x) - α * β\n",
    "    \"\"\"\n",
    "    z = (x - alpha) * (y - beta) + (alpha * y) + (beta * x) - alpha * beta\n",
    "    if verbose:\n",
    "        print(f\"{z} = ({x} - {alpha}) * ({y} - {beta}) + ({alpha} * {y}) + ({beta} * {x}) - {alpha} * {beta}\")\n",
    "        print(f\"{z} = ({x - alpha}) * ({y - beta}) + ({alpha * y}) + ({beta * x}) - {alpha * beta}\")\n",
    "        print(f\"{z} = ({(x - alpha) * (y - beta)}) + {(alpha * y) + (beta * x) - alpha * beta}\")\n",
    "    if mod > 0:\n",
    "        print('')\n",
    "        print(f\"{z} % {mod} = ((({x - alpha}) % {mod} * ({y - beta}) % {mod}) % {mod} + ({alpha * y}) % {mod} + ({beta * x}) % {mod} - {alpha * beta} % {mod}) % {mod}\")\n",
    "        print(f\"{z % mod} = ((({(x - alpha)  % mod }) * ({(y - beta)  % mod})) % {mod}) + ({(alpha * y) % mod}) + ({(beta * x) % mod}) - {(alpha * beta) % mod}) % {mod}\")\n",
    "        print(f\"{z % mod} = (({(x - alpha) * (y - beta) % mod}) + {((alpha * y) + (beta * x) - alpha * beta) % mod}) % {mod}\")\n",
    "        print(f\"{z % mod} = ({((x - alpha) * (y - beta) % mod) + ((alpha * y) + (beta * x) - alpha * beta) % mod}) % {mod}\")\n",
    "    return z"
   ]
  },
  {
   "cell_type": "markdown",
   "metadata": {},
   "source": [
    "# Visual representation how mod is easily calculated"
   ]
  },
  {
   "cell_type": "code",
   "execution_count": 94,
   "metadata": {},
   "outputs": [
    {
     "name": "stdout",
     "output_type": "stream",
     "text": [
      "617\n",
      "117\n",
      "-383\n"
     ]
    }
   ],
   "source": [
    "# possible mathes\n",
    "n = 617\n",
    "m = 500\n",
    "print(n)\n",
    "print(n - m)\n",
    "print(n - m*2)"
   ]
  },
  {
   "cell_type": "code",
   "execution_count": 95,
   "metadata": {},
   "outputs": [
    {
     "name": "stdout",
     "output_type": "stream",
     "text": [
      "998388897 = (34617 - 17) * (28841 - 41) + (17 * 28841) + (41 * 34617) - 17 * 41\n",
      "998388897 = (34600) * (28800) + (490297) + (1419297) - 697\n",
      "998388897 = (996480000) + 1908897\n",
      "\n",
      "998388897 % 50 = (((34600) % 50 * (28800) % 50) % 50 + (490297) % 50 + (1419297) % 50 - 697 % 50) % 50\n",
      "47 = (((0) * (0)) % 50) + (47) + (47) - 47) % 50\n",
      "47 = ((0) + 47) % 50\n",
      "47 = (47) % 50\n"
     ]
    },
    {
     "data": {
      "text/plain": [
       "998388897"
      ]
     },
     "execution_count": 95,
     "metadata": {},
     "output_type": "execute_result"
    }
   ],
   "source": [
    "formula_original(34617, 28841, 17, 41, True, 50)"
   ]
  },
  {
   "cell_type": "code",
   "execution_count": 96,
   "metadata": {},
   "outputs": [
    {
     "name": "stdout",
     "output_type": "stream",
     "text": [
      "998388897 = (34617 - 617) * (28841 - 841) + (617 * 28841) + (841 * 34617) - 617 * 841\n",
      "998388897 = (34000) * (28000) + (17794897) + (29112897) - 518897\n",
      "998388897 = (952000000) + 46388897\n",
      "\n",
      "998388897 % 500 = (((34000) % 500 * (28000) % 500) % 500 + (17794897) % 500 + (29112897) % 500 - 518897 % 500) % 500\n",
      "397 = (((0) * (0)) % 500) + (397) + (397) - 397) % 500\n",
      "397 = ((0) + 397) % 500\n",
      "397 = (397) % 500\n"
     ]
    },
    {
     "data": {
      "text/plain": [
       "998388897"
      ]
     },
     "execution_count": 96,
     "metadata": {},
     "output_type": "execute_result"
    }
   ],
   "source": [
    "formula_original(34617, 28841, 617, 841, True, 500)"
   ]
  },
  {
   "cell_type": "code",
   "execution_count": 97,
   "metadata": {},
   "outputs": [
    {
     "name": "stdout",
     "output_type": "stream",
     "text": [
      "998388897 = (34617 - 117) * (28841 - 841) + (117 * 28841) + (841 * 34617) - 117 * 841\n",
      "998388897 = (34500) * (28000) + (3374397) + (29112897) - 98397\n",
      "998388897 = (966000000) + 32388897\n",
      "\n",
      "998388897 % 500 = (((34500) % 500 * (28000) % 500) % 500 + (3374397) % 500 + (29112897) % 500 - 98397 % 500) % 500\n",
      "397 = (((0) * (0)) % 500) + (397) + (397) - 397) % 500\n",
      "397 = ((0) + 397) % 500\n",
      "397 = (397) % 500\n"
     ]
    },
    {
     "data": {
      "text/plain": [
       "998388897"
      ]
     },
     "execution_count": 97,
     "metadata": {},
     "output_type": "execute_result"
    }
   ],
   "source": [
    "formula_original(34617, 28841, 117, 841, True, 500)"
   ]
  },
  {
   "cell_type": "code",
   "execution_count": 52,
   "metadata": {},
   "outputs": [
    {
     "name": "stdout",
     "output_type": "stream",
     "text": [
      "998388897 = (34617 - -383) * (28841 - 841) + (-383 * 28841) + (841 * 34617) - -383 * 841\n",
      "998388897 = (35000) * (28000) + (-11046103) + (29112897) - -322103\n",
      "998388897 = (980000000) + 18388897\n",
      "\n",
      "998388897 % 500 = (((35000) % 500 * (28000) % 500) % 500 + (-11046103) % 500 + (29112897) % 500 - -322103 % 500) % 500\n",
      "397 = (((0) * (0)) % 500) + (397) + (397) - 397) % 500\n",
      "397 = ((0) + 397) % 500\n",
      "397 = (397) % 500\n"
     ]
    },
    {
     "data": {
      "text/plain": [
       "998388897"
      ]
     },
     "execution_count": 52,
     "metadata": {},
     "output_type": "execute_result"
    }
   ],
   "source": [
    "formula_original(34617, 28841, -383, 841, True, 500)"
   ]
  },
  {
   "cell_type": "code",
   "execution_count": 51,
   "metadata": {},
   "outputs": [
    {
     "name": "stdout",
     "output_type": "stream",
     "text": [
      "998388897 = (34617 - -383) * (28841 - -159) + (-383 * 28841) + (-159 * 34617) - -383 * -159\n",
      "998388897 = (35000) * (29000) + (-11046103) + (-5504103) - 60897\n",
      "998388897 = (1015000000) + -16611103\n",
      "\n",
      "998388897 % 500 = (((35000) % 500 * (29000) % 500) % 500 + (-11046103) % 500 + (-5504103) % 500 - 60897 % 500) % 500\n",
      "397 = (((0) * (0)) % 500) + (397) + (397) - 397) % 500\n",
      "397 = ((0) + 397) % 500\n",
      "397 = (397) % 500\n"
     ]
    },
    {
     "data": {
      "text/plain": [
       "998388897"
      ]
     },
     "execution_count": 51,
     "metadata": {},
     "output_type": "execute_result"
    }
   ],
   "source": [
    "formula_original(34617, 28841, -383, -159, True, 500)"
   ]
  },
  {
   "cell_type": "markdown",
   "metadata": {},
   "source": [
    "## Help function to create number list"
   ]
  },
  {
   "cell_type": "code",
   "execution_count": 4,
   "metadata": {},
   "outputs": [
    {
     "name": "stdout",
     "output_type": "stream",
     "text": [
      "New number: 91235\n"
     ]
    }
   ],
   "source": [
    "def add_numbers_leftmost(given_number, num_digits):\n",
    "    \"\"\"\n",
    "    Add numbers to the leftmost position of a given number.\n",
    "\n",
    "    Parameters:\n",
    "    given_number (int): The given number.\n",
    "    num_digits (int): The number of digits to add to the leftmost position.\n",
    "    \"\"\"\n",
    "    return int(str(num_digits) +  str(given_number))\n",
    "\n",
    "# Example usage\n",
    "given_number = 1235\n",
    "num_digits = 9\n",
    "new_number = add_numbers_leftmost(given_number, num_digits)\n",
    "print(\"New number:\", new_number)"
   ]
  },
  {
   "cell_type": "code",
   "execution_count": 33,
   "metadata": {},
   "outputs": [],
   "source": [
    "def create_number_dictionary(given_number, num_array=range(10)):\n",
    "    \"\"\"\n",
    "    Create a dictionary with keys ranging from 0 to 9,\n",
    "    where each value is the result of adding the respective key to the given number\n",
    "    using the add_numbers_leftmost function.\n",
    "\n",
    "    Args:\n",
    "        given_number (int): The given number to which each key will be added.\n",
    "\n",
    "    Returns:\n",
    "        dict: A dictionary where keys range from 0 to 9,\n",
    "              and each value is the result of adding the respective key to the given number.\n",
    "    \"\"\"\n",
    "    # Create an empty dictionary to store the results\n",
    "    resulting_numbers = {}\n",
    "\n",
    "    # Iterate over numbers from 0 to 9\n",
    "    for num in num_array:\n",
    "        # Add the resulting number to the dictionary\n",
    "        resulting_numbers[num] = add_numbers_leftmost(given_number, num)\n",
    "\n",
    "    return resulting_numbers\n",
    "\n",
    "def even_number_dictionary(given_number):\n",
    "    return create_number_dictionary(given_number, [0,2,4,6,8])\n",
    "\n",
    "def odd_number_dictionary(given_number):\n",
    "    return create_number_dictionary(given_number, [1,3,5,7,9])"
   ]
  },
  {
   "cell_type": "code",
   "execution_count": 31,
   "metadata": {},
   "outputs": [
    {
     "data": {
      "text/plain": [
       "{0: 1235,\n",
       " 1: 11235,\n",
       " 2: 21235,\n",
       " 3: 31235,\n",
       " 4: 41235,\n",
       " 5: 51235,\n",
       " 6: 61235,\n",
       " 7: 71235,\n",
       " 8: 81235,\n",
       " 9: 91235}"
      ]
     },
     "execution_count": 31,
     "metadata": {},
     "output_type": "execute_result"
    }
   ],
   "source": [
    "# Create the dictionary using the defined function\n",
    "resulting_dict = create_number_dictionary(given_number)\n",
    "\n",
    "# Print the resulting dictionary\n",
    "resulting_dict"
   ]
  },
  {
   "cell_type": "code",
   "execution_count": 34,
   "metadata": {},
   "outputs": [
    {
     "data": {
      "text/plain": [
       "{1: 11235, 3: 31235, 5: 51235, 7: 71235, 9: 91235}"
      ]
     },
     "execution_count": 34,
     "metadata": {},
     "output_type": "execute_result"
    }
   ],
   "source": [
    "odd_number_dictionary(given_number)"
   ]
  },
  {
   "cell_type": "code",
   "execution_count": 35,
   "metadata": {},
   "outputs": [
    {
     "data": {
      "text/plain": [
       "{0: 1235, 2: 21235, 4: 41235, 6: 61235, 8: 81235}"
      ]
     },
     "execution_count": 35,
     "metadata": {},
     "output_type": "execute_result"
    }
   ],
   "source": [
    "even_number_dictionary(given_number)"
   ]
  },
  {
   "cell_type": "code",
   "execution_count": 134,
   "metadata": {},
   "outputs": [],
   "source": [
    "def calculate_product_combinations(x, y, mod=0):\n",
    "    \"\"\"\n",
    "    Calculate the product of all possible combinations of elements from two dictionaries.\n",
    "\n",
    "    Args:\n",
    "        x (dict): The first dictionary.\n",
    "        y (dict): The second dictionary.\n",
    "\n",
    "    Returns:\n",
    "        list: A list containing the product of all possible combinations of elements from x and y.\n",
    "    \"\"\"\n",
    "    # Initialize an empty list to store the results\n",
    "    combined_list = {}\n",
    "\n",
    "    # Iterate over each key-value pair in the first dictionary\n",
    "    for x_key, x_value in x.items():\n",
    "        # Iterate over each key-value pair in the second dictionary\n",
    "        for y_key, y_value in y.items():\n",
    "            if mod > 0:\n",
    "                combined_list.append((x_value * y_value) % mod)\n",
    "            else:\n",
    "                combined_list.append(x_value * y_value)\n",
    "\n",
    "    return combined_list"
   ]
  },
  {
   "cell_type": "code",
   "execution_count": 179,
   "metadata": {},
   "outputs": [],
   "source": [
    "class ProductInfo:\n",
    "    def __init__(self, x, y, mod=0):\n",
    "        self.x = x\n",
    "        self.y = y\n",
    "        self.val_prod = x * y\n",
    "        if mod > 0:\n",
    "            self.val_mod = x * y % mod\n",
    "        else:\n",
    "            self.val_mod = None\n",
    "\n",
    "    def __str__(self):\n",
    "        return f\"ProductInfo: x={self.x}, y={self.y}, val_prod={self.val_prod}, val_mod={self.val_mod}\"\n",
    "\n",
    "    def __repr__(self):\n",
    "        return str(self)\n",
    "\n",
    "\n",
    "def calculate_product_combinations(x, y, mod=0):\n",
    "    \"\"\"\n",
    "    Calculate the product of all possible combinations of elements from two dictionaries.\n",
    "\n",
    "    Args:\n",
    "        x (dict): The first dictionary.\n",
    "        y (dict): The second dictionary.\n",
    "        mod (int): Modulus value (optional).\n",
    "\n",
    "    Returns:\n",
    "        dict: A dictionary containing the product of all possible combinations of elements from x and y.\n",
    "    \"\"\"\n",
    "    # Initialize an empty list to store the results\n",
    "    product_combinations = []\n",
    "\n",
    "    for x_key, x_value in x.items():\n",
    "        for y_key, y_value in y.items():\n",
    "            product_combinations.append(ProductInfo(x_value, y_value, mod))\n",
    "\n",
    "\n",
    "    return product_combinations"
   ]
  },
  {
   "cell_type": "code",
   "execution_count": 183,
   "metadata": {},
   "outputs": [],
   "source": [
    "def filter_product_info(product_list, z, mod):\n",
    "    \"\"\"\n",
    "    Filter a list of ProductInfo instances based on the formula z % mod.\n",
    "\n",
    "    Args:\n",
    "        product_list (list): List of ProductInfo instances.\n",
    "        z (int): Value for filtering.\n",
    "        mod (int): Modulus value.\n",
    "\n",
    "    Returns:\n",
    "        list: Filtered list of ProductInfo instances.\n",
    "    \"\"\"\n",
    "    expected_mod = z % mod\n",
    "    filtered_list = []\n",
    "\n",
    "    for product in product_list:\n",
    "        if (product.val_prod % mod) == expected_mod:\n",
    "            filtered_list.append(product)\n",
    "\n",
    "    return filtered_list\n"
   ]
  },
  {
   "cell_type": "markdown",
   "metadata": {},
   "source": [
    "## Manually break down this mod calculations"
   ]
  },
  {
   "cell_type": "code",
   "execution_count": 12,
   "metadata": {},
   "outputs": [
    {
     "name": "stdout",
     "output_type": "stream",
     "text": [
      "47\n"
     ]
    }
   ],
   "source": [
    "z = 34617*28841\n",
    "print(z % 50)"
   ]
  },
  {
   "cell_type": "code",
   "execution_count": 13,
   "metadata": {},
   "outputs": [
    {
     "name": "stdout",
     "output_type": "stream",
     "text": [
      "47\n",
      "37\n",
      "47\n",
      "7\n",
      "17\n",
      "27\n",
      "37\n",
      "47\n",
      "7\n",
      "17\n",
      "27\n"
     ]
    }
   ],
   "source": [
    "# Test with mod 50\n",
    "print(z % 50)\n",
    "print(7*41 % 50)\n",
    "print(17*41 % 50)\n",
    "print(27*41 % 50)\n",
    "print(37*41 % 50)\n",
    "print(47*41 % 50)\n",
    "print(57*41 % 50)\n",
    "print(67*41 % 50)\n",
    "print(77*41 % 50)\n",
    "print(87*41 % 50)\n",
    "print(97*41 % 50)"
   ]
  },
  {
   "cell_type": "code",
   "execution_count": 16,
   "metadata": {},
   "outputs": [
    {
     "name": "stdout",
     "output_type": "stream",
     "text": [
      "47\n",
      "47\n",
      "47\n"
     ]
    }
   ],
   "source": [
    "# possible matches for mod 50:\n",
    "print(z % 50)\n",
    "print(17*41 % 50)\n",
    "print(67*41 % 50)"
   ]
  },
  {
   "cell_type": "code",
   "execution_count": 15,
   "metadata": {},
   "outputs": [
    {
     "name": "stdout",
     "output_type": "stream",
     "text": [
      "97\n",
      "97\n",
      "47\n"
     ]
    }
   ],
   "source": [
    "# Test with mod 100\n",
    "print(z % 100)\n",
    "print(17*41 % 100)\n",
    "print(67*41 % 100)"
   ]
  },
  {
   "cell_type": "code",
   "execution_count": 14,
   "metadata": {},
   "outputs": [
    {
     "name": "stdout",
     "output_type": "stream",
     "text": [
      "97\n",
      "97\n"
     ]
    }
   ],
   "source": [
    "# possible matches for mod 100:\n",
    "print(z % 100)\n",
    "print(17*41 % 100)"
   ]
  },
  {
   "cell_type": "code",
   "execution_count": 18,
   "metadata": {},
   "outputs": [
    {
     "name": "stdout",
     "output_type": "stream",
     "text": [
      "97\n",
      "97\n",
      "197\n",
      "97\n",
      "197\n",
      "97\n",
      "197\n",
      "97\n",
      "197\n",
      "97\n",
      "197\n"
     ]
    }
   ],
   "source": [
    "# Test with mod 200, increase x\n",
    "m = 200\n",
    "print(z % m)\n",
    "print(17*41 % m)\n",
    "print(117*41 % m)\n",
    "print(217*41 % m)\n",
    "print(317*41 % m)\n",
    "print(417*41 % m)\n",
    "print(517*41 % m)\n",
    "print(617*41 % m)\n",
    "print(717*41 % m)\n",
    "print(817*41 % m)\n",
    "print(917*41 % m)"
   ]
  },
  {
   "cell_type": "code",
   "execution_count": null,
   "metadata": {},
   "outputs": [],
   "source": [
    "# possible matches for mod 200, increase x\n",
    "# when x is even"
   ]
  },
  {
   "cell_type": "code",
   "execution_count": 19,
   "metadata": {},
   "outputs": [
    {
     "name": "stdout",
     "output_type": "stream",
     "text": [
      "97\n",
      "97\n",
      "197\n",
      "97\n",
      "197\n",
      "97\n",
      "197\n",
      "97\n",
      "197\n",
      "97\n",
      "197\n"
     ]
    }
   ],
   "source": [
    "# Test with mod 200, increase y\n",
    "m = 200\n",
    "print(z % m)\n",
    "print(17*41 % m)\n",
    "print(17*141 % m)\n",
    "print(17*241 % m)\n",
    "print(17*341 % m)\n",
    "print(17*441 % m)\n",
    "print(17*541 % m)\n",
    "print(17*641 % m)\n",
    "print(17*741 % m)\n",
    "print(17*841 % m)\n",
    "print(17*941 % m)"
   ]
  },
  {
   "cell_type": "code",
   "execution_count": null,
   "metadata": {},
   "outputs": [],
   "source": [
    "# possible matches for mod 200, increase x\n",
    "# when y is even"
   ]
  },
  {
   "cell_type": "code",
   "execution_count": 196,
   "metadata": {},
   "outputs": [
    {
     "data": {
      "text/plain": [
       "[ProductInfo: x=17, y=41, val_prod=697, val_mod=97,\n",
       " ProductInfo: x=17, y=241, val_prod=4097, val_mod=97,\n",
       " ProductInfo: x=17, y=441, val_prod=7497, val_mod=97,\n",
       " ProductInfo: x=17, y=641, val_prod=10897, val_mod=97,\n",
       " ProductInfo: x=17, y=841, val_prod=14297, val_mod=97,\n",
       " ProductInfo: x=217, y=41, val_prod=8897, val_mod=97,\n",
       " ProductInfo: x=217, y=241, val_prod=52297, val_mod=97,\n",
       " ProductInfo: x=217, y=441, val_prod=95697, val_mod=97,\n",
       " ProductInfo: x=217, y=641, val_prod=139097, val_mod=97,\n",
       " ProductInfo: x=217, y=841, val_prod=182497, val_mod=97,\n",
       " ProductInfo: x=417, y=41, val_prod=17097, val_mod=97,\n",
       " ProductInfo: x=417, y=241, val_prod=100497, val_mod=97,\n",
       " ProductInfo: x=417, y=441, val_prod=183897, val_mod=97,\n",
       " ProductInfo: x=417, y=641, val_prod=267297, val_mod=97,\n",
       " ProductInfo: x=417, y=841, val_prod=350697, val_mod=97,\n",
       " ProductInfo: x=617, y=41, val_prod=25297, val_mod=97,\n",
       " ProductInfo: x=617, y=241, val_prod=148697, val_mod=97,\n",
       " ProductInfo: x=617, y=441, val_prod=272097, val_mod=97,\n",
       " ProductInfo: x=617, y=641, val_prod=395497, val_mod=97,\n",
       " ProductInfo: x=617, y=841, val_prod=518897, val_mod=97,\n",
       " ProductInfo: x=817, y=41, val_prod=33497, val_mod=97,\n",
       " ProductInfo: x=817, y=241, val_prod=196897, val_mod=97,\n",
       " ProductInfo: x=817, y=441, val_prod=360297, val_mod=97,\n",
       " ProductInfo: x=817, y=641, val_prod=523697, val_mod=97,\n",
       " ProductInfo: x=817, y=841, val_prod=687097, val_mod=97]"
      ]
     },
     "execution_count": 196,
     "metadata": {},
     "output_type": "execute_result"
    }
   ],
   "source": [
    "# all posiible mathes is:\n",
    "x = even_number_dictionary(17)\n",
    "y = even_number_dictionary(41)\n",
    "\n",
    "# Call the function to calculate the product combinations\n",
    "result = calculate_product_combinations(x, y, 200)\n",
    "result"
   ]
  },
  {
   "cell_type": "markdown",
   "metadata": {},
   "source": [
    "Wow just two digits and we have all of these combinations"
   ]
  },
  {
   "cell_type": "code",
   "execution_count": 154,
   "metadata": {},
   "outputs": [
    {
     "data": {
      "text/plain": [
       "25"
      ]
     },
     "execution_count": 154,
     "metadata": {},
     "output_type": "execute_result"
    }
   ],
   "source": [
    "len(result)"
   ]
  },
  {
   "cell_type": "code",
   "execution_count": 197,
   "metadata": {},
   "outputs": [
    {
     "data": {
      "text/plain": [
       "[ProductInfo: x=17, y=641, val_prod=10897, val_mod=97,\n",
       " ProductInfo: x=217, y=41, val_prod=8897, val_mod=97,\n",
       " ProductInfo: x=417, y=441, val_prod=183897, val_mod=97,\n",
       " ProductInfo: x=617, y=841, val_prod=518897, val_mod=97,\n",
       " ProductInfo: x=817, y=241, val_prod=196897, val_mod=97]"
      ]
     },
     "execution_count": 197,
     "metadata": {},
     "output_type": "execute_result"
    }
   ],
   "source": [
    "fi = filter_product_info(result, z, 500)\n",
    "fi\n"
   ]
  },
  {
   "cell_type": "markdown",
   "metadata": {},
   "source": []
  }
 ],
 "metadata": {
  "kernelspec": {
   "display_name": "Python 3",
   "language": "python",
   "name": "python3"
  },
  "language_info": {
   "codemirror_mode": {
    "name": "ipython",
    "version": 3
   },
   "file_extension": ".py",
   "mimetype": "text/x-python",
   "name": "python",
   "nbconvert_exporter": "python",
   "pygments_lexer": "ipython3",
   "version": "3.10.6"
  }
 },
 "nbformat": 4,
 "nbformat_minor": 2
}
