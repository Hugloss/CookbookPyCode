{
 "cells": [
  {
   "cell_type": "markdown",
   "metadata": {},
   "source": [
    "# Approximate ellipse area as integrand"
   ]
  },
  {
   "cell_type": "code",
   "execution_count": 1,
   "metadata": {},
   "outputs": [],
   "source": [
    "import numpy as np"
   ]
  },
  {
   "cell_type": "markdown",
   "metadata": {},
   "source": [
    "## Integrand is calculated with midpoint approximation"
   ]
  },
  {
   "cell_type": "code",
   "execution_count": 2,
   "metadata": {},
   "outputs": [],
   "source": [
    "def midpoint_approximation_ellipse_area_1(a, b, n):\n",
    "    theta_intervals = np.linspace(0, 2 * np.pi, n + 1)\n",
    "\n",
    "    # Initialize total area\n",
    "    area = 0\n",
    "\n",
    "    # Calculate the area for each interval using the midpoint approximation\n",
    "    for i in range(n):\n",
    "        theta_1 = theta_intervals[i]\n",
    "        theta_2 = theta_intervals[i + 1]\n",
    "        theta_mid = (theta_1 + theta_2) / 2\n",
    "        delta_theta = theta_2 - theta_1\n",
    "        integrand_value = (a * b) ** 2 / ((b * np.cos(theta_mid)) ** 2 + (a * np.sin(theta_mid)) ** 2)\n",
    "        area += integrand_value * delta_theta\n",
    "\n",
    "    # Divide by 2 to get the true approximate area\n",
    "    return area / 2\n",
    "\n",
    "def midpoint_approximation_ellipse_area_2(a, b, n):\n",
    "    # Define the step size\n",
    "    h = 2 * np.pi / n\n",
    "\n",
    "    # Define the function to integrate\n",
    "    def f(theta):\n",
    "        return a * np.cos(theta) * b * np.cos(theta)\n",
    "\n",
    "    # Calculate the area using the midpoint approximation\n",
    "    area = 0\n",
    "    for i in range(n):\n",
    "        theta = (i + 0.5) * h\n",
    "        area += f(theta)\n",
    "\n",
    "    area *= h\n",
    "    return area"
   ]
  },
  {
   "cell_type": "markdown",
   "metadata": {},
   "source": [
    "## Integrand is calculated with trapezoidal approximation"
   ]
  },
  {
   "cell_type": "code",
   "execution_count": 150,
   "metadata": {},
   "outputs": [],
   "source": [
    "def trapezoidal_rule_ellipse_area_1(a, b, n):\n",
    "    theta_intervals = np.linspace(0, 2 * np.pi, n + 1)\n",
    "\n",
    "    # Initialize total area\n",
    "    area = 0\n",
    "\n",
    "    # Calculate the area for each interval using the trapezoidal rule\n",
    "    for i in range(n):\n",
    "        theta_1 = theta_intervals[i]\n",
    "        theta_2 = theta_intervals[i + 1]\n",
    "        delta_theta = theta_2 - theta_1\n",
    "\n",
    "        integrand_value_1 = (a * b) ** 2 / ((b * np.cos(theta_1)) ** 2 + (a * np.sin(theta_1)) ** 2)\n",
    "        integrand_value_2 = (a * b) ** 2 / ((b * np.cos(theta_2)) ** 2 + (a * np.sin(theta_2)) ** 2)\n",
    "\n",
    "        area += (integrand_value_1 + integrand_value_2) * delta_theta / 2\n",
    "\n",
    "    # Divide by 2 to get the true approximate area\n",
    "    return area / 2\n",
    "\n",
    "def trapezoidal_rule_ellipse_area_2(a, b, n):\n",
    "    # Define the step size\n",
    "    h = 2 * np.pi / n\n",
    "\n",
    "    # Define the function to integrate\n",
    "    def f(theta):\n",
    "        return a * np.cos(theta) * b * np.cos(theta)\n",
    "\n",
    "    # Calculate the area using the trapezoidal rule\n",
    "    area = 0.5 * f(0) + 0.5 * f(2 * np.pi)\n",
    "    for i in range(1, n):\n",
    "        theta = i * h\n",
    "        area += f(theta)\n",
    "\n",
    "    area *= h\n",
    "    return area\n",
    "\n",
    "# Define the integrand function for the ellipse\n",
    "def integrand(theta, a, b):\n",
    "    return (a * b) ** 2 / ((b * np.cos(theta)) ** 2 + (a * np.sin(theta)) ** 2)\n",
    "\n",
    "def trapezoidal_rule_ellipse_area_3(a, b, n):\n",
    "    # Generate equally spaced theta values between 0 and 2π\n",
    "    theta_intervals = np.linspace(0, 2 * np.pi, n + 1)\n",
    "\n",
    "    # Calculate the integrand values at the theta intervals\n",
    "    integrand_values = integrand(theta_intervals, a, b)\n",
    "\n",
    "    # Apply the trapezoidal rule\n",
    "    area = np.trapz(integrand_values, theta_intervals)\n",
    "\n",
    "    return area/2"
   ]
  },
  {
   "cell_type": "code",
   "execution_count": 151,
   "metadata": {},
   "outputs": [],
   "source": [
    "def simpsons_rule_ellipse_area(a, b, n):\n",
    "    \"\"\"\n",
    "    Calculate the area of an ellipse using Simpson's rule.\n",
    "\n",
    "    Parameters:\n",
    "    a (float): Semi-major axis of the ellipse\n",
    "    b (float): Semi-minor axis of the ellipse\n",
    "    n (int): Number of intervals (must be even)\n",
    "\n",
    "    Returns:\n",
    "    float: Approximate area of the ellipse\n",
    "    \"\"\"\n",
    "    if n % 2 != 0:\n",
    "        raise ValueError(\"Number of intervals n must be even.\")\n",
    "\n",
    "    # Simpson's rule setup\n",
    "    h = 2 * np.pi / n\n",
    "    # theta = np.linspace(0, 2 * np.pi, n + 1)\n",
    "\n",
    "    # Function f(theta) = ab for the ellipse's parametric equation\n",
    "    f_theta = a * b\n",
    "\n",
    "    # Apply Simpson's rule\n",
    "    integral = f_theta * (h / 3) * (1 + 4 * sum(1 for i in range(1, n, 2)) + 2 * sum(1 for i in range(2, n-1, 2)) + 1)\n",
    "\n",
    "    return integral/2"
   ]
  },
  {
   "cell_type": "code",
   "execution_count": 152,
   "metadata": {},
   "outputs": [
    {
     "name": "stdout",
     "output_type": "stream",
     "text": [
      "All calculated area:\n",
      "True:  1943441062046815.00000000\n",
      "mid1:  1943441062046815.75000000\n",
      "mid2:  1943441062046818.75000000\n",
      "trap1: 1943441062046814.00000000\n",
      "trap2: 1943441062046816.25000000\n",
      "trap3: 1943441062046814.00000000\n",
      "simps: 1943441062046815.50000000\n",
      "\n",
      "ABS error:\n",
      "mid1:  0.750000000000000\n",
      "mid2:  3.750000000000000\n",
      "trap1: 1.000000000000000\n",
      "trap2: 1.250000000000000\n",
      "trap3: 1.000000000000000\n",
      "simps: 0.500000000000000\n",
      "\n",
      "Percentage error:\n",
      "mid1:  0.000000000000039%\n",
      "mid2:  0.000000000000193%\n",
      "trap1: 0.000000000000051%\n",
      "trap2: 0.000000000000064%\n",
      "trap3: 0.000000000000051%\n",
      "simps: 0.000000000000026%\n"
     ]
    }
   ],
   "source": [
    "a = 13 # Semi-minor axis length\n",
    "b = 67 # Semi-major axis length\n",
    "a = 17895697\n",
    "b = 34567891\n",
    "# a = 1346687978978\n",
    "# b = 3454546544545\n",
    "# a = 134668797897854564352345346767676322355656869864756353454535434576767898\n",
    "# b = 345454654454543465436545465676767553434634634635654767657657678345345435\n",
    "\n",
    "# True area of the ellipse\n",
    "true_area = np.pi * a * b\n",
    "\n",
    "\n",
    "# Calculate approximation of area\n",
    "n = 1000\n",
    "area_mid1 = midpoint_approximation_ellipse_area_1(a, b, n)\n",
    "area_mid2 = midpoint_approximation_ellipse_area_2(a, b, n)\n",
    "area_trap1 = trapezoidal_rule_ellipse_area_1(a, b, n)\n",
    "area_trap2 = trapezoidal_rule_ellipse_area_2(a, b, n)\n",
    "area_trap3 = trapezoidal_rule_ellipse_area_3(a, b, n)\n",
    "area_simps = simpsons_rule_ellipse_area(a, b, n)\n",
    "\n",
    "\n",
    "\n",
    "# print all values\n",
    "print(f\"All calculated area:\")\n",
    "print(f\"True:  {true_area:.8f}\")\n",
    "print(f\"mid1:  {area_mid1:.8f}\")\n",
    "print(f\"mid2:  {area_mid2:.8f}\")\n",
    "print(f\"trap1: {area_trap1:.8f}\")\n",
    "print(f\"trap2: {area_trap2:.8f}\")\n",
    "print(f\"trap3: {area_trap3:.8f}\")\n",
    "print(f\"simps: {area_simps:.8f}\")\n",
    "\n",
    "print(f\"\\nABS error:\")\n",
    "print(f\"mid1:  {abs((area_mid1 - true_area)):.15f}\")\n",
    "print(f\"mid2:  {abs((area_mid2 - true_area)):.15f}\")\n",
    "print(f\"trap1: {abs((area_trap1 - true_area)):.15f}\")\n",
    "print(f\"trap2: {abs((area_trap2 - true_area)):.15f}\")\n",
    "print(f\"trap3: {abs((area_trap3 - true_area)):.15f}\")\n",
    "print(f\"simps: {abs((area_simps - true_area)):.15f}\")\n",
    "\n",
    "print(f\"\\nPercentage error:\")\n",
    "print(f\"mid1:  {abs((area_mid1 - true_area) / true_area) * 100:.15f}%\")\n",
    "print(f\"mid2:  {abs((area_mid2 - true_area) / true_area) * 100:.15f}%\")\n",
    "print(f\"trap1: {abs((area_trap1 - true_area) / true_area) * 100:.15f}%\")\n",
    "print(f\"trap2: {abs((area_trap2 - true_area) / true_area) * 100:.15f}%\")\n",
    "print(f\"trap3: {abs((area_trap3 - true_area) / true_area) * 100:.15f}%\")\n",
    "print(f\"simps: {abs((area_simps - true_area) / true_area) * 100:.15f}%\")"
   ]
  },
  {
   "cell_type": "code",
   "execution_count": null,
   "metadata": {},
   "outputs": [],
   "source": [
    "\n",
    "def radii_midpoint_2(A, b, n):\n",
    "    a = A/b\n",
    "    # Define the step size\n",
    "    h = 2 * np.pi / n\n",
    "\n",
    "    # Define the function to integrate\n",
    "    def f(theta):\n",
    "        return a * np.cos(theta) * b * np.cos(theta)\n",
    "\n",
    "    # Calculate the area using the midpoint approximation\n",
    "    area = 0\n",
    "    for i in range(n):\n",
    "        theta = (i + 0.5) * h\n",
    "        area += f(theta)\n",
    "\n",
    "    area *= h\n",
    "    return area"
   ]
  },
  {
   "cell_type": "code",
   "execution_count": 70,
   "metadata": {},
   "outputs": [
    {
     "data": {
      "text/plain": [
       "array([0.        , 0.28559933, 0.57119866, 0.856798  , 1.14239733,\n",
       "       1.42799666, 1.71359599, 1.99919533, 2.28479466, 2.57039399,\n",
       "       2.85599332, 3.14159265, 3.42719199, 3.71279132, 3.99839065,\n",
       "       4.28398998, 4.56958931, 4.85518865, 5.14078798, 5.42638731,\n",
       "       5.71198664, 5.99758598, 6.28318531])"
      ]
     },
     "execution_count": 70,
     "metadata": {},
     "output_type": "execute_result"
    }
   ],
   "source": [
    "n=22\n",
    "theta_intervals = np.linspace(0, 2 * np.pi, n + 1)\n",
    "theta_intervals"
   ]
  },
  {
   "cell_type": "code",
   "execution_count": 71,
   "metadata": {},
   "outputs": [
    {
     "data": {
      "text/plain": [
       "6.283185307179586"
      ]
     },
     "execution_count": 71,
     "metadata": {},
     "output_type": "execute_result"
    }
   ],
   "source": [
    "2 * np.pi"
   ]
  },
  {
   "cell_type": "code",
   "execution_count": 134,
   "metadata": {},
   "outputs": [],
   "source": [
    "def radii_midpoint_approximation_ellipse_area(A, b, n):\n",
    "    theta_intervals = np.linspace(0, 2 * np.pi, n + 1)\n",
    "    a = A/(np.pi*b)\n",
    "\n",
    "    # Initialize total area\n",
    "    area = 0\n",
    "\n",
    "    # last intervall is for\n",
    "\n",
    "    # Calculate the area for each interval using the midpoint approximation\n",
    "    for i in range(n):\n",
    "        theta_1 = theta_intervals[i]\n",
    "        theta_2 = theta_intervals[i + 1]\n",
    "        theta_mid = (theta_1 + theta_2) / 2\n",
    "        delta_theta = theta_2 - theta_1\n",
    "        integrand_value = (a * b) ** 2 / ((b * np.cos(theta_mid)) ** 2 + (a * np.sin(theta_mid)) ** 2)\n",
    "\n",
    "        # print(i)\n",
    "        # print(b*b)\n",
    "        # print(integrand_value)\n",
    "        area += integrand_value * delta_theta\n",
    "\n",
    "    # Divide by 2 to get the true approximate area\n",
    "    return area / 2"
   ]
  },
  {
   "cell_type": "code",
   "execution_count": 139,
   "metadata": {},
   "outputs": [
    {
     "data": {
      "text/plain": [
       "0.25"
      ]
     },
     "execution_count": 139,
     "metadata": {},
     "output_type": "execute_result"
    }
   ],
   "source": [
    "a = 17895697\n",
    "b = 34567891\n",
    "# a = 1346687978978\n",
    "# b = 3454546544545\n",
    "# a = 134668797897854564352345346767676322355656869864756353454535434576767898\n",
    "# b = 345454654454543465436545465676767553434634634635654767657657678345345435\n",
    "\n",
    "# True area of the ellipse\n",
    "true_area = np.pi * a * b\n",
    "\n",
    "b_ = 26766536\n",
    "radii_area = radii_midpoint_approximation_ellipse_area(true_area,b_,600)\n",
    "b__2 = abs(true_area - radii_area)\n",
    "b__2"
   ]
  },
  {
   "cell_type": "code",
   "execution_count": 97,
   "metadata": {},
   "outputs": [
    {
     "data": {
      "text/plain": [
       "783977877014672.1"
      ]
     },
     "execution_count": 97,
     "metadata": {},
     "output_type": "execute_result"
    }
   ],
   "source": [
    "integrand_1*2"
   ]
  },
  {
   "cell_type": "code",
   "execution_count": 89,
   "metadata": {},
   "outputs": [],
   "source": [
    "# Calculate the total area using the corrected formula\n",
    "integrand_1 = 4 * (a * b) ** 2 / (3 * b ** 2 + a ** 2)\n",
    "integrand_2 = b ** 2\n",
    "integrand_3 = 4 * (a * b) ** 2 / (3 * a ** 2 + b ** 2)\n",
    "integrand_4 = 4 * (a * b) ** 2 / (3 * b ** 2 + a ** 2)\n",
    "integrand_5 = a ** 2\n",
    "integrand_6 = 4 * (a * b) ** 2 / (3 * b ** 2 + a ** 2)\n",
    "\n",
    "integrand_area = (integrand_1 + integrand_2 + integrand_3 + integrand_4 + integrand_5 + integrand_6)\n",
    "\n",
    "total_area = (np.pi / 3) * (integrand_1 + integrand_2 + integrand_3 + integrand_4 + integrand_5 + integrand_6)"
   ]
  },
  {
   "cell_type": "code",
   "execution_count": 95,
   "metadata": {},
   "outputs": [
    {
     "data": {
      "text/plain": [
       "1780891202450007.8"
      ]
     },
     "execution_count": 95,
     "metadata": {},
     "output_type": "execute_result"
    }
   ],
   "source": [
    "integrand_area*np.pi/6"
   ]
  },
  {
   "cell_type": "code",
   "execution_count": 94,
   "metadata": {},
   "outputs": [
    {
     "data": {
      "text/plain": [
       "1943441062046815.0"
      ]
     },
     "execution_count": 94,
     "metadata": {},
     "output_type": "execute_result"
    }
   ],
   "source": [
    "true_area"
   ]
  },
  {
   "cell_type": "code",
   "execution_count": 104,
   "metadata": {},
   "outputs": [
    {
     "name": "stdout",
     "output_type": "stream",
     "text": [
      "320255971115809.0\n",
      "320255971115809\n",
      "1194939088187881\n"
     ]
    }
   ],
   "source": [
    "theta_mid = np.pi\n",
    "integrand_approx_midpoint = (a * b) ** 2 / ((b * np.cos(theta_mid)) ** 2 + (a * np.sin(theta_mid)) ** 2)\n",
    "\n",
    "print(integrand_approx_midpoint)\n",
    "print(a*a)\n",
    "print(b*b)"
   ]
  },
  {
   "cell_type": "code",
   "execution_count": 118,
   "metadata": {},
   "outputs": [
    {
     "name": "stdout",
     "output_type": "stream",
     "text": [
      "27524489.63472066\n",
      "17895697\n",
      "34567891\n"
     ]
    }
   ],
   "source": [
    "# Define the integrand function for the ellipse\n",
    "def integrand(theta, a, b):\n",
    "    return a * b * np.sqrt((np.sin(theta) ** 2 / a ** 2) + (np.cos(theta) ** 2 / b ** 2))\n",
    "\n",
    "theta = 3*np.pi/4\n",
    "print(integrand(theta, a, b))\n",
    "print(a)\n",
    "print(b)"
   ]
  },
  {
   "cell_type": "code",
   "execution_count": 111,
   "metadata": {},
   "outputs": [
    {
     "data": {
      "text/plain": [
       "range(1, 5)"
      ]
     },
     "execution_count": 111,
     "metadata": {},
     "output_type": "execute_result"
    }
   ],
   "source": [
    "a"
   ]
  },
  {
   "cell_type": "code",
   "execution_count": 101,
   "metadata": {},
   "outputs": [
    {
     "data": {
      "text/plain": [
       "0.7853981633974483"
      ]
     },
     "execution_count": 101,
     "metadata": {},
     "output_type": "execute_result"
    }
   ],
   "source": [
    "np.pi/2-np.pi/4"
   ]
  },
  {
   "cell_type": "code",
   "execution_count": 131,
   "metadata": {},
   "outputs": [
    {
     "data": {
      "text/plain": [
       "1943441062046840.0"
      ]
     },
     "execution_count": 131,
     "metadata": {},
     "output_type": "execute_result"
    }
   ],
   "source": [
    "def ellipse_area_integrand_approx_midpoint(theta, a, b):\n",
    "    \"\"\"\n",
    "    Approximate integrand function for the area of an ellipse using midpoint approximation.\n",
    "\n",
    "    Parameters:\n",
    "    - theta: The angle in radians.\n",
    "    - a: The semi-major axis of the ellipse.\n",
    "    - b: The semi-minor axis of the ellipse.\n",
    "\n",
    "    Returns:\n",
    "    - The integrand approximation value at the given theta.\n",
    "    \"\"\"\n",
    "    return (a * b)**2 / ((b * np.cos(theta))**2 + (a * np.sin(theta))**2)\n",
    "\n",
    "def ellipse_area_midpoint_approx(a, b, num_intervals):\n",
    "    \"\"\"\n",
    "    Calculates the area of an ellipse using the midpoint approximation with the more accurate integrand.\n",
    "\n",
    "    Parameters:\n",
    "    - a: The semi-major axis of the ellipse.\n",
    "    - b: The semi-minor axis of the ellipse.\n",
    "    - num_intervals: The number of intervals to divide [0, 2pi] for the midpoint approximation.\n",
    "\n",
    "    Returns:\n",
    "    - Approximate area of the ellipse.\n",
    "    \"\"\"\n",
    "    delta_theta = 2 * np.pi / num_intervals\n",
    "    midpoints = np.linspace(delta_theta / 2, 2 * np.pi - delta_theta / 2, num_intervals)\n",
    "    area = sum(ellipse_area_integrand_approx_midpoint(theta, a, b) * delta_theta for theta in midpoints)\n",
    "    return area\n",
    "\n",
    "# Example usage:\n",
    "ellipse_area_midpoint_approx(a, b, 100000)/2"
   ]
  },
  {
   "cell_type": "code",
   "execution_count": 120,
   "metadata": {},
   "outputs": [
    {
     "data": {
      "text/plain": [
       "1943441062046815.0"
      ]
     },
     "execution_count": 120,
     "metadata": {},
     "output_type": "execute_result"
    }
   ],
   "source": [
    "a*b*np.pi"
   ]
  },
  {
   "cell_type": "code",
   "execution_count": null,
   "metadata": {},
   "outputs": [],
   "source": []
  }
 ],
 "metadata": {
  "kernelspec": {
   "display_name": "Python 3",
   "language": "python",
   "name": "python3"
  },
  "language_info": {
   "codemirror_mode": {
    "name": "ipython",
    "version": 3
   },
   "file_extension": ".py",
   "mimetype": "text/x-python",
   "name": "python",
   "nbconvert_exporter": "python",
   "pygments_lexer": "ipython3",
   "version": "3.10.6"
  }
 },
 "nbformat": 4,
 "nbformat_minor": 2
}
