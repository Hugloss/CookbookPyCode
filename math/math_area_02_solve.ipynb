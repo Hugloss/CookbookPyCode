{
 "cells": [
  {
   "cell_type": "markdown",
   "metadata": {},
   "source": [
    "# From area, try calculate the sides of it via circles and ellipse"
   ]
  },
  {
   "cell_type": "code",
   "execution_count": 106,
   "metadata": {
    "metadata": {}
   },
   "outputs": [],
   "source": [
    "import numpy as np"
   ]
  },
  {
   "cell_type": "code",
   "execution_count": 107,
   "metadata": {
    "metadata": {}
   },
   "outputs": [],
   "source": [
    "def get_circle_radius_from_area(area):\n",
    "    \"\"\"\n",
    "    Calculates the radius of a circle given its area.\n",
    "\n",
    "    Parameters:\n",
    "    area (float): The area of the circle.\n",
    "\n",
    "    Returns:\n",
    "    float: The radius of the circle.\n",
    "    \"\"\"\n",
    "    radius = np.sqrt(area / np.pi)\n",
    "    return radius\n",
    "\n",
    "def resize_ellipse_radius_with_fixed_area(original_area, fixed_radius):\n",
    "    \"\"\"\n",
    "    Resizes an ellipse by changing one radius while preserving the other radius and maintaining the same area.\n",
    "\n",
    "    Parameters:\n",
    "    original_area (float): The original area of the ellipse.\n",
    "    fixed_radius (float): The radius to be preserved (can be either the minor or major radius).\n",
    "\n",
    "    Returns:\n",
    "    float: The new radius of the ellipse that will maintain the original area.\n",
    "\n",
    "    Raises:\n",
    "    ValueError: If the original area or fixed radius is not positive.\n",
    "    \"\"\"\n",
    "    if original_area <= 0:\n",
    "        raise ValueError(\"The original area must be a positive number.\")\n",
    "    if fixed_radius <= 0:\n",
    "        raise ValueError(\"The fixed radius must be a positive number.\")\n",
    "\n",
    "    # Calculate the new radius needed to maintain the same area\n",
    "    new_radius = original_area / (np.pi * fixed_radius)\n",
    "\n",
    "    return new_radius\n"
   ]
  },
  {
   "cell_type": "code",
   "execution_count": 108,
   "metadata": {
    "metadata": {}
   },
   "outputs": [
    {
     "name": "stdout",
     "output_type": "stream",
     "text": [
      "Original Area: 998388897\n",
      "Minor Radius: 17826.86332957176\n",
      "Major Radius: 17826.86332957176\n",
      "\n",
      "Result after radius is changed and area maintained\n",
      "Area: 998388897\n",
      "Minor Radius: 14001.18571818298\n",
      "Major Radius: 22697.86734979991\n",
      "\n",
      "Result after area is changed and minor radius is maintained\n",
      "Area: 784132806.0602041\n",
      "Minor Radius: 14001.18571818298\n",
      "Major Radius: 17826.86332957176\n",
      "\n",
      "Calculate bounding rectangle area\n",
      "area_val: 998388897\n",
      "area_pre: 998388897.0\n",
      "area_int: 998327304\n",
      "x_val: 28841\n",
      "x_pre: 28002.37143636596\n",
      "x_int: 28002\n",
      "y_val: 34617\n",
      "y_pre: 35653.72665914352\n",
      "y_int: 35652\n"
     ]
    }
   ],
   "source": [
    "# Example usage\n",
    "a = 28841\n",
    "b = 34617\n",
    "original_area = a*b\n",
    "fixed_radius = get_circle_radius_from_area(original_area)\n",
    "\n",
    "# sanity check that same area and same radius is same result\n",
    "new_radius = resize_ellipse_radius_with_fixed_area(original_area, fixed_radius)\n",
    "\n",
    "print(f\"Original Area: {original_area}\")\n",
    "print(f\"Minor Radius: {fixed_radius}\")\n",
    "print(f\"Major Radius: {new_radius}\")\n",
    "\n",
    "# Start the search for better approximity\n",
    "# 1. first, changed fixed_radius with a radius_rate and maintaining the same area.\n",
    "radius_rate = np.pi/4\n",
    "fixed_minor_radius = fixed_radius * radius_rate\n",
    "new_major_radius = resize_ellipse_radius_with_fixed_area(original_area, fixed_minor_radius)\n",
    "\n",
    "print('\\nResult after radius is changed and area maintained')\n",
    "print(f\"Area: {original_area}\")\n",
    "print(f\"Minor Radius: {fixed_minor_radius}\")\n",
    "print(f\"Major Radius: {new_major_radius}\")\n",
    "\n",
    "# 2. change the area with an area_rate and than calculate a changed radius with this area\n",
    "area_rate = np.pi/4\n",
    "new_area = original_area * area_rate\n",
    "fixed_major_radius = resize_ellipse_radius_with_fixed_area(new_area, fixed_minor_radius)\n",
    "\n",
    "print('\\nResult after area is changed and minor radius is maintained')\n",
    "print(f\"Area: {new_area}\")\n",
    "print(f\"Minor Radius: {fixed_minor_radius}\")\n",
    "print(f\"Major Radius: {fixed_major_radius}\")\n",
    "\n",
    "# 3. Create a bounding rectangle with the fixed minor radius and calculate its area\n",
    "minor_square_side = 2 * fixed_minor_radius\n",
    "major_square_side = 2 * fixed_major_radius\n",
    "bounding_area = minor_square_side * major_square_side\n",
    "\n",
    "# 4. Convert to int\n",
    "fixed_minor_radius_int = int(fixed_minor_radius)\n",
    "fixed_major_radius_int = int(fixed_major_radius)\n",
    "area_int = 4* fixed_minor_radius_int * fixed_major_radius_int\n",
    "\n",
    "print('\\nCalculate bounding rectangle area')\n",
    "print(f\"area_val: {original_area}\")\n",
    "print(f\"area_pre: {bounding_area}\")\n",
    "print(f\"area_int: {area_int}\")\n",
    "print(f\"x_val: {a}\")\n",
    "print(f\"x_pre: {minor_square_side}\")\n",
    "print(f\"x_int: {2*fixed_minor_radius_int}\")\n",
    "print(f\"y_val: {b}\")\n",
    "print(f\"y_pre: {major_square_side}\")\n",
    "print(f\"y_int: {2*fixed_major_radius_int}\")\n"
   ]
  },
  {
   "cell_type": "code",
   "execution_count": 109,
   "metadata": {
    "metadata": {}
   },
   "outputs": [
    {
     "name": "stdout",
     "output_type": "stream",
     "text": [
      "Area (floor * floor): 998327304.0\n",
      "Area (floor * ceil) : 998383308.0\n",
      "Area (ceil * floor) : 998398608.0\n",
      "Area (ceil * ceil)  : 998454616.0\n",
      "\n",
      "Fault rates for each combination:\n",
      "floor * floor: 0.0062%\n",
      "floor * ceil : 0.0006%\n",
      "ceil * floor : 0.0010%\n",
      "ceil * ceil  : 0.0066%\n",
      "\n",
      "Best match: floor * ceil with a fault rate of 0.000560%\n",
      "\n",
      "Ellipse area         : 784132806.06\n",
      "Predicted ellipse area: 784128416.47\n",
      "Ellipse area ratio   : 0.000560%\n"
     ]
    }
   ],
   "source": [
    "# Calculate floor and ceil for both radii\n",
    "fixed_minor_radius_floor = np.floor(fixed_minor_radius)\n",
    "fixed_major_radius_floor = np.floor(fixed_major_radius)\n",
    "\n",
    "fixed_minor_radius_ceil = np.ceil(fixed_minor_radius)\n",
    "fixed_major_radius_ceil = np.ceil(fixed_major_radius)\n",
    "\n",
    "# Calculate areas for all combinations\n",
    "area_floor_floor = 4 * fixed_minor_radius_floor * fixed_major_radius_floor\n",
    "area_floor_ceil = 4 * fixed_minor_radius_floor * fixed_major_radius_ceil\n",
    "area_ceil_floor = 4 * fixed_minor_radius_ceil * fixed_major_radius_floor\n",
    "area_ceil_ceil = 4 * fixed_minor_radius_ceil * fixed_major_radius_ceil\n",
    "\n",
    "# Print or return the results\n",
    "print(f\"Area (floor * floor): {area_floor_floor}\")\n",
    "print(f\"Area (floor * ceil) : {area_floor_ceil}\")\n",
    "print(f\"Area (ceil * floor) : {area_ceil_floor}\")\n",
    "print(f\"Area (ceil * ceil)  : {area_ceil_ceil}\")\n",
    "\n",
    "# Calculate fault rates (as percentages)\n",
    "fault_rate_floor_floor = np.abs(area_floor_floor - original_area) / original_area * 100\n",
    "fault_rate_floor_ceil = np.abs(area_floor_ceil - original_area) / original_area * 100\n",
    "fault_rate_ceil_floor = np.abs(area_ceil_floor - original_area) / original_area * 100\n",
    "fault_rate_ceil_ceil = np.abs(area_ceil_ceil - original_area) / original_area * 100\n",
    "\n",
    "# Create a dictionary to store the fault rates with their corresponding areas\n",
    "fault_rates = {\n",
    "    'floor * floor': fault_rate_floor_floor,\n",
    "    'floor * ceil': fault_rate_floor_ceil,\n",
    "    'ceil * floor': fault_rate_ceil_floor,\n",
    "    'ceil * ceil': fault_rate_ceil_ceil\n",
    "}\n",
    "\n",
    "# Find the combination with the minimum fault rate\n",
    "best_match = min(fault_rates, key=fault_rates.get)\n",
    "\n",
    "# Print the fault rates\n",
    "print(\"\\nFault rates for each combination:\")\n",
    "print(f\"floor * floor: {fault_rate_floor_floor:.4f}%\")\n",
    "print(f\"floor * ceil : {fault_rate_floor_ceil:.4f}%\")\n",
    "print(f\"ceil * floor : {fault_rate_ceil_floor:.4f}%\")\n",
    "print(f\"ceil * ceil  : {fault_rate_ceil_ceil:.4f}%\")\n",
    "\n",
    "# Print the best match\n",
    "print(f\"\\nBest match: {best_match} with a fault rate of {fault_rates[best_match]:.6f}%\")\n",
    "\n",
    "# Ellipse area of the bounded rectangle can approximately be calculated as\n",
    "ellipse_area = original_area * np.pi / 4  # Approximating based on original area and pi/4 factor\n",
    "\n",
    "# Ellipse area calculation with the fixed radii from the best match gives the predicted area\n",
    "if best_match == 'floor * floor':\n",
    "    ellipse_pred = np.pi * fixed_minor_radius_floor * fixed_major_radius_floor\n",
    "elif best_match == 'floor * ceil':\n",
    "    ellipse_pred = np.pi * fixed_minor_radius_floor * fixed_major_radius_ceil\n",
    "elif best_match == 'ceil * floor':\n",
    "    ellipse_pred = np.pi * fixed_minor_radius_ceil * fixed_major_radius_floor\n",
    "else:  # best_match == 'ceil * ceil'\n",
    "    ellipse_pred = np.pi * fixed_minor_radius_ceil * fixed_major_radius_ceil\n",
    "\n",
    "# Ratio of ellipse area to approximate area\n",
    "ellipse_area_ratio = np.abs(ellipse_pred - ellipse_area) / ellipse_area * 100\n",
    "\n",
    "# Print the calculated ellipse area, predicted ellipse area, and their ratio\n",
    "print(f\"\\nEllipse area         : {ellipse_area:.2f}\")\n",
    "print(f\"Predicted ellipse area: {ellipse_pred:.2f}\")\n",
    "print(f\"Ellipse area ratio   : {ellipse_area_ratio:.6f}%\")"
   ]
  },
  {
   "cell_type": "markdown",
   "metadata": {},
   "source": [
    "## Calculate new major radius when minor radius is changed with the radius rate\n",
    "Convert it to functions"
   ]
  },
  {
   "cell_type": "code",
   "execution_count": 110,
   "metadata": {
    "metadata": {}
   },
   "outputs": [
    {
     "name": "stdout",
     "output_type": "stream",
     "text": [
      "Original Area: 998388897\n",
      "Minor Radius: 17826.86332957176\n",
      "Major Radius: 17826.86332957176\n"
     ]
    }
   ],
   "source": [
    "# Example usage\n",
    "a = 28841\n",
    "b = 34617\n",
    "original_area = a*b\n",
    "fixed_radius = get_circle_radius_from_area(original_area)\n",
    "\n",
    "# sanity check that same area and same radius is same result\n",
    "new_radius = resize_ellipse_radius_with_fixed_area(original_area, fixed_radius)\n",
    "\n",
    "print(f\"Original Area: {original_area}\")\n",
    "print(f\"Minor Radius: {fixed_radius}\")\n",
    "print(f\"Major Radius: {new_radius}\")"
   ]
  },
  {
   "cell_type": "code",
   "execution_count": 111,
   "metadata": {
    "metadata": {}
   },
   "outputs": [],
   "source": [
    "def calculate_ellipse_properties(a, b, minor_radius, minor_radius_rate=np.pi/4):\n",
    "    original_area = a * b\n",
    "\n",
    "    # Calculate fixed minor radius with the radius_rate\n",
    "    fixed_minor_radius = minor_radius * minor_radius_rate\n",
    "\n",
    "    # Approximate area of ellipse as the bounded rectangle\n",
    "    approx_ellipse_area = original_area * np.pi/4\n",
    "    # Calculate a new radii from this area when the other radius is known\n",
    "    fixed_major_radius = resize_ellipse_radius_with_fixed_area(approx_ellipse_area, fixed_minor_radius)\n",
    "\n",
    "    # Create a bounding rectangle from the fixed radii and calculate its area\n",
    "    minor_square_side = 2 * fixed_minor_radius\n",
    "    major_square_side = 2 * fixed_major_radius\n",
    "    bounding_area = minor_square_side * major_square_side\n",
    "\n",
    "    # Calculate fault rates (as percentages)\n",
    "    area_fault_rate = np.abs(bounding_area - original_area) / original_area * 100\n",
    "\n",
    "    return {\n",
    "        \"a\": a,\n",
    "        \"b\": b,\n",
    "        \"original_area\": original_area,\n",
    "        \"bounding_area\": bounding_area,\n",
    "        \"fault_rate\": area_fault_rate,\n",
    "        \"minor_radius\": fixed_minor_radius,\n",
    "        \"major_radius\": fixed_major_radius,\n",
    "        \"x_pre\": minor_square_side,\n",
    "        \"y_pre\": major_square_side,\n",
    "    }\n",
    "\n",
    "def print_calculated_properties(props):\n",
    "    # Extract the necessary values from the props dictionary\n",
    "    minor_radius = props[\"minor_radius\"]\n",
    "    major_radius = props[\"major_radius\"]\n",
    "    original_area = props[\"original_area\"]\n",
    "\n",
    "    # Calculate floor and ceil for both radii\n",
    "    fixed_minor_radius_floor = np.floor(minor_radius)\n",
    "    fixed_major_radius_floor = np.floor(major_radius)\n",
    "    fixed_minor_radius_ceil = np.ceil(minor_radius)\n",
    "    fixed_major_radius_ceil = np.ceil(major_radius)\n",
    "\n",
    "    # Calculate areas for all combinations\n",
    "    area_floor_floor = 4 * fixed_minor_radius_floor * fixed_major_radius_floor\n",
    "    area_floor_ceil = 4 * fixed_minor_radius_floor * fixed_major_radius_ceil\n",
    "    area_ceil_floor = 4 * fixed_minor_radius_ceil * fixed_major_radius_floor\n",
    "    area_ceil_ceil = 4 * fixed_minor_radius_ceil * fixed_major_radius_ceil\n",
    "\n",
    "    # Print Area\n",
    "    print(f\"Area (original)     : {original_area}\")\n",
    "    print(f\"Area (floor * floor): {area_floor_floor}\")\n",
    "    print(f\"Area (floor * ceil) : {area_floor_ceil}\")\n",
    "    print(f\"Area (ceil * floor) : {area_ceil_floor}\")\n",
    "    print(f\"Area (ceil * ceil)  : {area_ceil_ceil}\")\n",
    "\n",
    "    # Calculate fault rates (as percentages)\n",
    "    fault_rate_floor_floor = np.abs(area_floor_floor - original_area) / original_area * 100\n",
    "    fault_rate_floor_ceil = np.abs(area_floor_ceil - original_area) / original_area * 100\n",
    "    fault_rate_ceil_floor = np.abs(area_ceil_floor - original_area) / original_area * 100\n",
    "    fault_rate_ceil_ceil = np.abs(area_ceil_ceil - original_area) / original_area * 100\n",
    "\n",
    "    # Create a dictionary to store the fault rates with their corresponding areas\n",
    "    fault_rates = {\n",
    "        'floor * floor': fault_rate_floor_floor,\n",
    "        'floor * ceil': fault_rate_floor_ceil,\n",
    "        'ceil * floor': fault_rate_ceil_floor,\n",
    "        'ceil * ceil': fault_rate_ceil_ceil\n",
    "    }\n",
    "\n",
    "    # Find the combination with the minimum fault rate\n",
    "    best_match = min(fault_rates, key=fault_rates.get)\n",
    "\n",
    "    # Print the fault rates\n",
    "    print(\"\\nFault rates for each combination:\")\n",
    "    print(f\"floor * floor: {fault_rate_floor_floor:.4f}%\")\n",
    "    print(f\"floor * ceil : {fault_rate_floor_ceil:.4f}%\")\n",
    "    print(f\"ceil * floor : {fault_rate_ceil_floor:.4f}%\")\n",
    "    print(f\"ceil * ceil  : {fault_rate_ceil_ceil:.4f}%\")\n",
    "\n",
    "    # Print the best match\n",
    "    print(f\"\\nBest match: {best_match} with a fault rate of {fault_rates[best_match]:.6f}%\")\n",
    "\n",
    "    # Set fixed_minor_radius and fixed_major_radius based on the best match\n",
    "    if best_match == 'floor * floor':\n",
    "        fixed_minor_radius = fixed_minor_radius_floor\n",
    "        fixed_major_radius = fixed_major_radius_floor\n",
    "    elif best_match == 'floor * ceil':\n",
    "        fixed_minor_radius = fixed_minor_radius_floor\n",
    "        fixed_major_radius = fixed_major_radius_ceil\n",
    "    elif best_match == 'ceil * floor':\n",
    "        fixed_minor_radius = fixed_minor_radius_ceil\n",
    "        fixed_major_radius = fixed_major_radius_floor\n",
    "    else:  # best_match == 'ceil * ceil'\n",
    "        fixed_minor_radius = fixed_minor_radius_ceil\n",
    "        fixed_major_radius = fixed_major_radius_ceil\n",
    "\n",
    "    # Ellipse area of the bounded rectangle can approximately be calculated as\n",
    "    ellipse_area = original_area * np.pi / 4  # Approximating based on original area and pi/4 factor\n",
    "\n",
    "    # Ellipse area calculation with the fixed radii from the best match gives the predicted area\n",
    "    ellipse_pred = np.pi * fixed_minor_radius * fixed_major_radius\n",
    "\n",
    "    # Ratio of ellipse area to approximate area\n",
    "    ellipse_area_ratio = np.abs(ellipse_pred - ellipse_area) / ellipse_area * 100\n",
    "\n",
    "    # Print the calculated ellipse area, predicted ellipse area, and their ratio\n",
    "    print(f\"\\nEllipse area         : {ellipse_area:.2f}\")\n",
    "    print(f\"Predicted ellipse area: {ellipse_pred:.2f}\")\n",
    "    print(f\"Ellipse area ratio   : {ellipse_area_ratio:.6f}%\")\n",
    "\n",
    "    # Create a bounding rectangle with the fixed minor radius and calculate its area\n",
    "    minor_square_side = 2 * fixed_minor_radius\n",
    "    major_square_side = 2 * fixed_major_radius\n",
    "    bounding_area = minor_square_side * major_square_side\n",
    "\n",
    "    # Calculate fault rates (as percentages)\n",
    "    area_fault_rate = np.abs(bounding_area - original_area) / original_area * 100\n",
    "\n",
    "    return {\n",
    "        \"a\": a,\n",
    "        \"b\": b,\n",
    "        \"original_area\": original_area,\n",
    "        \"bounding_area\": bounding_area,\n",
    "        \"fault_rate\": area_fault_rate,\n",
    "        \"minor_radius\": fixed_minor_radius,\n",
    "        \"major_radius\": fixed_major_radius,\n",
    "        \"x_pre\": minor_square_side,\n",
    "        \"y_pre\": major_square_side,\n",
    "    }\n"
   ]
  },
  {
   "cell_type": "code",
   "execution_count": 112,
   "metadata": {
    "metadata": {}
   },
   "outputs": [
    {
     "name": "stdout",
     "output_type": "stream",
     "text": [
      "Area (original)     : 998388897\n",
      "Area (floor * floor): 998327304.0\n",
      "Area (floor * ceil) : 998383308.0\n",
      "Area (ceil * floor) : 998398608.0\n",
      "Area (ceil * ceil)  : 998454616.0\n",
      "\n",
      "Fault rates for each combination:\n",
      "floor * floor: 0.0062%\n",
      "floor * ceil : 0.0006%\n",
      "ceil * floor : 0.0010%\n",
      "ceil * ceil  : 0.0066%\n",
      "\n",
      "Best match: floor * ceil with a fault rate of 0.000560%\n",
      "\n",
      "Ellipse area         : 784132806.06\n",
      "Predicted ellipse area: 784128416.47\n",
      "Ellipse area ratio   : 0.000560%\n"
     ]
    }
   ],
   "source": [
    "a = 28841\n",
    "b = 34617\n",
    "original_area = a*b\n",
    "fixed_radius = get_circle_radius_from_area(original_area)\n",
    "# Example usage:\n",
    "prop = calculate_ellipse_properties(a=a, b=b, minor_radius=fixed_radius)\n",
    "data = print_calculated_properties(prop)"
   ]
  },
  {
   "cell_type": "code",
   "execution_count": 113,
   "metadata": {
    "metadata": {}
   },
   "outputs": [
    {
     "data": {
      "text/plain": [
       "{'a': 28841,\n",
       " 'b': 34617,\n",
       " 'original_area': 998388897,\n",
       " 'bounding_area': 998388897.0,\n",
       " 'fault_rate': 0.0,\n",
       " 'minor_radius': 14001.18571818298,\n",
       " 'major_radius': 17826.86332957176,\n",
       " 'x_pre': 28002.37143636596,\n",
       " 'y_pre': 35653.72665914352}"
      ]
     },
     "execution_count": 113,
     "metadata": {},
     "output_type": "execute_result"
    }
   ],
   "source": [
    "prop"
   ]
  },
  {
   "cell_type": "code",
   "execution_count": 114,
   "metadata": {
    "metadata": {}
   },
   "outputs": [
    {
     "data": {
      "text/plain": [
       "{'a': 28841,\n",
       " 'b': 34617,\n",
       " 'original_area': 998388897,\n",
       " 'bounding_area': 998383308.0,\n",
       " 'fault_rate': 0.0005598018985181082,\n",
       " 'minor_radius': 14001.0,\n",
       " 'major_radius': 17827.0,\n",
       " 'x_pre': 28002.0,\n",
       " 'y_pre': 35654.0}"
      ]
     },
     "execution_count": 114,
     "metadata": {},
     "output_type": "execute_result"
    }
   ],
   "source": [
    "data"
   ]
  },
  {
   "cell_type": "code",
   "execution_count": 115,
   "metadata": {
    "metadata": {}
   },
   "outputs": [
    {
     "name": "stdout",
     "output_type": "stream",
     "text": [
      "Area (original)     : 998388897\n",
      "Area (floor * floor): 998352000.0\n",
      "Area (floor * ceil) : 998395200.0\n",
      "Area (ceil * floor) : 998444440.0\n",
      "Area (ceil * ceil)  : 998487644.0\n",
      "\n",
      "Fault rates for each combination:\n",
      "floor * floor: 0.0037%\n",
      "floor * ceil : 0.0006%\n",
      "ceil * floor : 0.0056%\n",
      "ceil * ceil  : 0.0099%\n",
      "\n",
      "Best match: floor * ceil with a fault rate of 0.000631%\n",
      "\n",
      "Ellipse area         : 784132806.06\n",
      "Predicted ellipse area: 784137756.42\n",
      "Ellipse area ratio   : 0.000631%\n"
     ]
    },
    {
     "data": {
      "text/plain": [
       "{'a': 28841,\n",
       " 'b': 34617,\n",
       " 'original_area': 998388897,\n",
       " 'bounding_area': 998395200.0,\n",
       " 'fault_rate': 0.0006313171169009905,\n",
       " 'minor_radius': 10800.0,\n",
       " 'major_radius': 23111.0,\n",
       " 'x_pre': 21600.0,\n",
       " 'y_pre': 46222.0}"
      ]
     },
     "execution_count": 115,
     "metadata": {},
     "output_type": "execute_result"
    }
   ],
   "source": [
    "prop = calculate_ellipse_properties(a=a, b=b, minor_radius=27502/2)\n",
    "data = print_calculated_properties(prop)\n",
    "data"
   ]
  },
  {
   "cell_type": "code",
   "execution_count": 116,
   "metadata": {
    "metadata": {}
   },
   "outputs": [
    {
     "name": "stdout",
     "output_type": "stream",
     "text": [
      "Area (original)     : 998388897\n",
      "Area (floor * floor): 998281632.0\n",
      "Area (floor * ceil) : 998326400.0\n",
      "Area (ceil * floor) : 998370828.0\n",
      "Area (ceil * ceil)  : 998415600.0\n",
      "\n",
      "Fault rates for each combination:\n",
      "floor * floor: 0.0107%\n",
      "floor * ceil : 0.0063%\n",
      "ceil * floor : 0.0018%\n",
      "ceil * ceil  : 0.0027%\n",
      "\n",
      "Best match: ceil * floor with a fault rate of 0.001810%\n",
      "\n",
      "Ellipse area         : 784132806.06\n",
      "Predicted ellipse area: 784118614.70\n",
      "Ellipse area ratio   : 0.001810%\n"
     ]
    },
    {
     "data": {
      "text/plain": [
       "{'a': 28841,\n",
       " 'b': 34617,\n",
       " 'original_area': 998388897,\n",
       " 'bounding_area': 998370828.0,\n",
       " 'fault_rate': 0.0018098157996642866,\n",
       " 'minor_radius': 11193.0,\n",
       " 'major_radius': 22299.0,\n",
       " 'x_pre': 22386.0,\n",
       " 'y_pre': 44598.0}"
      ]
     },
     "execution_count": 116,
     "metadata": {},
     "output_type": "execute_result"
    }
   ],
   "source": [
    "prop = calculate_ellipse_properties(a=a, b=b, minor_radius=28502/2)\n",
    "data = print_calculated_properties(prop)\n",
    "data\n"
   ]
  },
  {
   "cell_type": "markdown",
   "metadata": {},
   "source": [
    "# Update function"
   ]
  },
  {
   "cell_type": "code",
   "execution_count": 117,
   "metadata": {
    "metadata": {}
   },
   "outputs": [],
   "source": [
    "def calculate_ellipse_properties(a, b, minor_radius):\n",
    "    original_area = a * b\n",
    "\n",
    "    # Ellipse area of the bounded rectangle can approximately be calculated as\n",
    "    approx_ellipse_area = original_area * np.pi/4\n",
    "\n",
    "    # Calculate a new radii from this area when the other radius is known\n",
    "    major_radius = resize_ellipse_radius_with_fixed_area(approx_ellipse_area, minor_radius)\n",
    "\n",
    "    # area is calculated only for int value\n",
    "    # Create a bounding rectangle from radii and calculate its area\n",
    "    minor_square_side = int(2 * minor_radius)\n",
    "    major_square_side = int(2 * major_radius)\n",
    "    bounding_area = minor_square_side * major_square_side\n",
    "\n",
    "    # Calculate fault rates (as percentages)\n",
    "    area_fault_rate = np.abs(bounding_area - original_area) / original_area * 100\n",
    "\n",
    "    return {\n",
    "        \"a\": a,\n",
    "        \"b\": b,\n",
    "        \"original_area\": original_area,\n",
    "        \"bounding_area\": bounding_area,\n",
    "        \"fault_rate\": area_fault_rate,\n",
    "        \"minor_radius\": minor_radius,\n",
    "        \"major_radius\": major_radius,\n",
    "        \"x_pre\": minor_square_side,\n",
    "        \"y_pre\": major_square_side,\n",
    "    }\n"
   ]
  },
  {
   "cell_type": "code",
   "execution_count": 118,
   "metadata": {
    "metadata": {}
   },
   "outputs": [],
   "source": [
    "# Example\n",
    "a = 28841\n",
    "b = 34617"
   ]
  },
  {
   "cell_type": "code",
   "execution_count": 119,
   "metadata": {
    "metadata": {}
   },
   "outputs": [
    {
     "name": "stdout",
     "output_type": "stream",
     "text": [
      "Fault rates:\n",
      "fault1: 0.0020930722%\n",
      "fault1: 0.0000602971%\n",
      "fault1: 0.0002701352%\n",
      "{'a': 28841, 'b': 34617, 'original_area': 998388897, 'bounding_area': 998368000, 'fault_rate': 0.0020930721548278594, 'minor_radius': 14000.0, 'major_radius': 17828.373160714287, 'x_pre': 28000, 'y_pre': 35656}\n",
      "{'a': 28841, 'b': 34617, 'original_area': 998388897, 'bounding_area': 998388295, 'fault_rate': 6.029714491105764e-05, 'minor_radius': 14292.5, 'major_radius': 17463.510529998253, 'x_pre': 28585, 'y_pre': 34927}\n",
      "{'a': 28841, 'b': 34617, 'original_area': 998388897, 'bounding_area': 998386200, 'fault_rate': 0.0002701352156563496, 'minor_radius': 13825.0, 'major_radius': 18054.04877034358, 'x_pre': 27650, 'y_pre': 36108}\n"
     ]
    }
   ],
   "source": [
    "prop1 = calculate_ellipse_properties(a=a, b=b, minor_radius=28000/2)\n",
    "fault1 = prop1[\"fault_rate\"]\n",
    "prop2 = calculate_ellipse_properties(a=a, b=b, minor_radius=28585/2)\n",
    "fault2 = prop2[\"fault_rate\"]\n",
    "prop3 = calculate_ellipse_properties(a=a, b=b, minor_radius=27650/2)\n",
    "fault3 = prop3[\"fault_rate\"]\n",
    "\n",
    "print(\"Fault rates:\")\n",
    "print(f\"fault1: {fault1:.10f}%\")\n",
    "print(f\"fault1: {fault2:.10f}%\")\n",
    "print(f\"fault1: {fault3:.10f}%\")\n",
    "\n",
    "print(prop1)\n",
    "print(prop2)\n",
    "print(prop3)"
   ]
  },
  {
   "cell_type": "code",
   "execution_count": 120,
   "metadata": {
    "metadata": {}
   },
   "outputs": [],
   "source": [
    "# Example with large prime\n",
    "a = 17895697\n",
    "b = 34567891\n",
    "original_area = a*b\n",
    "radius_init = get_circle_radius_from_area(original_area)"
   ]
  },
  {
   "cell_type": "code",
   "execution_count": 121,
   "metadata": {
    "metadata": {}
   },
   "outputs": [
    {
     "data": {
      "text/plain": [
       "{'a': 17895697,\n",
       " 'b': 34567891,\n",
       " 'original_area': 618616503265027,\n",
       " 'bounding_area': 618616492527254,\n",
       " 'fault_rate': 1.735772153398199e-06,\n",
       " 'minor_radius': 7998539.0645717075,\n",
       " 'major_radius': 19335296.679524053,\n",
       " 'x_pre': 15997078,\n",
       " 'y_pre': 38670593}"
      ]
     },
     "execution_count": 121,
     "metadata": {},
     "output_type": "execute_result"
    }
   ],
   "source": [
    "calculate_ellipse_properties(a=a, b=b, minor_radius=radius_init*0.57)"
   ]
  },
  {
   "cell_type": "code",
   "execution_count": 128,
   "metadata": {
    "metadata": {}
   },
   "outputs": [
    {
     "data": {
      "text/plain": [
       "{'a': 17895697,\n",
       " 'b': 34567891,\n",
       " 'original_area': 618616503265027,\n",
       " 'bounding_area': 618616473639962,\n",
       " 'fault_rate': 4.788922513971158e-06,\n",
       " 'minor_radius': 8952750.742450438,\n",
       " 'major_radius': 17274481.359449383,\n",
       " 'x_pre': 17905501,\n",
       " 'y_pre': 34548962}"
      ]
     },
     "execution_count": 128,
     "metadata": {},
     "output_type": "execute_result"
    }
   ],
   "source": [
    "calculate_ellipse_properties(a=a, b=b, minor_radius=radius_init*0.638)"
   ]
  },
  {
   "cell_type": "code",
   "execution_count": null,
   "metadata": {},
   "outputs": [],
   "source": []
  },
  {
   "cell_type": "code",
   "execution_count": null,
   "metadata": {},
   "outputs": [],
   "source": []
  }
 ],
 "metadata": {
  "kernelspec": {
   "display_name": "Python 3",
   "language": "python",
   "name": "python3"
  },
  "language_info": {
   "codemirror_mode": {
    "name": "ipython",
    "version": 3
   },
   "file_extension": ".py",
   "mimetype": "text/x-python",
   "name": "python",
   "nbconvert_exporter": "python",
   "pygments_lexer": "ipython3",
   "version": "3.9.6"
  }
 },
 "nbformat": 4,
 "nbformat_minor": 2
}
