{
 "cells": [
  {
   "cell_type": "markdown",
   "metadata": {},
   "source": [
    "# From area, try calculate the sides of it via circles and ellipse\n",
    "\n",
    "1. first fix the minor radius while the area is preserved"
   ]
  },
  {
   "cell_type": "code",
   "execution_count": 1,
   "metadata": {},
   "outputs": [],
   "source": [
    "import numpy as np"
   ]
  },
  {
   "cell_type": "code",
   "execution_count": 18,
   "metadata": {},
   "outputs": [],
   "source": [
    "def get_circle_radius_from_area(area):\n",
    "    \"\"\"\n",
    "    Calculates the radius of a circle given its area.\n",
    "\n",
    "    Parameters:\n",
    "    area (float): The area of the circle.\n",
    "\n",
    "    Returns:\n",
    "    float: The radius of the circle.\n",
    "    \"\"\"\n",
    "    radius = np.sqrt(area / np.pi)\n",
    "    return radius\n",
    "\n",
    "def resize_ellipse_radius_with_fixed_area(original_area, fixed_radius):\n",
    "    \"\"\"\n",
    "    Resizes an ellipse by changing one radius while preserving the other radius and maintaining the same area.\n",
    "\n",
    "    Parameters:\n",
    "    original_area (float): The original area of the ellipse.\n",
    "    fixed_radius (float): The radius to be preserved (can be either the minor or major radius).\n",
    "\n",
    "    Returns:\n",
    "    float: The new radius of the ellipse that will maintain the original area.\n",
    "\n",
    "    Raises:\n",
    "    ValueError: If the original area or fixed radius is not positive.\n",
    "    \"\"\"\n",
    "    if original_area <= 0:\n",
    "        raise ValueError(\"The original area must be a positive number.\")\n",
    "    if fixed_radius <= 0:\n",
    "        raise ValueError(\"The fixed radius must be a positive number.\")\n",
    "\n",
    "    # Calculate the new radius needed to maintain the same area\n",
    "    new_radius = original_area / (np.pi * fixed_radius)\n",
    "\n",
    "    return new_radius\n"
   ]
  },
  {
   "cell_type": "code",
   "execution_count": 58,
   "metadata": {},
   "outputs": [
    {
     "name": "stdout",
     "output_type": "stream",
     "text": [
      "Original Area: 998388897\n",
      "Minor Radius: 17826.86332957176\n",
      "Major Radius: 17826.86332957176\n",
      "\n",
      "Result after radius is changed and area maintained\n",
      "Area: 998388897\n",
      "Minor Radius: 14001.18571818298\n",
      "Major Radius: 22697.86734979991\n",
      "\n",
      "Result after area is changed and minor radius is maintained\n",
      "Area: 784132806.0602041\n",
      "Minor Radius: 14001.18571818298\n",
      "Major Radius: 17826.86332957176\n",
      "\n",
      "Calculate bounding rectangle area\n",
      "area_val: 998388897\n",
      "area_pre: 998388897.0\n",
      "area_int: 998327304\n",
      "x_val: 28841\n",
      "x_pre: 28002.37143636596\n",
      "x_int: 28002\n",
      "y_val: 34617\n",
      "y_pre: 35653.72665914352\n",
      "y_int: 35652\n"
     ]
    }
   ],
   "source": [
    "# Example usage\n",
    "a = 28841\n",
    "b = 34617\n",
    "original_area = a*b\n",
    "fixed_radius = get_circle_radius_from_area(original_area)\n",
    "\n",
    "# sanity check that same area and same radius is same result\n",
    "new_radius = resize_ellipse_radius_with_fixed_area(original_area, fixed_radius)\n",
    "\n",
    "print(f\"Original Area: {original_area}\")\n",
    "print(f\"Minor Radius: {fixed_radius}\")\n",
    "print(f\"Major Radius: {new_radius}\")\n",
    "\n",
    "# Start the search for better approximity\n",
    "# 1. first, changed fixed_radius with a radius_rate and maintaining the same area.\n",
    "radius_rate = np.pi/4\n",
    "fixed_minor_radius = fixed_radius * radius_rate\n",
    "new_major_radius = resize_ellipse_radius_with_fixed_area(original_area, fixed_minor_radius)\n",
    "\n",
    "print('\\nResult after radius is changed and area maintained')\n",
    "print(f\"Area: {original_area}\")\n",
    "print(f\"Minor Radius: {fixed_minor_radius}\")\n",
    "print(f\"Major Radius: {new_major_radius}\")\n",
    "\n",
    "# 2. change the area with an area_rate and than calculate a changed radius with this area\n",
    "area_rate = np.pi/4\n",
    "new_area = original_area * area_rate\n",
    "fixed_major_radius = resize_ellipse_radius_with_fixed_area(new_area, fixed_minor_radius)\n",
    "\n",
    "print('\\nResult after area is changed and minor radius is maintained')\n",
    "print(f\"Area: {new_area}\")\n",
    "print(f\"Minor Radius: {fixed_minor_radius}\")\n",
    "print(f\"Major Radius: {fixed_major_radius}\")\n",
    "\n",
    "# 3. Create a bounding rectangle with the fixed minor radius and calculate its area\n",
    "minor_square_side = 2 * fixed_minor_radius\n",
    "major_square_side = 2 * fixed_major_radius\n",
    "bounding_area = minor_square_side * major_square_side\n",
    "\n",
    "# 4. Convert to int\n",
    "fixed_minor_radius_int = int(fixed_minor_radius)\n",
    "fixed_major_radius_int = int(fixed_major_radius)\n",
    "area_int = 4* fixed_minor_radius_int * fixed_major_radius_int\n",
    "\n",
    "print('\\nCalculate bounding rectangle area')\n",
    "print(f\"area_val: {original_area}\")\n",
    "print(f\"area_pre: {bounding_area}\")\n",
    "print(f\"area_int: {area_int}\")\n",
    "print(f\"x_val: {a}\")\n",
    "print(f\"x_pre: {minor_square_side}\")\n",
    "print(f\"x_int: {2*fixed_minor_radius_int}\")\n",
    "print(f\"y_val: {b}\")\n",
    "print(f\"y_pre: {major_square_side}\")\n",
    "print(f\"y_int: {2*fixed_major_radius_int}\")\n"
   ]
  },
  {
   "cell_type": "code",
   "execution_count": 63,
   "metadata": {},
   "outputs": [
    {
     "name": "stdout",
     "output_type": "stream",
     "text": [
      "Fault Rate: 0.9999383076072009\n",
      "Ellipse Area: 784084431.031126\n",
      "Approximate Area: 784132806.0602041\n",
      "Ellipse Area Ratio: 0.9999383076072009\n"
     ]
    }
   ],
   "source": [
    "# Fault rate calculation\n",
    "fault_rate = area_int / original_area\n",
    "\n",
    "# Ellipse area calculation\n",
    "ellipse_area = np.pi * fixed_minor_radius_int * fixed_major_radius_int\n",
    "\n",
    "# Approximate area calculation\n",
    "approx_area = original_area * np.pi / 4\n",
    "\n",
    "# Ratio of ellipse area to approximate area\n",
    "ellipse_area_ratio = ellipse_area / approx_area\n",
    "\n",
    "print(f\"Fault Rate: {fault_rate}\")\n",
    "print(f\"Ellipse Area: {ellipse_area}\")\n",
    "print(f\"Approximate Area: {approx_area}\")\n",
    "print(f\"Ellipse Area Ratio: {ellipse_area_ratio}\")"
   ]
  },
  {
   "cell_type": "code",
   "execution_count": null,
   "metadata": {},
   "outputs": [],
   "source": []
  }
 ],
 "metadata": {
  "kernelspec": {
   "display_name": "Python 3",
   "language": "python",
   "name": "python3"
  },
  "language_info": {
   "codemirror_mode": {
    "name": "ipython",
    "version": 3
   },
   "file_extension": ".py",
   "mimetype": "text/x-python",
   "name": "python",
   "nbconvert_exporter": "python",
   "pygments_lexer": "ipython3",
   "version": "3.10.6"
  }
 },
 "nbformat": 4,
 "nbformat_minor": 2
}
