{
 "cells": [
  {
   "cell_type": "markdown",
   "metadata": {},
   "source": [
    "# Modulo arithmetic rules"
   ]
  },
  {
   "cell_type": "markdown",
   "metadata": {},
   "source": [
    "## Addition rule\n",
    "Compute the modulo of the sum of two numbers `(a + b) % m`.\n",
    "\n",
    "*Math Rule*: \n",
    "```\n",
    "(a + b) % m = ((a % m) + (b % m)) % m\n",
    "```"
   ]
  },
  {
   "cell_type": "code",
   "execution_count": 1,
   "metadata": {},
   "outputs": [],
   "source": [
    "def modulo_addition(a, b, m):\n",
    "    return ((a % m) + (b % m)) % m"
   ]
  },
  {
   "cell_type": "markdown",
   "metadata": {},
   "source": [
    "## Subtraction rule\n",
    "Compute the modulo of the difference of two numbers `(a - b) % m`.\n",
    "\n",
    "*Math Rule*: \n",
    "```\n",
    "(a - b) % m = ((a % m) - (b % m) + m) % m\n",
    "```"
   ]
  },
  {
   "cell_type": "code",
   "execution_count": 2,
   "metadata": {},
   "outputs": [],
   "source": [
    "def modulo_subtraction(a, b, m):\n",
    "    return ((a % m) - (b % m) + m) % m"
   ]
  },
  {
   "cell_type": "markdown",
   "metadata": {},
   "source": [
    "## Multiplication rule\n",
    "Computes the modulo of the product of two numbers `(a * b) % m`.\n",
    "\n",
    "*Math Rule*: \n",
    "```\n",
    "(a * b) % m = ((a % m) * (b % m)) % m\n",
    "```"
   ]
  },
  {
   "cell_type": "code",
   "execution_count": 3,
   "metadata": {},
   "outputs": [],
   "source": [
    "def modulo_multiplication(a, b, m):\n",
    "    return ((a % m) * (b % m)) % m"
   ]
  },
  {
   "cell_type": "markdown",
   "metadata": {},
   "source": [
    "## Exponentiation rule\n",
    "Computes the modulo of the exponentiation of a number `(a^b) % m`.\n",
    "\n",
    "*Math Rule*: \n",
    "```\n",
    "(a^b) % m = ((a % m)^b) % m\n",
    "```"
   ]
  },
  {
   "cell_type": "code",
   "execution_count": 4,
   "metadata": {},
   "outputs": [],
   "source": [
    "def modulo_exponentiation(a, b, m):\n",
    "    return pow(a % m, b, m)"
   ]
  },
  {
   "cell_type": "markdown",
   "metadata": {},
   "source": [
    "## Division rule\n",
    "Computes the modulo of the division of two numbers `(a / b) % m`.\n",
    "\n",
    "*Math Rule*: \n",
    "```\n",
    "(a / b) % m = (a % m * (b^(-1) % m)) % m\n",
    "```"
   ]
  },
  {
   "cell_type": "code",
   "execution_count": 5,
   "metadata": {},
   "outputs": [],
   "source": [
    "def modulo_division(a, b, m):\n",
    "    inverse = pow(b, -1, m)\n",
    "    return (a % m * inverse) % m"
   ]
  },
  {
   "cell_type": "markdown",
   "metadata": {},
   "source": [
    "# Verify"
   ]
  },
  {
   "cell_type": "code",
   "execution_count": 6,
   "metadata": {},
   "outputs": [
    {
     "name": "stdout",
     "output_type": "stream",
     "text": [
      "Addition Rule: 6\n",
      "Subtraction Rule: 4\n",
      "Multiplication Rule: 5\n",
      "Exponentiation Rule: 5\n",
      "Division Rule: 5\n"
     ]
    }
   ],
   "source": [
    "# Test the functions\n",
    "a = 17\n",
    "b = 25\n",
    "m = 12\n",
    "\n",
    "print(\"Addition Rule:\", modulo_addition(a, b, m))\n",
    "print(\"Subtraction Rule:\", modulo_subtraction(a, b, m))\n",
    "print(\"Multiplication Rule:\", modulo_multiplication(a, b, m))\n",
    "print(\"Exponentiation Rule:\", modulo_exponentiation(a, b, m))\n",
    "print(\"Division Rule:\", modulo_division(a, b, m))"
   ]
  },
  {
   "cell_type": "code",
   "execution_count": 7,
   "metadata": {},
   "outputs": [
    {
     "name": "stdout",
     "output_type": "stream",
     "text": [
      "All tests passed!\n"
     ]
    }
   ],
   "source": [
    "assert modulo_addition(a, b, m) == (a + b) % m == pow(a + b, 1, m)\n",
    "assert modulo_subtraction(a, b, m) == (a - b) % m == pow(a - b, 1, m)\n",
    "assert modulo_multiplication(a, b, m) == (a * b) % m == pow(a * b, 1, m)\n",
    "assert modulo_exponentiation(a, b, m) == pow(a, b) % m\n",
    "assert modulo_division(a, b, m) == pow(a, -b, m)\n",
    "\n",
    "print(\"All tests passed!\")"
   ]
  },
  {
   "cell_type": "markdown",
   "metadata": {},
   "source": [
    "# Timeit"
   ]
  },
  {
   "cell_type": "code",
   "execution_count": 8,
   "metadata": {},
   "outputs": [
    {
     "name": "stdout",
     "output_type": "stream",
     "text": [
      "308 ns ± 51.4 ns per loop (mean ± std. dev. of 7 runs, 1,000,000 loops each)\n"
     ]
    }
   ],
   "source": [
    "%timeit modulo_addition(a, b, m)"
   ]
  },
  {
   "cell_type": "code",
   "execution_count": 9,
   "metadata": {},
   "outputs": [
    {
     "name": "stdout",
     "output_type": "stream",
     "text": [
      "87.4 ns ± 3.85 ns per loop (mean ± std. dev. of 7 runs, 10,000,000 loops each)\n"
     ]
    }
   ],
   "source": [
    "%timeit (a + b) % m"
   ]
  },
  {
   "cell_type": "code",
   "execution_count": 10,
   "metadata": {},
   "outputs": [
    {
     "name": "stdout",
     "output_type": "stream",
     "text": [
      "889 ns ± 32.5 ns per loop (mean ± std. dev. of 7 runs, 1,000,000 loops each)\n"
     ]
    }
   ],
   "source": [
    "%timeit pow(a + b, 1, m)"
   ]
  },
  {
   "cell_type": "code",
   "execution_count": null,
   "metadata": {},
   "outputs": [],
   "source": []
  }
 ],
 "metadata": {
  "kernelspec": {
   "display_name": "Python 3",
   "language": "python",
   "name": "python3"
  },
  "language_info": {
   "codemirror_mode": {
    "name": "ipython",
    "version": 3
   },
   "file_extension": ".py",
   "mimetype": "text/x-python",
   "name": "python",
   "nbconvert_exporter": "python",
   "pygments_lexer": "ipython3",
   "version": "3.10.6"
  }
 },
 "nbformat": 4,
 "nbformat_minor": 2
}
