{
 "cells": [
  {
   "cell_type": "markdown",
   "metadata": {},
   "source": [
    "# Verify MultiplyMania, that we calculated right"
   ]
  },
  {
   "cell_type": "code",
   "execution_count": 33,
   "metadata": {},
   "outputs": [],
   "source": [
    "def formula_xy(x, y):\n",
    "    \"\"\"\n",
    "    True formula: x * y\n",
    "    \"\"\"\n",
    "    return x * y\n",
    "\n",
    "def formula_original(x, y, alpha, beta, verbose=False, mod=0):\n",
    "    \"\"\"\n",
    "    Original formula\n",
    "    z = (x - α) * (y - β) + (α * y) + (β * x) - α * β\n",
    "    \"\"\"\n",
    "    z = (x - alpha) * (y - beta) + (alpha * y) + (beta * x) - alpha * beta\n",
    "    if verbose:\n",
    "        print(f\"{z} = ({x} - {alpha}) * ({y} - {beta}) + ({alpha} * {y}) + ({beta} * {x}) - {alpha} * {beta}\")\n",
    "        print(f\"{z} = ({x - alpha}) * ({y - beta}) + ({alpha * y}) + ({beta * x}) - {alpha * beta}\")\n",
    "        print(f\"{z} = ({(x - alpha) * (y - beta)}) + {(alpha * y) + (beta * x) - alpha * beta}\")\n",
    "    if mod > 0:\n",
    "        print('')\n",
    "        print(f\"{z} % {mod} = ((({x - alpha}) % {mod} * ({y - beta}) % {mod}) % {mod} + ({alpha * y}) % {mod} + ({beta * x}) % {mod} - {alpha * beta} % {mod}) % {mod}\")\n",
    "        print(f\"{z % mod} = ((({(x - alpha)  % mod }) * ({(y - beta)  % mod})) % {mod}) + ({(alpha * y) % mod}) + ({(beta * x) % mod}) - {(alpha * beta) % mod}) % {mod}\")\n",
    "        print(f\"{z % mod} = (({(x - alpha) * (y - beta) % mod}) + {((alpha * y) + (beta * x) - alpha * beta) % mod}) % {mod}\")\n",
    "        print(f\"{z % mod} = ({((x - alpha) * (y - beta) % mod) + ((alpha * y) + (beta * x) - alpha * beta) % mod}) % {mod}\")\n",
    "    return z\n",
    "\n",
    "def formula_1(x, y, beta):\n",
    "    \"\"\"\n",
    "    Rearranged formula with\n",
    "    α = 0\n",
    "    z = (x) * (y - β) + (β * x)\n",
    "    \"\"\"\n",
    "    return x * (y - beta) + (beta * x)\n",
    "\n",
    "def formula_2(x, y, alpha):\n",
    "    \"\"\"\n",
    "    Rearranged formula with\n",
    "    β = 0\n",
    "    z = (x - α) * (y) + (α * y)\n",
    "    \"\"\"\n",
    "    return (x - alpha) * y + (alpha * y)\n",
    "\n",
    "def formula_3(x, y, beta):\n",
    "    \"\"\"\n",
    "    Rearranged formula with\n",
    "    α = β\n",
    "    z = (x - β) * (y - β) + β * (x + y - β)\n",
    "    \"\"\"\n",
    "    return (x - beta) * (y - beta) + beta * (x + y - beta)\n",
    "\n",
    "def formula_4(x, y, beta):\n",
    "    \"\"\"\n",
    "    Rearranged formula with\n",
    "    α = -β\n",
    "    z = (x + β) * (y - β) + β * (x - y + β)\n",
    "    \"\"\"\n",
    "    return (x + beta) * (y - beta) + beta * (x - y + beta)\n",
    "\n",
    "def formula_5(x, beta):\n",
    "    \"\"\"\n",
    "    Specialhandling when:\n",
    "    x = y\n",
    "    Rearranged formula with\n",
    "    α = -β\n",
    "    z = (x + β) * (x - β) + β * β\n",
    "    \"\"\"\n",
    "    return (x + beta) * (x - beta) + beta * beta\n",
    "\n",
    "def formula_6(a, b, kappa, alpha, beta, theta):\n",
    "    \"\"\"\n",
    "    Rearranged formula with\n",
    "    x = (a + κ)\n",
    "    y = (b + θ)\n",
    "    z = (a + κ - α) * (b + θ - β) + (α * (b + θ)) + (β * (a + κ)) - α * β\n",
    "    \"\"\"\n",
    "    return (a + kappa - alpha) * (b + theta - beta) + (alpha * (b + theta)) + (beta * (a + kappa)) - alpha * beta\n",
    "\n",
    "def formula_7(a, kappa, eta, theta):\n",
    "    \"\"\"\n",
    "    Rearranged formula with\n",
    "    b = a + η\n",
    "    x = (a + κ)\n",
    "    y = (b + θ) = (a + η + θ)\n",
    "    z = a * (a + η + θ) + κ * (a + η + θ)\n",
    "    \"\"\"\n",
    "    return a * (a + eta + theta) + kappa * (a + eta + theta)"
   ]
  },
  {
   "cell_type": "markdown",
   "metadata": {},
   "source": [
    "# Verify all formulas"
   ]
  },
  {
   "cell_type": "code",
   "execution_count": 27,
   "metadata": {},
   "outputs": [
    {
     "name": "stdout",
     "output_type": "stream",
     "text": [
      "799\n",
      "799\n",
      "799\n",
      "799\n",
      "799\n",
      "799\n"
     ]
    }
   ],
   "source": [
    "x=17\n",
    "alpha = 7\n",
    "y=47\n",
    "beta = 7\n",
    "\n",
    "xy = formula_xy(x, y)\n",
    "print(xy)\n",
    "f0 = formula_original(x, y, alpha, beta)\n",
    "print(f0)\n",
    "f1 = formula_1(x, y, beta)\n",
    "print(f1)\n",
    "f2 = formula_2(x, y, alpha)\n",
    "print(f2)\n",
    "f3 = formula_3(x, y, beta)\n",
    "print(f3)\n",
    "f4 = formula_4(x, y, beta)\n",
    "print(f4)"
   ]
  },
  {
   "cell_type": "code",
   "execution_count": 28,
   "metadata": {},
   "outputs": [
    {
     "name": "stdout",
     "output_type": "stream",
     "text": [
      "289\n",
      "289\n"
     ]
    }
   ],
   "source": [
    "print(formula_xy(x, x))\n",
    "f5 = formula_5(x, beta)\n",
    "print(f5)"
   ]
  },
  {
   "cell_type": "code",
   "execution_count": 29,
   "metadata": {},
   "outputs": [
    {
     "name": "stdout",
     "output_type": "stream",
     "text": [
      "799\n",
      "799\n"
     ]
    }
   ],
   "source": [
    "x=17\n",
    "alpha = 7\n",
    "y=47\n",
    "beta = 3\n",
    "a=10\n",
    "b=40\n",
    "kappa = x - a\n",
    "theta = y - b\n",
    "\n",
    "\n",
    "print(xy)\n",
    "f6 = formula_6(a, b, kappa, alpha, beta, theta)\n",
    "print(f6)"
   ]
  },
  {
   "cell_type": "markdown",
   "metadata": {},
   "source": [
    "# Visualation of the calculation\n",
    "Step by step how calculation is done"
   ]
  },
  {
   "cell_type": "code",
   "execution_count": 30,
   "metadata": {},
   "outputs": [
    {
     "name": "stdout",
     "output_type": "stream",
     "text": [
      "799 = (17 - 7) * (47 - 3) + (7 * 47) + (3 * 17) - 7 * 3\n",
      "799 = (10) * (44) + (329) + (51) - 21\n",
      "799 = (440) + 359\n"
     ]
    },
    {
     "data": {
      "text/plain": [
       "799"
      ]
     },
     "execution_count": 30,
     "metadata": {},
     "output_type": "execute_result"
    }
   ],
   "source": [
    "formula_original(x, y, alpha, beta, True)"
   ]
  },
  {
   "cell_type": "markdown",
   "metadata": {},
   "source": [
    "step by step using mod calculation"
   ]
  },
  {
   "cell_type": "code",
   "execution_count": 34,
   "metadata": {},
   "outputs": [
    {
     "name": "stdout",
     "output_type": "stream",
     "text": [
      "799 = (17 - 7) * (47 - 3) + (7 * 47) + (3 * 17) - 7 * 3\n",
      "799 = (10) * (44) + (329) + (51) - 21\n",
      "799 = (440) + 359\n",
      "\n",
      "799 % 6 = (((10) % 6 * (44) % 6) % 6 + (329) % 6 + (51) % 6 - 21 % 6) % 6\n",
      "1 = (((4) * (2)) % 6) + (5) + (3) - 3) % 6\n",
      "1 = ((2) + 5) % 6\n",
      "1 = (7) % 6\n"
     ]
    },
    {
     "data": {
      "text/plain": [
       "799"
      ]
     },
     "execution_count": 34,
     "metadata": {},
     "output_type": "execute_result"
    }
   ],
   "source": [
    "formula_original(x, y, alpha, beta, True, 6)"
   ]
  }
 ],
 "metadata": {
  "kernelspec": {
   "display_name": "Python 3",
   "language": "python",
   "name": "python3"
  },
  "language_info": {
   "codemirror_mode": {
    "name": "ipython",
    "version": 3
   },
   "file_extension": ".py",
   "mimetype": "text/x-python",
   "name": "python",
   "nbconvert_exporter": "python",
   "pygments_lexer": "ipython3",
   "version": "3.10.6"
  }
 },
 "nbformat": 4,
 "nbformat_minor": 2
}
