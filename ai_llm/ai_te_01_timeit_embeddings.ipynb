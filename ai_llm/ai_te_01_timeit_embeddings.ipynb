{
 "cells": [
  {
   "cell_type": "code",
   "execution_count": 30,
   "metadata": {},
   "outputs": [],
   "source": [
    "# !pip install -U sentence-transformers lorem_text"
   ]
  },
  {
   "cell_type": "markdown",
   "metadata": {},
   "source": [
    "# Text Embedding Benchmark"
   ]
  },
  {
   "cell_type": "code",
   "execution_count": 1,
   "metadata": {},
   "outputs": [],
   "source": [
    "import time\n",
    "from lorem_text import lorem\n",
    "from sentence_transformers import SentenceTransformer"
   ]
  },
  {
   "cell_type": "code",
   "execution_count": null,
   "metadata": {},
   "outputs": [],
   "source": [
    "model_name = 'all-MiniLM-L6-v2'"
   ]
  },
  {
   "cell_type": "markdown",
   "metadata": {},
   "source": [
    "**Lorem dummy data**"
   ]
  },
  {
   "cell_type": "code",
   "execution_count": 2,
   "metadata": {},
   "outputs": [
    {
     "data": {
      "text/plain": [
       "500"
      ]
     },
     "execution_count": 2,
     "metadata": {},
     "output_type": "execute_result"
    }
   ],
   "source": [
    "n = 500\n",
    "descriptions = lorem.paragraphs(n).split('\\n')\n",
    "docs = [desc for k, desc in enumerate(descriptions)]\n",
    "len(docs)"
   ]
  },
  {
   "cell_type": "markdown",
   "metadata": {},
   "source": [
    "**None device specified**"
   ]
  },
  {
   "cell_type": "code",
   "execution_count": null,
   "metadata": {},
   "outputs": [],
   "source": [
    "model = SentenceTransformer (model_name)\n",
    "\n",
    "start = time.time()\n",
    "embeddings = model.encode(docs, show_progress_bar=True)\n",
    "end = time.time()\n",
    "execution_time = end - start\n",
    "execution_time_default = round(execution_time, 2)\n",
    "print (f\"Encoding using DEFAULT completed in {execution_time_default} seconds.\")"
   ]
  },
  {
   "cell_type": "markdown",
   "metadata": {
    "execution": {
     "iopub.execute_input": "2023-08-08T11:37:49.316920Z",
     "iopub.status.busy": "2023-08-08T11:37:49.316602Z",
     "iopub.status.idle": "2023-08-08T11:37:49.355685Z",
     "shell.execute_reply": "2023-08-08T11:37:49.354145Z",
     "shell.execute_reply.started": "2023-08-08T11:37:49.316891Z"
    }
   },
   "source": [
    "**Traditional CPU:**"
   ]
  },
  {
   "cell_type": "code",
   "execution_count": null,
   "metadata": {},
   "outputs": [],
   "source": [
    "model = SentenceTransformer (model_name, device='cpu')\n",
    "\n",
    "start = time.time()\n",
    "embeddings = model.encode(docs, show_progress_bar=True)\n",
    "end = time.time()\n",
    "execution_time = end - start\n",
    "execution_time_cpu = round(execution_time, 2)\n",
    "print (f\"Encoding using CPU completed in {execution_time_cpu} seconds.\")\n"
   ]
  },
  {
   "cell_type": "markdown",
   "metadata": {},
   "source": [
    "**GPU**"
   ]
  },
  {
   "cell_type": "code",
   "execution_count": null,
   "metadata": {},
   "outputs": [],
   "source": [
    "model = SentenceTransformer (model_name, device= 'cuda')\n",
    "\n",
    "start = time.time()\n",
    "embeddings = model.encode(docs, show_progress_bar=True)\n",
    "end = time.time()\n",
    "execution_time = end - start\n",
    "execution_time_gpu = round(execution_time, 2)\n",
    "print (f\"Encoding using GPU completed in {execution_time_gpu} seconds.\")"
   ]
  },
  {
   "cell_type": "markdown",
   "metadata": {},
   "source": [
    "**Table Summary:**"
   ]
  },
  {
   "cell_type": "code",
   "execution_count": 20,
   "metadata": {},
   "outputs": [
    {
     "name": "stdout",
     "output_type": "stream",
     "text": [
      "DEFAULT:  0.66\n",
      "CPU:  32.67\n",
      "GPU:  0.65\n"
     ]
    }
   ],
   "source": [
    "print (\"DEFAULT: \", format (round (execution_time_default, 2)))\n",
    "print (\"CPU: \", format (round (execution_time_cpu, 2)))\n",
    "print (\"GPU: \", format (round (execution_time_gpu, 2)))"
   ]
  },
  {
   "cell_type": "code",
   "execution_count": null,
   "metadata": {},
   "outputs": [],
   "source": []
  }
 ],
 "metadata": {
  "kernelspec": {
   "display_name": "Python 3 (ipykernel)",
   "language": "python",
   "name": "python3"
  },
  "language_info": {
   "codemirror_mode": {
    "name": "ipython",
    "version": 3
   },
   "file_extension": ".py",
   "mimetype": "text/x-python",
   "name": "python",
   "nbconvert_exporter": "python",
   "pygments_lexer": "ipython3",
   "version": "3.11.5"
  }
 },
 "nbformat": 4,
 "nbformat_minor": 4
}
