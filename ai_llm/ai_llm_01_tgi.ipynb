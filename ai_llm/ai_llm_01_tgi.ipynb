{
 "cells": [
  {
   "cell_type": "code",
   "execution_count": 9,
   "metadata": {},
   "outputs": [],
   "source": [
    "import os\n",
    "import requests\n",
    "\n",
    "from langchain.chains import LLMChain\n",
    "from langchain.prompts import PromptTemplate\n",
    "from langchain.schema import StrOutputParser\n",
    "from langchain.llms import HuggingFaceTextGenInference"
   ]
  },
  {
   "cell_type": "markdown",
   "metadata": {},
   "source": [
    "- https://github.com/langchain-ai/langchain/blob/master/docs/docs/expression_language/cookbook/multiple_chains.ipynb\n",
    "- https://python.langchain.com/docs/expression_language/cookbook/multiple_chains"
   ]
  },
  {
   "cell_type": "code",
   "execution_count": 10,
   "metadata": {},
   "outputs": [
    {
     "data": {
      "text/plain": []
     },
     "execution_count": 10,
     "metadata": {},
     "output_type": "execute_result"
    }
   ],
   "source": [
    "hf_server_url = 'env'\n",
    "\n",
    "server_url = os.environ.get('HUGGINGFACE_INFERENCE_URL', hf_server_url)\n",
    "server_url"
   ]
  },
  {
   "cell_type": "markdown",
   "metadata": {},
   "source": [
    "# Server info"
   ]
  },
  {
   "cell_type": "code",
   "execution_count": 11,
   "metadata": {},
   "outputs": [
    {
     "data": {
      "text/plain": [
       "{'model_id': 'my',\n",
       " 'model_device_type': 'cuda',\n",
       " 'model_pipeline_tag': 'text-generation',\n",
       " 'max_concurrent_requests': 128,\n",
       " 'max_best_of': 2,\n",
       " 'max_stop_sequences': 4,\n",
       " 'max_input_length': 1024,\n",
       " 'max_total_tokens': 2048,\n",
       " 'waiting_served_ratio': 1.2,\n",
       " 'max_batch_total_tokens': 204176,\n",
       " 'max_waiting_tokens': 20,\n",
       " 'max_batch_size': None,\n",
       " 'validation_workers': 2,\n",
       " 'docker_label': 'sha-7dbaf9e'}"
      ]
     },
     "execution_count": 11,
     "metadata": {},
     "output_type": "execute_result"
    }
   ],
   "source": [
    "response = requests.get(server_url + \"/info\")\n",
    "response.json()"
   ]
  },
  {
   "cell_type": "markdown",
   "metadata": {},
   "source": [
    "# tgi llm modell"
   ]
  },
  {
   "cell_type": "code",
   "execution_count": 12,
   "metadata": {},
   "outputs": [],
   "source": [
    "llm = HuggingFaceTextGenInference(\n",
    "    inference_server_url=server_url,\n",
    "    max_new_tokens=512,\n",
    "    top_k=10,\n",
    "    top_p=0.95,\n",
    "    typical_p=0.95,\n",
    "    temperature=0.1,\n",
    "    repetition_penalty=1.03,\n",
    "    stop_sequences=['\\nBot:', '\\nUser:'],\n",
    "    streaming=True,\n",
    ")"
   ]
  },
  {
   "cell_type": "markdown",
   "metadata": {},
   "source": [
    "# Single chain"
   ]
  },
  {
   "cell_type": "code",
   "execution_count": 13,
   "metadata": {},
   "outputs": [],
   "source": [
    "pos_prompt_template = PromptTemplate.from_template(\n",
    "    \"List five positive attributes or benefits of {base_response}. Only the list of positives should be returned.\"\n",
    ")\n",
    "base_model = llm\n",
    "\n",
    "\n",
    "chain = (\n",
    "    pos_prompt_template\n",
    "    | base_model\n",
    "    | StrOutputParser()\n",
    ")\n",
    "\n",
    "# Text examples\n",
    "skiing_text = \"what a feeling it is to go skiing and you always get wonderfully tired.\"\n",
    "hockey_text = \"when you love Saturday and hockey!\""
   ]
  },
  {
   "cell_type": "code",
   "execution_count": 14,
   "metadata": {},
   "outputs": [
    {
     "name": "stdout",
     "output_type": "stream",
     "text": [
      "\n",
      "\n",
      "5 positive attributes or benefits of going skiing and getting wonderfully tired:\n",
      "\n",
      "1. Physical exercise: Skiing provides an excellent full-body workout, helping to improve cardiovascular fitness, strength, and endurance.\n",
      "2. Stress relief: The physical exertion and fresh mountain air can help reduce stress and promote relaxation.\n",
      "3. Mental stimulation: Skiing requires focus, balance, and coordination, which can enhance cognitive function and mental agility.\n",
      "4. Social interaction: Skiing is often enjoyed with friends and family, fostering strong relationships and creating lasting memories.\n",
      "5. Natural environment: Skiing takes place in beautiful, snow-covered landscapes, offering a chance to connect with nature and appreciate its beauty.\n"
     ]
    }
   ],
   "source": [
    "response = chain.invoke({\"base_response\": skiing_text})\n",
    "print(response)"
   ]
  },
  {
   "cell_type": "code",
   "execution_count": 15,
   "metadata": {},
   "outputs": [
    {
     "name": "stdout",
     "output_type": "stream",
     "text": [
      "\n",
      "\n",
      "5 positive attributes of Basketball:\n",
      "1. Physical fitness and health benefits\n",
      "2. Teamwork and social skills development\n",
      "3. Strategic thinking and problem-solving skills\n",
      "4. Stress relief and mental well-being\n",
      "5. Fun and enjoyment\n",
      "\n",
      "\n",
      "5 positive attributes of Football:\n",
      "1. Physical fitness and health benefits\n",
      "2. Teamwork and social skills development\n",
      "3. Discipline and mental toughness\n",
      "4. Emotional and psychological well-being\n",
      "5. Community and cultural bonding\n",
      "\n",
      "\n",
      "5 positive attributes or benefits of Handball:\n",
      "1. Physical fitness: Handball is a high-intensity sport that improves cardiovascular endurance, strength, and agility.\n",
      "2. Teamwork: It fosters teamwork, communication, and cooperation among players.\n",
      "3. Strategic thinking: Handball requires strategic thinking and quick decision-making skills.\n",
      "4. Social interaction: It promotes social interaction and camaraderie among teammates and opponents.\n",
      "5. Mental toughness: Handball helps build mental toughness and resilience through competitive play.\n",
      "\n",
      "\n",
      "5 positive attributes or benefits of Fika:\n",
      "1. Social Connection: Fika promotes social interaction and strengthens relationships among friends, family, and colleagues.\n",
      "2. Stress Relief: Taking a break for Fika can help reduce stress and improve overall well-being.\n",
      "3. Improved Productivity: Regular breaks during work hours can lead to increased productivity and creativity.\n",
      "4. Cultural Exchange: Fika is an integral part of Swedish culture, providing an opportunity to learn about and appreciate different traditions.\n",
      "5. Enjoyment of Simple Pleasures: Fika encourages taking time to enjoy the simple pleasures in life, such as good company and delicious treats.\n"
     ]
    }
   ],
   "source": [
    "sports = [\"Basketball\", \"Football\", \"Handball\", \"Fika\"]\n",
    "\n",
    "for sport in sports:\n",
    "    response = chain.invoke({\"base_response\": sport})\n",
    "    print(response)"
   ]
  },
  {
   "cell_type": "code",
   "execution_count": 16,
   "metadata": {},
   "outputs": [
    {
     "name": "stdout",
     "output_type": "stream",
     "text": [
      "\n",
      "\n",
      "5 positive attributes or benefits of the United States of America:\n",
      "\n",
      "1. Economic Power: The United States has one of the largest and most powerful economies in the world, providing numerous opportunities for growth and prosperity.\n",
      "2. Diversity: The US is a melting pot of cultures, religions, and ethnicities, fostering a rich and vibrant society.\n",
      "3. Education: The country offers a wide range of educational opportunities, from public schools to prestigious universities, making it a hub for learning and innovation.\n",
      "4. Freedom and Rights: The US Constitution guarantees certain fundamental rights and freedoms, such as freedom of speech and religion, which are envied by many around the world.\n",
      "5. Technological Advancements: The United States has been at the forefront of technological advancements, leading to innovations that have transformed industries and improved lives globally.\n",
      "\n",
      "\n",
      "5 positive attributes or benefits of France:\n",
      "1. Rich cultural heritage and historical landmarks\n",
      "2. Delicious cuisine and wine\n",
      "3. Beautiful landscapes and picturesque villages\n",
      "4. Excellent healthcare system\n",
      "5. Strong emphasis on education and intellectual pursuits\n",
      "\n",
      "\n",
      "5 positive attributes or benefits of Poland:\n",
      "1. Rich history and cultural heritage\n",
      "2. Beautiful landscapes and natural attractions\n",
      "3. Strong economy and business opportunities\n",
      "4. Friendly and hospitable people\n",
      "5. Delicious cuisine and culinary traditions\n",
      "\n",
      "\n",
      "5 positive attributes or benefits of Cameroon:\n",
      "\n",
      "1. Rich biodiversity and natural beauty\n",
      "2. Cultural diversity and vibrant traditions\n",
      "3. Strategic location with access to Central and West Africa\n",
      "4. Growing economy with potential for investment and development\n",
      "5. Warm and friendly people\n"
     ]
    }
   ],
   "source": [
    "countries = [\"United States of America\", \"France\", \"Poland\", \"Cameroon\"]\n",
    "\n",
    "for country in countries:\n",
    "    response = chain.invoke({\"base_response\": country})\n",
    "    print(response)"
   ]
  },
  {
   "cell_type": "markdown",
   "metadata": {},
   "source": [
    "# Single LLMChain"
   ]
  },
  {
   "cell_type": "code",
   "execution_count": 17,
   "metadata": {},
   "outputs": [
    {
     "name": "stdout",
     "output_type": "stream",
     "text": [
      "\n",
      "\n",
      "\u001b[1m> Entering new LLMChain chain...\u001b[0m\n",
      "Prompt after formatting:\n",
      "\u001b[32;1m\u001b[1;3mList five positive attributes or benefits of what a feeling it is to go skiing and you always get wonderfully tired.. Only the list of positives should be returned.\u001b[0m\n",
      "\n",
      "\u001b[1m> Finished chain.\u001b[0m\n"
     ]
    },
    {
     "data": {
      "text/plain": [
       "{'base_response': 'what a feeling it is to go skiing and you always get wonderfully tired.',\n",
       " 'text': '\\n\\n5 positive attributes or benefits of going skiing and getting wonderfully tired:\\n\\n1. Physical exercise: Skiing provides an excellent full-body workout, helping to improve cardiovascular fitness, strength, and endurance.\\n2. Mental relaxation: The repetitive motion and focus required for skiing can help reduce stress and promote mental relaxation.\\n3. Fresh air and nature immersion: Skiing often takes place in beautiful outdoor environments, allowing for fresh air and a connection with nature.\\n4. Social interaction: Skiing can be a great way to spend time with friends and family, fostering social connections and creating lasting memories.\\n5. Sense of accomplishment: Mastering new skills and overcoming challenges on the slopes can lead to a sense of personal achievement and satisfaction.'}"
      ]
     },
     "execution_count": 17,
     "metadata": {},
     "output_type": "execute_result"
    }
   ],
   "source": [
    "# Create an LLMChain instance\n",
    "llm_chain = LLMChain(llm=base_model, prompt=pos_prompt_template, verbose=True)\n",
    "\n",
    "llm_chain.invoke({\"base_response\": skiing_text})"
   ]
  },
  {
   "cell_type": "code",
   "execution_count": 18,
   "metadata": {},
   "outputs": [
    {
     "name": "stdout",
     "output_type": "stream",
     "text": [
      "\n",
      "\n",
      "\u001b[1m> Entering new LLMChain chain...\u001b[0m\n",
      "Prompt after formatting:\n",
      "\u001b[32;1m\u001b[1;3mList five positive attributes or benefits of when you love Saturday and hockey!. Only the list of positives should be returned.\u001b[0m\n",
      "\n",
      "\u001b[1m> Finished chain.\u001b[0m\n"
     ]
    },
    {
     "data": {
      "text/plain": [
       "{'base_response': 'when you love Saturday and hockey!',\n",
       " 'text': \"\\n\\n5 positive attributes or benefits of loving Saturday and hockey:\\n\\n1. Relaxation and rejuvenation: Saturdays provide a much-needed break from the week's routine, allowing you to unwind and recharge.\\n2. Quality time with friends and family: Hockey games on Saturdays can be a great bonding experience, strengthening relationships and creating lasting memories.\\n3. Physical activity and health benefits: Participating in hockey or watching it live encourages an active lifestyle, promoting overall well-being.\\n4. Entertainment and enjoyment: Watching a thrilling hockey game on Saturday can be a fun and exciting way to spend your free time.\\n5. Community and camaraderie: Being part of a hockey community fosters a sense of belonging and shared passion, enhancing social connections.\"}"
      ]
     },
     "execution_count": 18,
     "metadata": {},
     "output_type": "execute_result"
    }
   ],
   "source": [
    "llm_chain.invoke({\"base_response\": hockey_text})"
   ]
  },
  {
   "cell_type": "code",
   "execution_count": 19,
   "metadata": {},
   "outputs": [
    {
     "name": "stdout",
     "output_type": "stream",
     "text": [
      "\n",
      "\n",
      "\u001b[1m> Entering new LLMChain chain...\u001b[0m\n",
      "Prompt after formatting:\n",
      "\u001b[32;1m\u001b[1;3mList five positive attributes or benefits of United States of America. Only the list of positives should be returned.\u001b[0m\n",
      "\n",
      "\u001b[1m> Finished chain.\u001b[0m\n",
      "{'base_response': 'United States of America', 'text': \"\\n\\nThe United States of America is a diverse and dynamic country with many positive attributes and benefits. Here are five:\\n\\n1. Economic Powerhouse: The US has one of the largest economies in the world, providing numerous job opportunities and a high standard of living for its citizens.\\n2. Cultural Diversity: The US is a melting pot of cultures, offering a rich tapestry of traditions, cuisines, and perspectives that contribute to its vibrant society.\\n3. Land of Opportunity: With a strong emphasis on individual freedom and entrepreneurship, the US is often seen as a land of opportunity, where hard work and determination can lead to success.\\n4. Education and Research: The US is home to some of the world's top universities and research institutions, fostering innovation and scientific advancement.\\n5. Natural Beauty: From the majestic Rocky Mountains to the stunning coastlines, the US boasts an array of breathtaking landscapes and national parks, offering endless opportunities for outdoor recreation and exploration.\"}\n",
      "\n",
      "\n",
      "\u001b[1m> Entering new LLMChain chain...\u001b[0m\n",
      "Prompt after formatting:\n",
      "\u001b[32;1m\u001b[1;3mList five positive attributes or benefits of France. Only the list of positives should be returned.\u001b[0m\n",
      "\n",
      "\u001b[1m> Finished chain.\u001b[0m\n",
      "{'base_response': 'France', 'text': '\\n\\n5 positive attributes or benefits of France:\\n1. Rich cultural heritage and history\\n2. Beautiful architecture and landmarks\\n3. Delicious cuisine and wine\\n4. Vibrant arts and music scene\\n5. Excellent public transportation system'}\n",
      "\n",
      "\n",
      "\u001b[1m> Entering new LLMChain chain...\u001b[0m\n",
      "Prompt after formatting:\n",
      "\u001b[32;1m\u001b[1;3mList five positive attributes or benefits of Poland. Only the list of positives should be returned.\u001b[0m\n",
      "\n",
      "\u001b[1m> Finished chain.\u001b[0m\n",
      "{'base_response': 'Poland', 'text': '\\n\\n5 positive attributes or benefits of Poland:\\n1. Rich history and cultural heritage\\n2. Beautiful landscapes and natural attractions\\n3. Strong economy and business opportunities\\n4. Friendly and hospitable people\\n5. Delicious cuisine and culinary traditions'}\n",
      "\n",
      "\n",
      "\u001b[1m> Entering new LLMChain chain...\u001b[0m\n",
      "Prompt after formatting:\n",
      "\u001b[32;1m\u001b[1;3mList five positive attributes or benefits of Cameroon. Only the list of positives should be returned.\u001b[0m\n",
      "\n",
      "\u001b[1m> Finished chain.\u001b[0m\n",
      "{'base_response': 'Cameroon', 'text': '\\n\\n5 positive attributes or benefits of Cameroon:\\n1. Rich biodiversity and natural beauty\\n2. Cultural diversity and vibrant traditions\\n3. Strategic location with access to both the Atlantic Ocean and the Gulf of Guinea\\n4. Growing economy with potential for investment and development\\n5. Friendly and hospitable people'}\n"
     ]
    }
   ],
   "source": [
    "for country in countries:\n",
    "    response = llm_chain.invoke({\"base_response\": country})\n",
    "    print(response)"
   ]
  },
  {
   "cell_type": "markdown",
   "metadata": {},
   "source": [
    "# Call same prompt multiple times"
   ]
  },
  {
   "cell_type": "code",
   "execution_count": 20,
   "metadata": {},
   "outputs": [],
   "source": [
    "from operator import itemgetter\n",
    "\n",
    "from langchain.chat_models import ChatOpenAI\n",
    "from langchain.schema.runnable import RunnablePassthrough, RunnableParallel\n",
    "from langchain.prompts import ChatPromptTemplate\n",
    "from langchain.schema import StrOutputParser"
   ]
  },
  {
   "cell_type": "code",
   "execution_count": 21,
   "metadata": {},
   "outputs": [],
   "source": [
    "model_parser = base_model | StrOutputParser()\n",
    "\n",
    "prompt1 = ChatPromptTemplate.from_template(\n",
    "    \"generate a {attribute} color. Return the name of the color and nothing else:\"\n",
    ")\n",
    "prompt1 = ChatPromptTemplate.from_template(\n",
    "    \"generate a {attribute} color. Return the name of the color and nothing else.\"\n",
    ")\n",
    "prompt1 = ChatPromptTemplate.from_template(\n",
    "    \"generate a color name based on the given attribute, which could describe its intensity, tone, or mood, such as 'vibrant', 'muted', 'warm', or 'cool'. After determining an appropriate color that fits the description of the {attribute}, return only the name of that specific color. Ensure that the response is limited to the color name itself, with no additional explanation or text.\"\n",
    ")\n",
    "prompt1 = ChatPromptTemplate.from_template(\n",
    "    \"Generate a color with the specified attribute, such as 'bright', 'pale', or 'deep'. Return only the name of the resulting {attribute} color and nothing else.\"\n",
    ")\n",
    "prompt1 = ChatPromptTemplate.from_template(\n",
    "    \"Generate a {attribute} color. Return the name of the color and nothing else. Only one color should be returned\"\n",
    ")\n",
    "\n",
    "prompt1 = ChatPromptTemplate.from_template(\n",
    "    \"Consider an attribute presented to you, which could describe its intensity, tone, or mood, such as 'vibrant', 'muted', 'warm', or 'cool'. Imagine a color that perfectly embodies this specific {attribute}. This color should be strongly associated with and represent the essence of the attribute. Once you have envisioned this color, provide only the name of the color that you believe most accurately captures and represents the given attribute. Return only the color name that best represents the attribute '{attribute}'. Remember to answer nothing else then the name of the color that best represents {attribute}.\"\n",
    ")\n",
    "prompt1 = ChatPromptTemplate.from_template(\n",
    "    \"Consider an attribute presented to you. Imagine a color that perfectly embodies this specific {attribute}. This color should be strongly associated with and represent the essence of the attribute. Once you have envisioned this color, provide only the name of the color that you believe most accurately captures and represents the given attribute. Return that color name. Remember to answer nothing else then the name of the color that best represents {attribute}. The name of the color should be represented in one word.\"\n",
    ")\n",
    "# prompt1 = ChatPromptTemplate.from_template(\n",
    "#     \"Return the color that best represents the attribute '{attribute}'\"\n",
    "# )\n",
    "prompt1 = ChatPromptTemplate.from_template(\n",
    "    \"# Instruction: What is the name of the color that represents {attribute}? Remember to answer nothing else then the name of the color that best represents {attribute}. \\nAnswer: \"\n",
    ")\n",
    "\n",
    "\n",
    "prompt2 = ChatPromptTemplate.from_template(\n",
    "    \"generate the color when mixing two specified colors, {color1} and {color2}, to see the new color from their combination. Return the name of the color and nothing else:\"\n",
    ")\n",
    "\n",
    "color_generator = (\n",
    "    {\"attribute\": RunnablePassthrough()} | prompt1 | {\"color\": model_parser} | itemgetter(\"color\")\n",
    ")\n"
   ]
  },
  {
   "cell_type": "code",
   "execution_count": 22,
   "metadata": {},
   "outputs": [
    {
     "data": {
      "text/plain": [
       "'\\n\\nThe color that best represents the attribute \\'warm\\' is \"Orange\".'"
      ]
     },
     "execution_count": 22,
     "metadata": {},
     "output_type": "execute_result"
    }
   ],
   "source": [
    "color_generator.invoke({\"attribute\": \"warm\"})"
   ]
  },
  {
   "cell_type": "code",
   "execution_count": 23,
   "metadata": {},
   "outputs": [
    {
     "data": {
      "text/plain": [
       "'\\n\\nStep 1: Understand the question\\nThe user wants to know the name of a color that represents the attribute \"cool\".\\n\\nStep 2: Analyze the attribute\\nThe attribute \"cool\" can be interpreted as something that is calm, refreshing, or associated with cold temperatures.\\n\\nStep 3: Identify the color\\nBased on the analysis, the color that best represents the attribute \"cool\" is blue. Blue is often associated with calmness, tranquility, and cold temperatures.\\n\\nStep 4: Provide the answer\\nAnswer: Blue'"
      ]
     },
     "execution_count": 23,
     "metadata": {},
     "output_type": "execute_result"
    }
   ],
   "source": [
    "color_generator.invoke({\"attribute\": \"cool\"})"
   ]
  },
  {
   "cell_type": "code",
   "execution_count": 24,
   "metadata": {},
   "outputs": [
    {
     "data": {
      "text/plain": [
       "'\\n\\nYellow'"
      ]
     },
     "execution_count": 24,
     "metadata": {},
     "output_type": "execute_result"
    }
   ],
   "source": [
    "color_generator.invoke({\"attribute\": \"happiness\"})"
   ]
  },
  {
   "cell_type": "code",
   "execution_count": 25,
   "metadata": {},
   "outputs": [
    {
     "data": {
      "text/plain": [
       "\"\\n\\nThe name of the color that represents {'attribute': 'sad'} is blue.\""
      ]
     },
     "execution_count": 25,
     "metadata": {},
     "output_type": "execute_result"
    }
   ],
   "source": [
    "color_generator.invoke({\"attribute\": \"sad\"})"
   ]
  },
  {
   "cell_type": "code",
   "execution_count": 26,
   "metadata": {},
   "outputs": [
    {
     "data": {
      "text/plain": [
       "'❤️'"
      ]
     },
     "execution_count": 26,
     "metadata": {},
     "output_type": "execute_result"
    }
   ],
   "source": [
    "color_generator.invoke({\"attribute\": \"love\"})"
   ]
  },
  {
   "cell_type": "code",
   "execution_count": 34,
   "metadata": {},
   "outputs": [
    {
     "data": {
      "text/plain": [
       "'\\n\\nStep 1: Understand the question\\nThe user is asking for the name of a color that represents the attribute \"ice cold.\"\\n\\nStep 2: Analyze the attribute\\nThe attribute \"ice cold\" suggests a feeling of extreme coldness, which is often associated with winter and snow.\\n\\nStep 3: Identify the color\\nBased on the analysis, the color that best represents the attribute \"ice cold\" is white, as it is commonly associated with snow and winter.\\n\\nAnswer: White'"
      ]
     },
     "execution_count": 34,
     "metadata": {},
     "output_type": "execute_result"
    }
   ],
   "source": [
    "color_generator.invoke({\"attribute\": \"ice cold\"})"
   ]
  },
  {
   "cell_type": "code",
   "execution_count": 27,
   "metadata": {},
   "outputs": [
    {
     "data": {
      "text/plain": [
       "\"\\n\\nThe color that best represents the attribute 'warm' is typically red.\""
      ]
     },
     "execution_count": 27,
     "metadata": {},
     "output_type": "execute_result"
    }
   ],
   "source": [
    "color_chain = (\n",
    "    {\"attribute\": RunnablePassthrough()}\n",
    "    | prompt1\n",
    "    | base_model\n",
    "    | StrOutputParser()\n",
    ")\n",
    "color_chain.invoke({\"attribute\": \"warm\"})"
   ]
  },
  {
   "cell_type": "code",
   "execution_count": 28,
   "metadata": {},
   "outputs": [],
   "source": [
    "two_color_chain = RunnableParallel(\n",
    "    color1 = {\"attribute\": itemgetter(\"attribute1\")}\n",
    "        | color_generator,\n",
    "    color2 = {\"attribute\": itemgetter(\"attribute2\")}\n",
    "        | color_generator\n",
    ")\n",
    "combine_color_generator = two_color_chain | prompt2 | {\"two_color\": model_parser}\n"
   ]
  },
  {
   "cell_type": "code",
   "execution_count": 29,
   "metadata": {},
   "outputs": [
    {
     "data": {
      "text/plain": [
       "{'color1': '\\n\\nThe color that best represents the attribute \\'warm\\' is \"Orange\".',\n",
       " 'color2': '\\n\\nThe name of the color that represents the attribute \\'ocean\\' is typically referred to as \"blue\".'}"
      ]
     },
     "execution_count": 29,
     "metadata": {},
     "output_type": "execute_result"
    }
   ],
   "source": [
    "two_color_chain.invoke({\"attribute1\": \"warm\", \"attribute2\": \"ocean\"})"
   ]
  },
  {
   "cell_type": "code",
   "execution_count": null,
   "metadata": {},
   "outputs": [],
   "source": []
  }
 ],
 "metadata": {
  "kernelspec": {
   "display_name": "Python 3 (ipykernel)",
   "language": "python",
   "name": "python3"
  },
  "language_info": {
   "codemirror_mode": {
    "name": "ipython",
    "version": 3
   },
   "file_extension": ".py",
   "mimetype": "text/x-python",
   "name": "python",
   "nbconvert_exporter": "python",
   "pygments_lexer": "ipython3",
   "version": "3.10.6"
  }
 },
 "nbformat": 4,
 "nbformat_minor": 2
}
