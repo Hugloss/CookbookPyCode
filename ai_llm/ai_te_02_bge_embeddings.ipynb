{
 "cells": [
  {
   "cell_type": "code",
   "execution_count": 3,
   "id": "69e73932-480f-4807-abd1-d65e9c6eebcf",
   "metadata": {},
   "outputs": [],
   "source": [
    "# !pip install -U FlagEmbedding sentence_transformers"
   ]
  },
  {
   "cell_type": "code",
   "execution_count": 4,
   "id": "b2c10f18-602e-46c4-8898-500ead250edd",
   "metadata": {},
   "outputs": [],
   "source": [
    "from FlagEmbedding import FlagModel"
   ]
  },
  {
   "cell_type": "code",
   "execution_count": 5,
   "id": "055587c9-11dd-452c-b9cf-4fa45e11bcf9",
   "metadata": {},
   "outputs": [],
   "source": [
    "model_name = 'BAAI/bge-small-en-v1.5'"
   ]
  },
  {
   "cell_type": "markdown",
   "id": "9dfe0a1d-8069-4f7e-be95-9f270f9f2f7d",
   "metadata": {},
   "source": [
    "**Prepare data**"
   ]
  },
  {
   "cell_type": "code",
   "execution_count": 6,
   "id": "3e2b25e1-8934-438b-83a2-f4b392298521",
   "metadata": {},
   "outputs": [],
   "source": [
    "doc1 = 'I walked with the dog'\n",
    "doc2 = 'I feed the cat'\n",
    "doc3 = 'I ate burger to lunch'\n",
    "doc4 = 'I took a coffé and chocolate'\n",
    "\n",
    "sentences_1 = [doc1, doc2]\n",
    "sentences_2 = [doc3, doc4]"
   ]
  },
  {
   "cell_type": "markdown",
   "id": "2c9f4ddc-789b-4ddc-91d3-e8a972cc3400",
   "metadata": {},
   "source": [
    "# Using FlagEmbedding"
   ]
  },
  {
   "cell_type": "code",
   "execution_count": 18,
   "id": "0222b0c5-555d-430d-8917-41cbbda8d42b",
   "metadata": {},
   "outputs": [],
   "source": [
    "model = FlagModel(model_name,\n",
    "                  query_instruction_for_retrieval=\"Represent this sentence for searching relevant passages:\",\n",
    "                  use_fp16=True)"
   ]
  },
  {
   "cell_type": "code",
   "execution_count": 8,
   "id": "1a37ba43-e364-4a8e-9dc9-2d249973b1f0",
   "metadata": {},
   "outputs": [
    {
     "name": "stdout",
     "output_type": "stream",
     "text": [
      "similarity of doc1 to doc2:\n",
      "0.6212703\n",
      "similarity of doc3 to doc4:\n",
      "0.69927436\n",
      "similarity of doc1 to doc3:\n",
      "0.6102983\n",
      "similarity of doc1 to doc4:\n",
      "0.6857992\n"
     ]
    }
   ],
   "source": [
    "embeddings_1 = model.encode(doc1)\n",
    "embeddings_2 = model.encode(doc2)\n",
    "embeddings_3 = model.encode(doc3)\n",
    "embeddings_4 = model.encode(doc4)\n",
    "\n",
    "similarity = embeddings_1 @ embeddings_2.T\n",
    "print(\"similarity of doc1 to doc2:\")\n",
    "print(similarity)\n",
    "similarity = embeddings_3 @ embeddings_4.T\n",
    "print(\"similarity of doc3 to doc4:\")\n",
    "print(similarity)\n",
    "similarity = embeddings_1 @ embeddings_3.T\n",
    "print(\"similarity of doc1 to doc3:\")\n",
    "print(similarity)\n",
    "similarity = embeddings_1 @ embeddings_4.T\n",
    "print(\"similarity of doc1 to doc4:\")\n",
    "print(similarity)"
   ]
  },
  {
   "cell_type": "code",
   "execution_count": 9,
   "id": "d6aae722-48d1-4b0c-8f7d-31da5a646bc2",
   "metadata": {},
   "outputs": [
    {
     "name": "stdout",
     "output_type": "stream",
     "text": [
      "[[0.6102983  0.6857991 ]\n",
      " [0.64514744 0.6762895 ]]\n"
     ]
    }
   ],
   "source": [
    "embeddings_1 = model.encode(sentences_1)\n",
    "embeddings_2 = model.encode(sentences_2)\n",
    "similarity = embeddings_1 @ embeddings_2.T\n",
    "print(similarity)"
   ]
  },
  {
   "cell_type": "markdown",
   "id": "10421373-d381-41b7-80f9-589b91039129",
   "metadata": {},
   "source": [
    "# Using Sentence-Transformers"
   ]
  },
  {
   "cell_type": "code",
   "execution_count": 10,
   "id": "e242d472",
   "metadata": {},
   "outputs": [],
   "source": [
    "from sentence_transformers import SentenceTransformer"
   ]
  },
  {
   "cell_type": "code",
   "execution_count": 24,
   "id": "0149081f",
   "metadata": {},
   "outputs": [],
   "source": [
    "model = SentenceTransformer(model_name)"
   ]
  },
  {
   "cell_type": "code",
   "execution_count": 16,
   "id": "079838b9-5e5c-4e50-9b21-fceb1d427025",
   "metadata": {},
   "outputs": [
    {
     "name": "stdout",
     "output_type": "stream",
     "text": [
      "similarity of doc1 to doc2:\n",
      "0.62127036\n",
      "similarity of doc3 to doc4:\n",
      "0.6992743\n",
      "similarity of doc1 to doc3:\n",
      "0.61029816\n",
      "similarity of doc1 to doc4:\n",
      "0.6857992\n"
     ]
    }
   ],
   "source": [
    "embeddings_1 = model.encode(doc1, normalize_embeddings=True)\n",
    "embeddings_2 = model.encode(doc2, normalize_embeddings=True)\n",
    "embeddings_3 = model.encode(doc3, normalize_embeddings=True)\n",
    "embeddings_4 = model.encode(doc4, normalize_embeddings=True)\n",
    "\n",
    "similarity = embeddings_1 @ embeddings_2.T\n",
    "print(\"similarity of doc1 to doc2:\")\n",
    "print(similarity)\n",
    "similarity = embeddings_3 @ embeddings_4.T\n",
    "print(\"similarity of doc3 to doc4:\")\n",
    "print(similarity)\n",
    "similarity = embeddings_1 @ embeddings_3.T\n",
    "print(\"similarity of doc1 to doc3:\")\n",
    "print(similarity)\n",
    "similarity = embeddings_1 @ embeddings_4.T\n",
    "print(\"similarity of doc1 to doc4:\")\n",
    "print(similarity)"
   ]
  },
  {
   "cell_type": "code",
   "execution_count": 27,
   "id": "3550e797",
   "metadata": {},
   "outputs": [
    {
     "name": "stdout",
     "output_type": "stream",
     "text": [
      "[[0.6102983  0.6857992 ]\n",
      " [0.64514744 0.67628956]]\n"
     ]
    }
   ],
   "source": [
    "embeddings_1 = model.encode(sentences_1, normalize_embeddings=True)\n",
    "embeddings_2 = model.encode(sentences_2, normalize_embeddings=True)\n",
    "similarity = embeddings_1 @ embeddings_2.T\n",
    "print(similarity)"
   ]
  },
  {
   "cell_type": "markdown",
   "id": "69f82ba0",
   "metadata": {},
   "source": [
    "**LIST EMBEDDINGS**"
   ]
  },
  {
   "cell_type": "code",
   "execution_count": 28,
   "id": "26f97880",
   "metadata": {},
   "outputs": [
    {
     "name": "stdout",
     "output_type": "stream",
     "text": [
      "[[1.0000001  0.6212704  0.61029834 0.6857991 ]\n",
      " [0.6212704  1.0000001  0.64514756 0.67628956]\n",
      " [0.61029834 0.64514756 1.         0.6992745 ]\n",
      " [0.6857991  0.67628956 0.6992745  1.        ]]\n"
     ]
    }
   ],
   "source": [
    "sentences = [doc1, doc2, doc3, doc4]\n",
    "embeddings = model.encode(sentences, normalize_embeddings=True)\n",
    "similarity = embeddings @ embeddings.T\n",
    "print(similarity)\n"
   ]
  },
  {
   "cell_type": "code",
   "execution_count": 29,
   "id": "e6ae1978",
   "metadata": {},
   "outputs": [
    {
     "name": "stdout",
     "output_type": "stream",
     "text": [
      "[[1.0000002  1.0000002  0.91963625 0.9501734  0.9380901  0.8924688\n",
      "  0.9479071  0.94965065 0.9204278  0.90476555 0.88284546 0.42250344\n",
      "  0.77583843 0.71252453 0.73855567]\n",
      " [1.0000002  1.0000002  0.91963625 0.9501734  0.9380901  0.8924688\n",
      "  0.9479071  0.94965065 0.9204278  0.90476555 0.88284546 0.42250344\n",
      "  0.77583843 0.71252453 0.73855567]\n",
      " [0.91963625 0.91963625 1.         0.8910183  0.8995117  0.84936094\n",
      "  0.88761234 0.90647984 0.87563735 0.923127   0.8867707  0.40718925\n",
      "  0.7265849  0.6905863  0.731738  ]\n",
      " [0.9501734  0.9501734  0.8910183  1.         0.92236316 0.8956665\n",
      "  0.91339517 0.9253816  0.95442617 0.86526144 0.8565476  0.43088847\n",
      "  0.78160536 0.717241   0.7427681 ]\n",
      " [0.9380901  0.9380901  0.8995117  0.92236316 0.99999994 0.8922594\n",
      "  0.92269695 0.9268213  0.9112665  0.891978   0.87388015 0.4465599\n",
      "  0.7537708  0.7129973  0.76871884]\n",
      " [0.8924688  0.8924688  0.84936094 0.8956665  0.8922594  1.0000001\n",
      "  0.8729282  0.8810704  0.8767743  0.8262595  0.8083968  0.42865402\n",
      "  0.69835794 0.74359775 0.74345946]\n",
      " [0.9479071  0.9479071  0.88761234 0.91339517 0.92269695 0.8729282\n",
      "  1.0000002  0.9863577  0.9705802  0.8906645  0.87873983 0.42038602\n",
      "  0.76247686 0.7162252  0.7319927 ]\n",
      " [0.94965065 0.94965065 0.90647984 0.9253816  0.9268213  0.8810704\n",
      "  0.9863577  1.0000001  0.96785104 0.8906517  0.8735578  0.41570884\n",
      "  0.75051725 0.7068914  0.725656  ]\n",
      " [0.9204278  0.9204278  0.87563735 0.95442617 0.9112665  0.8767743\n",
      "  0.9705802  0.96785104 1.0000001  0.8657092  0.86485386 0.4248101\n",
      "  0.7794868  0.7262713  0.74104863]\n",
      " [0.90476555 0.90476555 0.923127   0.86526144 0.891978   0.8262595\n",
      "  0.8906645  0.8906517  0.8657092  1.0000001  0.936934   0.41126272\n",
      "  0.76137036 0.7180627  0.7477267 ]\n",
      " [0.88284546 0.88284546 0.8867707  0.8565476  0.87388015 0.8083968\n",
      "  0.87873983 0.8735578  0.86485386 0.936934   1.0000001  0.41803724\n",
      "  0.7940178  0.72980237 0.7528888 ]\n",
      " [0.42250344 0.42250344 0.40718925 0.43088847 0.4465599  0.42865402\n",
      "  0.42038602 0.41570884 0.4248101  0.41126272 0.41803724 1.0000005\n",
      "  0.374925   0.41917092 0.42096034]\n",
      " [0.77583843 0.77583843 0.7265849  0.78160536 0.7537708  0.69835794\n",
      "  0.76247686 0.75051725 0.7794868  0.76137036 0.7940178  0.374925\n",
      "  1.0000001  0.84902406 0.86956924]\n",
      " [0.71252453 0.71252453 0.6905863  0.717241   0.7129973  0.74359775\n",
      "  0.7162252  0.7068914  0.7262713  0.7180627  0.72980237 0.41917092\n",
      "  0.84902406 1.0000001  0.9007786 ]\n",
      " [0.73855567 0.73855567 0.731738   0.7427681  0.76871884 0.74345946\n",
      "  0.7319927  0.725656   0.74104863 0.7477267  0.7528888  0.42096034\n",
      "  0.86956924 0.9007786  1.0000001 ]]\n"
     ]
    }
   ],
   "source": [
    "sentences = [\n",
    "    \"I love pizza\",\n",
    "    \"i love Pizza\",\n",
    "    \"i have a passion for Pizza\",\n",
    "    \"I like pizza\",\n",
    "    \"Pizza is my favorite food\",\n",
    "    \"I think pizza is yummy!\",\n",
    "    \"I love eating pizza\",\n",
    "    \"I love to eat pizza\",\n",
    "    \"I like eating pizza\",\n",
    "    \"I am obsessed with pizza\",\n",
    "    \"I am addicted to pizza\",\n",
    "    \"Uranium-235 has a half-life of 703.8 million years\",\n",
    "    \"I HATE pizza\",\n",
    "    \"Pizza is disgusting!\",\n",
    "    \"Pizza is a horrible food\",\n",
    "]\n",
    "embeddings = model.encode(sentences, normalize_embeddings=True)\n",
    "similarity = embeddings @ embeddings.T\n",
    "print(similarity)"
   ]
  },
  {
   "cell_type": "code",
   "execution_count": null,
   "id": "a68e81a3",
   "metadata": {},
   "outputs": [],
   "source": [
    "# TODO\n",
    "# Another example to calculate simularity\n",
    "# https://www.architecture-performance.fr/ap_blog/using-a-local-sentence-embedding-model-for-similarity-calculation/"
   ]
  },
  {
   "cell_type": "code",
   "execution_count": null,
   "id": "29553425",
   "metadata": {},
   "outputs": [],
   "source": []
  }
 ],
 "metadata": {
  "kernelspec": {
   "display_name": "Python 3 (ipykernel)",
   "language": "python",
   "name": "python3"
  },
  "language_info": {
   "codemirror_mode": {
    "name": "ipython",
    "version": 3
   },
   "file_extension": ".py",
   "mimetype": "text/x-python",
   "name": "python",
   "nbconvert_exporter": "python",
   "pygments_lexer": "ipython3",
   "version": "3.10.6"
  }
 },
 "nbformat": 4,
 "nbformat_minor": 5
}
